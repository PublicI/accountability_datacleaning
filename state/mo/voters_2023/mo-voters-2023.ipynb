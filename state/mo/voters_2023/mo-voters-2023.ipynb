{
 "cells": [
  {
   "cell_type": "code",
   "execution_count": 94,
   "id": "08bc3b9e",
   "metadata": {},
   "outputs": [],
   "source": [
    "import pandas as pd\n",
    "from zipfile import ZipFile\n",
    "import os\n",
    "import math\n",
    "import numpy as np\n",
    "from slugify import slugify\n",
    "# for printing dfs\n",
    "pd.options.display.max_rows = 100\n",
    "# for printing lists\n",
    "pd.options.display.max_seq_items = 50"
   ]
  },
  {
   "cell_type": "code",
   "execution_count": 59,
   "id": "263f5948",
   "metadata": {},
   "outputs": [],
   "source": [
    "# Set relative filepaths\n",
    "# Missouri voter data is obtained via public records request to the Elections Division, Office of Secretary of State\n",
    "# More info about data source can be found in the README\n",
    "\n",
    "__file__ = 'os.path.abspath('')'\n",
    "\n",
    "script_dir = os.path.dirname(__file__)\n",
    "rel_path = './data/Missouri'\n",
    "abs_file_path = os.path.join(script_dir, rel_path)"
   ]
  },
  {
   "cell_type": "code",
   "execution_count": 60,
   "id": "1dbe3be6",
   "metadata": {},
   "outputs": [],
   "source": [
    "# Show the name of the zipfile that is opened in the next step\n",
    "\n",
    "files = os.listdir(abs_file_path)"
   ]
  },
  {
   "cell_type": "code",
   "execution_count": 61,
   "id": "69321ebf",
   "metadata": {},
   "outputs": [],
   "source": [
    "# Read the zipfile\n",
    "\n",
    "voters = (files[1])\n",
    "zf = ZipFile(abs_file_path + \"/\" + voters)"
   ]
  },
  {
   "cell_type": "code",
   "execution_count": 62,
   "id": "886dfa95",
   "metadata": {},
   "outputs": [
    {
     "data": {
      "text/plain": [
       "['data\\\\PSR_VotersList_01032023_9-51-24 AM.txt']"
      ]
     },
     "execution_count": 62,
     "metadata": {},
     "output_type": "execute_result"
    }
   ],
   "source": [
    "# List files in zipfile\n",
    "\n",
    "zf.namelist()"
   ]
  },
  {
   "cell_type": "code",
   "execution_count": 63,
   "id": "e153916b",
   "metadata": {},
   "outputs": [],
   "source": [
    "# Load data into dataframe, first with no header for processing reasons\n",
    "\n",
    "voters = pd.read_csv(zf.open('data\\\\PSR_VotersList_01032023_9-51-24 AM.txt'), sep='\\t', header=None)"
   ]
  },
  {
   "cell_type": "code",
   "execution_count": 64,
   "id": "440bdd67",
   "metadata": {},
   "outputs": [],
   "source": [
    "# Now set the first row as header\n",
    "\n",
    "voters.columns = voters.iloc[0] "
   ]
  },
  {
   "cell_type": "code",
   "execution_count": 65,
   "id": "420be5da",
   "metadata": {},
   "outputs": [
    {
     "name": "stdout",
     "output_type": "stream",
     "text": [
      "<class 'pandas.core.frame.DataFrame'>\n",
      "RangeIndex: 4268188 entries, 0 to 4268187\n",
      "Data columns (total 54 columns):\n",
      " #   Column                     Dtype \n",
      "---  ------                     ----- \n",
      " 0   County                     object\n",
      " 1   Voter ID                   object\n",
      " 2   First Name                 object\n",
      " 3   Middle Name                object\n",
      " 4   Last Name                  object\n",
      " 5   Suffix                     object\n",
      " 6   House Number               object\n",
      " 7   House Suffix               object\n",
      " 8   Pre Direction              object\n",
      " 9   Street Name                object\n",
      " 10  Street Type                object\n",
      " 11  Post Direction             object\n",
      " 12  Unit Type                  object\n",
      " 13  Unit Number                object\n",
      " 14  Non Standard Address       object\n",
      " 15  Residential City           object\n",
      " 16  Residential State          object\n",
      " 17  Residential ZipCode        object\n",
      " 18  Mailing Address            object\n",
      " 19  Mailing City               object\n",
      " 20  Mailing State              object\n",
      " 21  Mailing ZipCode            object\n",
      " 22  Birthdate                  object\n",
      " 23  Political Party            object\n",
      " 24  Registration Date          object\n",
      " 25  Precinct                   object\n",
      " 26  Precinct Name              object\n",
      " 27  Split                      object\n",
      " 28  Township                   object\n",
      " 29  Ward                       object\n",
      " 30  CONGRESSIONAL DISTRICT 20  object\n",
      " 31  LEGISLATIVE DISTRICT 20    object\n",
      " 32  SENATE DISTRICT 20         object\n",
      " 33  Voter Status               object\n",
      " 34  Voter History 1            object\n",
      " 35  Voter History 2            object\n",
      " 36  Voter History 3            object\n",
      " 37  Voter History 4            object\n",
      " 38  Voter History 5            object\n",
      " 39  Voter History 6            object\n",
      " 40  Voter History 7            object\n",
      " 41  Voter History 8            object\n",
      " 42  Voter History 9            object\n",
      " 43  Voter History 10           object\n",
      " 44  Voter History 11           object\n",
      " 45  Voter History 12           object\n",
      " 46  Voter History 13           object\n",
      " 47  Voter History 14           object\n",
      " 48  Voter History 15           object\n",
      " 49  Voter History 16           object\n",
      " 50  Voter History 17           object\n",
      " 51  Voter History 18           object\n",
      " 52  Voter History 19           object\n",
      " 53  Voter History 20           object\n",
      "dtypes: object(54)\n",
      "memory usage: 1.7+ GB\n"
     ]
    }
   ],
   "source": [
    "# Checking the df\n",
    "\n",
    "voters.info()"
   ]
  },
  {
   "cell_type": "code",
   "execution_count": 66,
   "id": "d89e2e29",
   "metadata": {},
   "outputs": [],
   "source": [
    "# Slugifying columns\n",
    "\n",
    "voters.columns = voters.columns.str.replace(r'\\W+', '_', regex=True)\n",
    "voters.columns = [x.lower() for x in voters.columns]"
   ]
  },
  {
   "cell_type": "code",
   "execution_count": 67,
   "id": "94e949e9",
   "metadata": {},
   "outputs": [
    {
     "name": "stdout",
     "output_type": "stream",
     "text": [
      "<class 'pandas.core.frame.DataFrame'>\n",
      "RangeIndex: 4268188 entries, 0 to 4268187\n",
      "Data columns (total 54 columns):\n",
      " #   Column                     Dtype \n",
      "---  ------                     ----- \n",
      " 0   county                     object\n",
      " 1   voter_id                   object\n",
      " 2   first_name                 object\n",
      " 3   middle_name                object\n",
      " 4   last_name                  object\n",
      " 5   suffix                     object\n",
      " 6   house_number               object\n",
      " 7   house_suffix               object\n",
      " 8   pre_direction              object\n",
      " 9   street_name                object\n",
      " 10  street_type                object\n",
      " 11  post_direction             object\n",
      " 12  unit_type                  object\n",
      " 13  unit_number                object\n",
      " 14  non_standard_address       object\n",
      " 15  residential_city           object\n",
      " 16  residential_state          object\n",
      " 17  residential_zipcode        object\n",
      " 18  mailing_address            object\n",
      " 19  mailing_city               object\n",
      " 20  mailing_state              object\n",
      " 21  mailing_zipcode            object\n",
      " 22  birthdate                  object\n",
      " 23  political_party            object\n",
      " 24  registration_date          object\n",
      " 25  precinct                   object\n",
      " 26  precinct_name              object\n",
      " 27  split                      object\n",
      " 28  township                   object\n",
      " 29  ward                       object\n",
      " 30  congressional_district_20  object\n",
      " 31  legislative_district_20    object\n",
      " 32  senate_district_20         object\n",
      " 33  voter_status               object\n",
      " 34  voter_history_1            object\n",
      " 35  voter_history_2            object\n",
      " 36  voter_history_3            object\n",
      " 37  voter_history_4            object\n",
      " 38  voter_history_5            object\n",
      " 39  voter_history_6            object\n",
      " 40  voter_history_7            object\n",
      " 41  voter_history_8            object\n",
      " 42  voter_history_9            object\n",
      " 43  voter_history_10           object\n",
      " 44  voter_history_11           object\n",
      " 45  voter_history_12           object\n",
      " 46  voter_history_13           object\n",
      " 47  voter_history_14           object\n",
      " 48  voter_history_15           object\n",
      " 49  voter_history_16           object\n",
      " 50  voter_history_17           object\n",
      " 51  voter_history_18           object\n",
      " 52  voter_history_19           object\n",
      " 53  voter_history_20           object\n",
      "dtypes: object(54)\n",
      "memory usage: 1.7+ GB\n"
     ]
    }
   ],
   "source": [
    "voters.info()"
   ]
  },
  {
   "cell_type": "code",
   "execution_count": 68,
   "id": "7eddd0fb",
   "metadata": {},
   "outputs": [
    {
     "name": "stdout",
     "output_type": "stream",
     "text": [
      "['voter_history_2', 'voter_history_3', 'voter_history_4', 'voter_history_5', 'voter_history_6', 'voter_history_7', 'voter_history_8', 'voter_history_9', 'voter_history_10', 'voter_history_11', 'voter_history_12', 'voter_history_13', 'voter_history_14', 'voter_history_15', 'voter_history_16', 'voter_history_17', 'voter_history_18', 'voter_history_19', 'voter_history_20']\n"
     ]
    }
   ],
   "source": [
    "# There are 20 voter history columns. We'll keep the most recent and store the others in a different dataframe.\n",
    "# Get names of column headers so we can use them to put the cols we need to in another df \n",
    "\n",
    "column_headers = list(voters.columns.values)\n",
    "del_cols = column_headers[35:]\n",
    "print(del_cols)"
   ]
  },
  {
   "cell_type": "code",
   "execution_count": 69,
   "id": "2e692151",
   "metadata": {},
   "outputs": [],
   "source": [
    "# Put voter history 2-20 into a new, separate dataframe\n",
    "\n",
    "voters2 = pd.DataFrame()\n",
    "voters2 = pd.concat([voters2,voters[del_cols]],axis=0)"
   ]
  },
  {
   "cell_type": "code",
   "execution_count": 70,
   "id": "2e24648e",
   "metadata": {},
   "outputs": [
    {
     "name": "stdout",
     "output_type": "stream",
     "text": [
      "<class 'pandas.core.frame.DataFrame'>\n",
      "RangeIndex: 4268188 entries, 0 to 4268187\n",
      "Data columns (total 19 columns):\n",
      " #   Column            Dtype \n",
      "---  ------            ----- \n",
      " 0   voter_history_2   object\n",
      " 1   voter_history_3   object\n",
      " 2   voter_history_4   object\n",
      " 3   voter_history_5   object\n",
      " 4   voter_history_6   object\n",
      " 5   voter_history_7   object\n",
      " 6   voter_history_8   object\n",
      " 7   voter_history_9   object\n",
      " 8   voter_history_10  object\n",
      " 9   voter_history_11  object\n",
      " 10  voter_history_12  object\n",
      " 11  voter_history_13  object\n",
      " 12  voter_history_14  object\n",
      " 13  voter_history_15  object\n",
      " 14  voter_history_16  object\n",
      " 15  voter_history_17  object\n",
      " 16  voter_history_18  object\n",
      " 17  voter_history_19  object\n",
      " 18  voter_history_20  object\n",
      "dtypes: object(19)\n",
      "memory usage: 618.7+ MB\n"
     ]
    }
   ],
   "source": [
    "# Checking voter history dataframe\n",
    "\n",
    "voters2.info()"
   ]
  },
  {
   "cell_type": "code",
   "execution_count": 71,
   "id": "69db9bb5",
   "metadata": {},
   "outputs": [],
   "source": [
    "# Later on we will drop the extended voter history from the original, first df\n",
    "# But for now we'll keep it, for the sake of the next step\n",
    "# Check this data against previous MO voter data, and keep only voters not found in old data\n",
    "# Loading 2020 data\n",
    "\n",
    "voters20 = pd.read_csv('./data/mo_voters_2020.csv')"
   ]
  },
  {
   "cell_type": "code",
   "execution_count": 72,
   "id": "eb90ec1b",
   "metadata": {},
   "outputs": [
    {
     "name": "stdout",
     "output_type": "stream",
     "text": [
      "<class 'pandas.core.frame.DataFrame'>\n",
      "RangeIndex: 4609735 entries, 0 to 4609734\n",
      "Data columns (total 36 columns):\n",
      " #   Column                Dtype  \n",
      "---  ------                -----  \n",
      " 0   county                object \n",
      " 1   voter_id              int64  \n",
      " 2   first_name            object \n",
      " 3   middle_name           object \n",
      " 4   last_name             object \n",
      " 5   suffix                object \n",
      " 6   house_number          float64\n",
      " 7   house_suffix          object \n",
      " 8   pre_direction         object \n",
      " 9   street_name           object \n",
      " 10  street_type           object \n",
      " 11  post_direction        object \n",
      " 12  unit_type             object \n",
      " 13  unit_number           object \n",
      " 14  non_standard_address  object \n",
      " 15  city                  object \n",
      " 16  state                 object \n",
      " 17  zip                   object \n",
      " 18  birth_date            object \n",
      " 19  reg_date              object \n",
      " 20  precinct              object \n",
      " 21  precinct_name         object \n",
      " 22  split                 object \n",
      " 23  township              object \n",
      " 24  ward                  object \n",
      " 25  congressional         object \n",
      " 26  legislative           object \n",
      " 27  state_senate          object \n",
      " 28  voter_status          object \n",
      " 29  last_election         object \n",
      " 30  source                int64  \n",
      " 31  dupe_flag             bool   \n",
      " 32  reg_year              int64  \n",
      " 33  address_clean         object \n",
      " 34  zip_clean             float64\n",
      " 35  city_clean            object \n",
      "dtypes: bool(1), float64(2), int64(3), object(30)\n",
      "memory usage: 1.2+ GB\n"
     ]
    }
   ],
   "source": [
    "# Slugifying columns in 2020 data\n",
    "\n",
    "voters20.columns = voters20.columns.str.replace(r'\\W+', '_', regex=True)\n",
    "voters20.columns = [x.lower() for x in voters20.columns]\n",
    "voters20.info()"
   ]
  },
  {
   "cell_type": "code",
   "execution_count": 98,
   "id": "db0bfdd3",
   "metadata": {},
   "outputs": [
    {
     "name": "stdout",
     "output_type": "stream",
     "text": [
      "There are 706371 voters in the 2020 data who are not in the current data.\n"
     ]
    }
   ],
   "source": [
    "# Comparing voter ID columns\n",
    "# In 2020, the TAP team received a similar file. We are going to keep any\n",
    "# registered voters not found in the current file.\n",
    "\n",
    "idx1 = pd.Index(voters.voter_id)\n",
    "idx2 = pd.Index(voters20.voter_id)\n",
    "\n",
    "diff = idx2.difference(idx1).values\n",
    "print(\"There are \" + str(len(diff)) +  \" voters in the 2020 data who are not in the current data.\")"
   ]
  },
  {
   "cell_type": "code",
   "execution_count": 99,
   "id": "ee126ed6",
   "metadata": {},
   "outputs": [],
   "source": [
    "# Convert diff array to list\n",
    "\n",
    "diff = list(diff)"
   ]
  },
  {
   "cell_type": "code",
   "execution_count": 101,
   "id": "8f3ca4c0",
   "metadata": {},
   "outputs": [
    {
     "name": "stdout",
     "output_type": "stream",
     "text": [
      "<class 'pandas.core.frame.DataFrame'>\n",
      "Int64Index: 706372 entries, 0 to 4609734\n",
      "Data columns (total 36 columns):\n",
      " #   Column                Non-Null Count   Dtype  \n",
      "---  ------                --------------   -----  \n",
      " 0   county                706372 non-null  object \n",
      " 1   voter_id              706372 non-null  int64  \n",
      " 2   first_name            706358 non-null  object \n",
      " 3   middle_name           641694 non-null  object \n",
      " 4   last_name             706316 non-null  object \n",
      " 5   suffix                29167 non-null   object \n",
      " 6   house_number          671155 non-null  float64\n",
      " 7   house_suffix          3461 non-null    object \n",
      " 8   pre_direction         213309 non-null  object \n",
      " 9   street_name           671150 non-null  object \n",
      " 10  street_type           598529 non-null  object \n",
      " 11  post_direction        5338 non-null    object \n",
      " 12  unit_type             113346 non-null  object \n",
      " 13  unit_number           113343 non-null  object \n",
      " 14  non_standard_address  35534 non-null   object \n",
      " 15  city                  706205 non-null  object \n",
      " 16  state                 706201 non-null  object \n",
      " 17  zip                   706212 non-null  object \n",
      " 18  birth_date            705807 non-null  object \n",
      " 19  reg_date              706372 non-null  object \n",
      " 20  precinct              706212 non-null  object \n",
      " 21  precinct_name         407733 non-null  object \n",
      " 22  split                 706212 non-null  object \n",
      " 23  township              531835 non-null  object \n",
      " 24  ward                  455166 non-null  object \n",
      " 25  congressional         705823 non-null  object \n",
      " 26  legislative           706340 non-null  object \n",
      " 27  state_senate          706370 non-null  object \n",
      " 28  voter_status          407838 non-null  object \n",
      " 29  last_election         304264 non-null  object \n",
      " 30  source                706372 non-null  int64  \n",
      " 31  dupe_flag             706372 non-null  bool   \n",
      " 32  reg_year              706372 non-null  int64  \n",
      " 33  address_clean         706212 non-null  object \n",
      " 34  zip_clean             705645 non-null  float64\n",
      " 35  city_clean            706204 non-null  object \n",
      "dtypes: bool(1), float64(2), int64(3), object(30)\n",
      "memory usage: 194.7+ MB\n"
     ]
    }
   ],
   "source": [
    "# Put those voters from 2020 data not in current data into a df, we'll need it later\n",
    "\n",
    "keepers = voters20[voters20['voter_id'].isin(diff)]\n",
    "keepers.info()"
   ]
  },
  {
   "cell_type": "code",
   "execution_count": null,
   "id": "626ed95b",
   "metadata": {},
   "outputs": [],
   "source": []
  },
  {
   "cell_type": "code",
   "execution_count": 13,
   "id": "5ff53190",
   "metadata": {},
   "outputs": [],
   "source": [
    "# Drop voter history 2-20 from original dataframe\n",
    "\n",
    "voters.drop(columns=['voter_history_2', 'voter_history_3', 'voter_history_4', 'voter_history_5', 'voter_history_6', 'voter_history_7', 'voter_history_8', 'voter_history_9', 'voter_history_10', 'voter_history_11', 'voter_history_12', 'voter_history_13', 'voter_history_14', 'voter_history_15', 'voter_history_16', 'voter_history_17', 'voter_history_18', 'voter_history_19', 'voter_history_20'], inplace=True)"
   ]
  },
  {
   "cell_type": "code",
   "execution_count": 14,
   "id": "2e2ceb1f",
   "metadata": {},
   "outputs": [
    {
     "name": "stdout",
     "output_type": "stream",
     "text": [
      "<class 'pandas.core.frame.DataFrame'>\n",
      "RangeIndex: 4268188 entries, 0 to 4268187\n",
      "Data columns (total 35 columns):\n",
      " #   Column                     Dtype \n",
      "---  ------                     ----- \n",
      " 0   County                     object\n",
      " 1   Voter ID                   object\n",
      " 2   First Name                 object\n",
      " 3   Middle Name                object\n",
      " 4   Last Name                  object\n",
      " 5   Suffix                     object\n",
      " 6   House Number               object\n",
      " 7   House Suffix               object\n",
      " 8   Pre Direction              object\n",
      " 9   Street Name                object\n",
      " 10  Street Type                object\n",
      " 11  Post Direction             object\n",
      " 12  Unit Type                  object\n",
      " 13  Unit Number                object\n",
      " 14  Non Standard Address       object\n",
      " 15  Residential City           object\n",
      " 16  Residential State          object\n",
      " 17  Residential ZipCode        object\n",
      " 18  Mailing Address            object\n",
      " 19  Mailing City               object\n",
      " 20  Mailing State              object\n",
      " 21  Mailing ZipCode            object\n",
      " 22  Birthdate                  object\n",
      " 23  Political Party            object\n",
      " 24  Registration Date          object\n",
      " 25  Precinct                   object\n",
      " 26  Precinct Name              object\n",
      " 27  Split                      object\n",
      " 28  Township                   object\n",
      " 29  Ward                       object\n",
      " 30  CONGRESSIONAL DISTRICT 20  object\n",
      " 31  LEGISLATIVE DISTRICT 20    object\n",
      " 32  SENATE DISTRICT 20         object\n",
      " 33  Voter Status               object\n",
      " 34  Voter History 1            object\n",
      "dtypes: object(35)\n",
      "memory usage: 1.1+ GB\n"
     ]
    }
   ],
   "source": [
    "voters.info()"
   ]
  },
  {
   "cell_type": "code",
   "execution_count": 17,
   "id": "1d2851e6",
   "metadata": {},
   "outputs": [
    {
     "name": "stdout",
     "output_type": "stream",
     "text": [
      "<class 'pandas.core.frame.DataFrame'>\n",
      "RangeIndex: 4609735 entries, 0 to 4609734\n",
      "Data columns (total 36 columns):\n",
      " #   Column                Dtype  \n",
      "---  ------                -----  \n",
      " 0   county                object \n",
      " 1   voter_id              int64  \n",
      " 2   first_name            object \n",
      " 3   middle_name           object \n",
      " 4   last_name             object \n",
      " 5   suffix                object \n",
      " 6   house_number          float64\n",
      " 7   house_suffix          object \n",
      " 8   pre_direction         object \n",
      " 9   street_name           object \n",
      " 10  street_type           object \n",
      " 11  post_direction        object \n",
      " 12  unit_type             object \n",
      " 13  unit_number           object \n",
      " 14  non_standard_address  object \n",
      " 15  city                  object \n",
      " 16  state                 object \n",
      " 17  zip                   object \n",
      " 18  birth_date            object \n",
      " 19  reg_date              object \n",
      " 20  precinct              object \n",
      " 21  precinct_name         object \n",
      " 22  split                 object \n",
      " 23  township              object \n",
      " 24  ward                  object \n",
      " 25  congressional         object \n",
      " 26  legislative           object \n",
      " 27  state_senate          object \n",
      " 28  voter_status          object \n",
      " 29  last_election         object \n",
      " 30  source                int64  \n",
      " 31  dupe_flag             bool   \n",
      " 32  reg_year              int64  \n",
      " 33  address_clean         object \n",
      " 34  zip_clean             float64\n",
      " 35  city_clean            object \n",
      "dtypes: bool(1), float64(2), int64(3), object(30)\n",
      "memory usage: 1.2+ GB\n"
     ]
    }
   ],
   "source": [
    "voters20.info()"
   ]
  },
  {
   "cell_type": "code",
   "execution_count": null,
   "id": "d8b7697a",
   "metadata": {},
   "outputs": [],
   "source": [
    "idx1 = pd.Index(voters.)\n",
    "idx2 = pd.Index(df.id2)\n",
    "\n",
    "idx1.difference(idx2).values"
   ]
  }
 ],
 "metadata": {
  "kernelspec": {
   "display_name": "Python 3 (ipykernel)",
   "language": "python",
   "name": "python3"
  },
  "language_info": {
   "codemirror_mode": {
    "name": "ipython",
    "version": 3
   },
   "file_extension": ".py",
   "mimetype": "text/x-python",
   "name": "python",
   "nbconvert_exporter": "python",
   "pygments_lexer": "ipython3",
   "version": "3.7.3"
  }
 },
 "nbformat": 4,
 "nbformat_minor": 5
}
