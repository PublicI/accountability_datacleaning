{
 "cells": [
  {
   "cell_type": "code",
   "execution_count": null,
   "id": "cb39c073",
   "metadata": {},
   "outputs": [],
   "source": [
    "### Packages ###"
   ]
  },
  {
   "cell_type": "code",
   "execution_count": 41,
   "id": "08bc3b9e",
   "metadata": {},
   "outputs": [],
   "source": [
    "import pandas as pd\n",
    "from zipfile import ZipFile\n",
    "import os\n",
    "import math\n",
    "import numpy as np\n",
    "from slugify import slugify\n",
    "import locale\n",
    "locale.setlocale(locale.LC_ALL, '')\n",
    "# for printing dfs\n",
    "pd.options.display.max_rows = 100\n",
    "# for printing lists\n",
    "pd.options.display.max_seq_items = 50"
   ]
  },
  {
   "cell_type": "code",
   "execution_count": null,
   "id": "79c3c1ff",
   "metadata": {},
   "outputs": [],
   "source": [
    "### Data ###"
   ]
  },
  {
   "cell_type": "code",
   "execution_count": 42,
   "id": "263f5948",
   "metadata": {},
   "outputs": [],
   "source": [
    "# Set relative filepaths\n",
    "# Missouri voter data is obtained via public records request to the Elections Division, Office of Secretary of State\n",
    "# More info about data source can be found in the README\n",
    "\n",
    "__file__ = 'os.path.abspath('')'\n",
    "\n",
    "script_dir = os.path.dirname(__file__)\n",
    "rel_path = './data/Missouri'\n",
    "abs_file_path = os.path.join(script_dir, rel_path)"
   ]
  },
  {
   "cell_type": "code",
   "execution_count": null,
   "id": "ce7078f0",
   "metadata": {},
   "outputs": [],
   "source": [
    "### Read ###"
   ]
  },
  {
   "cell_type": "code",
   "execution_count": 43,
   "id": "1dbe3be6",
   "metadata": {},
   "outputs": [],
   "source": [
    "# Get list of files from zipfile opened in next step\n",
    "\n",
    "files = os.listdir(abs_file_path)"
   ]
  },
  {
   "cell_type": "code",
   "execution_count": 44,
   "id": "69321ebf",
   "metadata": {},
   "outputs": [],
   "source": [
    "# Read the zipfile\n",
    "\n",
    "voters = (files[1])\n",
    "zf = ZipFile(abs_file_path + \"/\" + voters)"
   ]
  },
  {
   "cell_type": "code",
   "execution_count": 45,
   "id": "886dfa95",
   "metadata": {},
   "outputs": [
    {
     "data": {
      "text/plain": [
       "['data\\\\PSR_VotersList_01032023_9-51-24 AM.txt']"
      ]
     },
     "execution_count": 45,
     "metadata": {},
     "output_type": "execute_result"
    }
   ],
   "source": [
    "# List files in zipfile\n",
    "\n",
    "zf.namelist()"
   ]
  },
  {
   "cell_type": "code",
   "execution_count": 46,
   "id": "e153916b",
   "metadata": {},
   "outputs": [
    {
     "name": "stderr",
     "output_type": "stream",
     "text": [
      "/Users/jayohday/.virtualenvs/tap-cpi/lib/python3.7/site-packages/IPython/core/interactiveshell.py:3553: DtypeWarning: Columns (1,6,7,11,14,17,21,22,25,26,27,28,29) have mixed types.Specify dtype option on import or set low_memory=False.\n",
      "  exec(code_obj, self.user_global_ns, self.user_ns)\n"
     ]
    }
   ],
   "source": [
    "# Load data into dataframe, first with no header for processing reasons\n",
    "\n",
    "voters = pd.read_csv(zf.open('data\\\\PSR_VotersList_01032023_9-51-24 AM.txt'), sep='\\t', header=None)"
   ]
  },
  {
   "cell_type": "code",
   "execution_count": 47,
   "id": "440bdd67",
   "metadata": {},
   "outputs": [],
   "source": [
    "# Now set the first row as header\n",
    "\n",
    "voters.columns = voters.iloc[0] "
   ]
  },
  {
   "cell_type": "code",
   "execution_count": 48,
   "id": "420be5da",
   "metadata": {},
   "outputs": [
    {
     "name": "stdout",
     "output_type": "stream",
     "text": [
      "<class 'pandas.core.frame.DataFrame'>\n",
      "RangeIndex: 4268188 entries, 0 to 4268187\n",
      "Data columns (total 54 columns):\n",
      " #   Column                     Dtype \n",
      "---  ------                     ----- \n",
      " 0   County                     object\n",
      " 1   Voter ID                   object\n",
      " 2   First Name                 object\n",
      " 3   Middle Name                object\n",
      " 4   Last Name                  object\n",
      " 5   Suffix                     object\n",
      " 6   House Number               object\n",
      " 7   House Suffix               object\n",
      " 8   Pre Direction              object\n",
      " 9   Street Name                object\n",
      " 10  Street Type                object\n",
      " 11  Post Direction             object\n",
      " 12  Unit Type                  object\n",
      " 13  Unit Number                object\n",
      " 14  Non Standard Address       object\n",
      " 15  Residential City           object\n",
      " 16  Residential State          object\n",
      " 17  Residential ZipCode        object\n",
      " 18  Mailing Address            object\n",
      " 19  Mailing City               object\n",
      " 20  Mailing State              object\n",
      " 21  Mailing ZipCode            object\n",
      " 22  Birthdate                  object\n",
      " 23  Political Party            object\n",
      " 24  Registration Date          object\n",
      " 25  Precinct                   object\n",
      " 26  Precinct Name              object\n",
      " 27  Split                      object\n",
      " 28  Township                   object\n",
      " 29  Ward                       object\n",
      " 30  CONGRESSIONAL DISTRICT 20  object\n",
      " 31  LEGISLATIVE DISTRICT 20    object\n",
      " 32  SENATE DISTRICT 20         object\n",
      " 33  Voter Status               object\n",
      " 34  Voter History 1            object\n",
      " 35  Voter History 2            object\n",
      " 36  Voter History 3            object\n",
      " 37  Voter History 4            object\n",
      " 38  Voter History 5            object\n",
      " 39  Voter History 6            object\n",
      " 40  Voter History 7            object\n",
      " 41  Voter History 8            object\n",
      " 42  Voter History 9            object\n",
      " 43  Voter History 10           object\n",
      " 44  Voter History 11           object\n",
      " 45  Voter History 12           object\n",
      " 46  Voter History 13           object\n",
      " 47  Voter History 14           object\n",
      " 48  Voter History 15           object\n",
      " 49  Voter History 16           object\n",
      " 50  Voter History 17           object\n",
      " 51  Voter History 18           object\n",
      " 52  Voter History 19           object\n",
      " 53  Voter History 20           object\n",
      "dtypes: object(54)\n",
      "memory usage: 1.7+ GB\n"
     ]
    }
   ],
   "source": [
    "# Checking the df\n",
    "\n",
    "voters.info()"
   ]
  },
  {
   "cell_type": "code",
   "execution_count": 49,
   "id": "5accb37f",
   "metadata": {},
   "outputs": [],
   "source": [
    "# Slugifying columns\n",
    "\n",
    "voters.columns = voters.columns.str.replace(r'\\W+', '_', regex=True)\n",
    "voters.columns = [x.lower() for x in voters.columns]"
   ]
  },
  {
   "cell_type": "code",
   "execution_count": 50,
   "id": "7ed0a7aa",
   "metadata": {},
   "outputs": [],
   "source": [
    "# Fixing another issue with col names\n",
    "\n",
    "voters.drop(index=voters.index[0], axis=0, inplace=True)"
   ]
  },
  {
   "cell_type": "code",
   "execution_count": 51,
   "id": "0ffef625",
   "metadata": {},
   "outputs": [
    {
     "name": "stdout",
     "output_type": "stream",
     "text": [
      "<class 'pandas.core.frame.DataFrame'>\n",
      "Int64Index: 4268187 entries, 1 to 4268187\n",
      "Data columns (total 54 columns):\n",
      " #   Column                     Dtype \n",
      "---  ------                     ----- \n",
      " 0   county                     object\n",
      " 1   voter_id                   object\n",
      " 2   first_name                 object\n",
      " 3   middle_name                object\n",
      " 4   last_name                  object\n",
      " 5   suffix                     object\n",
      " 6   house_number               object\n",
      " 7   house_suffix               object\n",
      " 8   pre_direction              object\n",
      " 9   street_name                object\n",
      " 10  street_type                object\n",
      " 11  post_direction             object\n",
      " 12  unit_type                  object\n",
      " 13  unit_number                object\n",
      " 14  non_standard_address       object\n",
      " 15  residential_city           object\n",
      " 16  residential_state          object\n",
      " 17  residential_zipcode        object\n",
      " 18  mailing_address            object\n",
      " 19  mailing_city               object\n",
      " 20  mailing_state              object\n",
      " 21  mailing_zipcode            object\n",
      " 22  birthdate                  object\n",
      " 23  political_party            object\n",
      " 24  registration_date          object\n",
      " 25  precinct                   object\n",
      " 26  precinct_name              object\n",
      " 27  split                      object\n",
      " 28  township                   object\n",
      " 29  ward                       object\n",
      " 30  congressional_district_20  object\n",
      " 31  legislative_district_20    object\n",
      " 32  senate_district_20         object\n",
      " 33  voter_status               object\n",
      " 34  voter_history_1            object\n",
      " 35  voter_history_2            object\n",
      " 36  voter_history_3            object\n",
      " 37  voter_history_4            object\n",
      " 38  voter_history_5            object\n",
      " 39  voter_history_6            object\n",
      " 40  voter_history_7            object\n",
      " 41  voter_history_8            object\n",
      " 42  voter_history_9            object\n",
      " 43  voter_history_10           object\n",
      " 44  voter_history_11           object\n",
      " 45  voter_history_12           object\n",
      " 46  voter_history_13           object\n",
      " 47  voter_history_14           object\n",
      " 48  voter_history_15           object\n",
      " 49  voter_history_16           object\n",
      " 50  voter_history_17           object\n",
      " 51  voter_history_18           object\n",
      " 52  voter_history_19           object\n",
      " 53  voter_history_20           object\n",
      "dtypes: object(54)\n",
      "memory usage: 1.7+ GB\n"
     ]
    }
   ],
   "source": [
    "# Checking the df\n",
    "\n",
    "voters.info()"
   ]
  },
  {
   "cell_type": "code",
   "execution_count": 52,
   "id": "36b2b24a",
   "metadata": {},
   "outputs": [
    {
     "data": {
      "text/html": [
       "<div>\n",
       "<style scoped>\n",
       "    .dataframe tbody tr th:only-of-type {\n",
       "        vertical-align: middle;\n",
       "    }\n",
       "\n",
       "    .dataframe tbody tr th {\n",
       "        vertical-align: top;\n",
       "    }\n",
       "\n",
       "    .dataframe thead th {\n",
       "        text-align: right;\n",
       "    }\n",
       "</style>\n",
       "<table border=\"1\" class=\"dataframe\">\n",
       "  <thead>\n",
       "    <tr style=\"text-align: right;\">\n",
       "      <th></th>\n",
       "      <th>county</th>\n",
       "      <th>voter_id</th>\n",
       "      <th>first_name</th>\n",
       "      <th>middle_name</th>\n",
       "      <th>last_name</th>\n",
       "      <th>suffix</th>\n",
       "      <th>house_number</th>\n",
       "      <th>house_suffix</th>\n",
       "      <th>pre_direction</th>\n",
       "      <th>street_name</th>\n",
       "      <th>...</th>\n",
       "      <th>voter_history_11</th>\n",
       "      <th>voter_history_12</th>\n",
       "      <th>voter_history_13</th>\n",
       "      <th>voter_history_14</th>\n",
       "      <th>voter_history_15</th>\n",
       "      <th>voter_history_16</th>\n",
       "      <th>voter_history_17</th>\n",
       "      <th>voter_history_18</th>\n",
       "      <th>voter_history_19</th>\n",
       "      <th>voter_history_20</th>\n",
       "    </tr>\n",
       "  </thead>\n",
       "  <tbody>\n",
       "    <tr>\n",
       "      <th>1</th>\n",
       "      <td>Adair</td>\n",
       "      <td>461017702</td>\n",
       "      <td>JOHN</td>\n",
       "      <td>WILLIAM</td>\n",
       "      <td>MCNEILL</td>\n",
       "      <td>NaN</td>\n",
       "      <td>1306</td>\n",
       "      <td>NaN</td>\n",
       "      <td>NaN</td>\n",
       "      <td>ROOK</td>\n",
       "      <td>...</td>\n",
       "      <td>NaN</td>\n",
       "      <td>NaN</td>\n",
       "      <td>NaN</td>\n",
       "      <td>NaN</td>\n",
       "      <td>NaN</td>\n",
       "      <td>NaN</td>\n",
       "      <td>NaN</td>\n",
       "      <td>NaN</td>\n",
       "      <td>NaN</td>\n",
       "      <td>NaN</td>\n",
       "    </tr>\n",
       "    <tr>\n",
       "      <th>2</th>\n",
       "      <td>Adair</td>\n",
       "      <td>751833496</td>\n",
       "      <td>ALEXANDER</td>\n",
       "      <td>DOUGLAS STONEBURNER</td>\n",
       "      <td>KARST</td>\n",
       "      <td>NaN</td>\n",
       "      <td>702</td>\n",
       "      <td>NaN</td>\n",
       "      <td>S</td>\n",
       "      <td>SHERIDAN</td>\n",
       "      <td>...</td>\n",
       "      <td>NaN</td>\n",
       "      <td>NaN</td>\n",
       "      <td>NaN</td>\n",
       "      <td>NaN</td>\n",
       "      <td>NaN</td>\n",
       "      <td>NaN</td>\n",
       "      <td>NaN</td>\n",
       "      <td>NaN</td>\n",
       "      <td>NaN</td>\n",
       "      <td>NaN</td>\n",
       "    </tr>\n",
       "    <tr>\n",
       "      <th>3</th>\n",
       "      <td>Adair</td>\n",
       "      <td>751105687</td>\n",
       "      <td>KEVIN</td>\n",
       "      <td>LEE</td>\n",
       "      <td>WINDSPERGER</td>\n",
       "      <td>NaN</td>\n",
       "      <td>17469</td>\n",
       "      <td>NaN</td>\n",
       "      <td>NaN</td>\n",
       "      <td>DAIRY</td>\n",
       "      <td>...</td>\n",
       "      <td>NaN</td>\n",
       "      <td>NaN</td>\n",
       "      <td>NaN</td>\n",
       "      <td>NaN</td>\n",
       "      <td>NaN</td>\n",
       "      <td>NaN</td>\n",
       "      <td>NaN</td>\n",
       "      <td>NaN</td>\n",
       "      <td>NaN</td>\n",
       "      <td>NaN</td>\n",
       "    </tr>\n",
       "    <tr>\n",
       "      <th>4</th>\n",
       "      <td>Adair</td>\n",
       "      <td>752025280</td>\n",
       "      <td>TAYLOR</td>\n",
       "      <td>ANN</td>\n",
       "      <td>CLAYTON</td>\n",
       "      <td>NaN</td>\n",
       "      <td>809</td>\n",
       "      <td>NaN</td>\n",
       "      <td>S</td>\n",
       "      <td>MULANIX</td>\n",
       "      <td>...</td>\n",
       "      <td>NaN</td>\n",
       "      <td>NaN</td>\n",
       "      <td>NaN</td>\n",
       "      <td>NaN</td>\n",
       "      <td>NaN</td>\n",
       "      <td>NaN</td>\n",
       "      <td>NaN</td>\n",
       "      <td>NaN</td>\n",
       "      <td>NaN</td>\n",
       "      <td>NaN</td>\n",
       "    </tr>\n",
       "    <tr>\n",
       "      <th>5</th>\n",
       "      <td>Adair</td>\n",
       "      <td>751367266</td>\n",
       "      <td>AUSTIN</td>\n",
       "      <td>BRADLEY</td>\n",
       "      <td>MORSE</td>\n",
       "      <td>NaN</td>\n",
       "      <td>1214</td>\n",
       "      <td>NaN</td>\n",
       "      <td>S</td>\n",
       "      <td>WABASH</td>\n",
       "      <td>...</td>\n",
       "      <td>NaN</td>\n",
       "      <td>NaN</td>\n",
       "      <td>NaN</td>\n",
       "      <td>NaN</td>\n",
       "      <td>NaN</td>\n",
       "      <td>NaN</td>\n",
       "      <td>NaN</td>\n",
       "      <td>NaN</td>\n",
       "      <td>NaN</td>\n",
       "      <td>NaN</td>\n",
       "    </tr>\n",
       "  </tbody>\n",
       "</table>\n",
       "<p>5 rows × 54 columns</p>\n",
       "</div>"
      ],
      "text/plain": [
       "  county   voter_id first_name          middle_name    last_name suffix  \\\n",
       "1  Adair  461017702       JOHN              WILLIAM      MCNEILL    NaN   \n",
       "2  Adair  751833496  ALEXANDER  DOUGLAS STONEBURNER        KARST    NaN   \n",
       "3  Adair  751105687      KEVIN                  LEE  WINDSPERGER    NaN   \n",
       "4  Adair  752025280     TAYLOR                  ANN      CLAYTON    NaN   \n",
       "5  Adair  751367266     AUSTIN              BRADLEY        MORSE    NaN   \n",
       "\n",
       "  house_number house_suffix pre_direction street_name  ... voter_history_11  \\\n",
       "1         1306          NaN           NaN        ROOK  ...              NaN   \n",
       "2          702          NaN             S    SHERIDAN  ...              NaN   \n",
       "3        17469          NaN           NaN       DAIRY  ...              NaN   \n",
       "4          809          NaN             S     MULANIX  ...              NaN   \n",
       "5         1214          NaN             S      WABASH  ...              NaN   \n",
       "\n",
       "  voter_history_12 voter_history_13 voter_history_14 voter_history_15  \\\n",
       "1              NaN              NaN              NaN              NaN   \n",
       "2              NaN              NaN              NaN              NaN   \n",
       "3              NaN              NaN              NaN              NaN   \n",
       "4              NaN              NaN              NaN              NaN   \n",
       "5              NaN              NaN              NaN              NaN   \n",
       "\n",
       "  voter_history_16 voter_history_17 voter_history_18 voter_history_19  \\\n",
       "1              NaN              NaN              NaN              NaN   \n",
       "2              NaN              NaN              NaN              NaN   \n",
       "3              NaN              NaN              NaN              NaN   \n",
       "4              NaN              NaN              NaN              NaN   \n",
       "5              NaN              NaN              NaN              NaN   \n",
       "\n",
       "  voter_history_20  \n",
       "1              NaN  \n",
       "2              NaN  \n",
       "3              NaN  \n",
       "4              NaN  \n",
       "5              NaN  \n",
       "\n",
       "[5 rows x 54 columns]"
      ]
     },
     "execution_count": 52,
     "metadata": {},
     "output_type": "execute_result"
    }
   ],
   "source": [
    "# Checking the df \n",
    "\n",
    "voters.head()"
   ]
  },
  {
   "cell_type": "code",
   "execution_count": null,
   "id": "7e8a7c98",
   "metadata": {},
   "outputs": [],
   "source": [
    "### Old ###"
   ]
  },
  {
   "cell_type": "code",
   "execution_count": 63,
   "id": "95720af6",
   "metadata": {},
   "outputs": [
    {
     "name": "stderr",
     "output_type": "stream",
     "text": [
      "/Users/jayohday/.virtualenvs/tap-cpi/lib/python3.7/site-packages/IPython/core/interactiveshell.py:3553: DtypeWarning: Columns (7,11,14,17,20,21,22,23,24,28,29) have mixed types.Specify dtype option on import or set low_memory=False.\n",
      "  exec(code_obj, self.user_global_ns, self.user_ns)\n"
     ]
    }
   ],
   "source": [
    "# Later on we will drop the extended voter history from the original, first df\n",
    "# But for now we'll keep it, for the sake of the next step\n",
    "# Check this data against previous MO voter data, and keep only voters not found in old data\n",
    "# Loading 2020 data\n",
    "\n",
    "voters20 = pd.read_csv('./data/mo_voters_2020.csv')"
   ]
  },
  {
   "cell_type": "code",
   "execution_count": 64,
   "id": "ea73141b",
   "metadata": {},
   "outputs": [
    {
     "name": "stdout",
     "output_type": "stream",
     "text": [
      "<class 'pandas.core.frame.DataFrame'>\n",
      "RangeIndex: 4609735 entries, 0 to 4609734\n",
      "Data columns (total 36 columns):\n",
      " #   Column                Dtype  \n",
      "---  ------                -----  \n",
      " 0   county                object \n",
      " 1   voter_id              int64  \n",
      " 2   first_name            object \n",
      " 3   middle_name           object \n",
      " 4   last_name             object \n",
      " 5   suffix                object \n",
      " 6   house_number          float64\n",
      " 7   house_suffix          object \n",
      " 8   pre_direction         object \n",
      " 9   street_name           object \n",
      " 10  street_type           object \n",
      " 11  post_direction        object \n",
      " 12  unit_type             object \n",
      " 13  unit_number           object \n",
      " 14  non_standard_address  object \n",
      " 15  city                  object \n",
      " 16  state                 object \n",
      " 17  zip                   object \n",
      " 18  birth_date            object \n",
      " 19  reg_date              object \n",
      " 20  precinct              object \n",
      " 21  precinct_name         object \n",
      " 22  split                 object \n",
      " 23  township              object \n",
      " 24  ward                  object \n",
      " 25  congressional         object \n",
      " 26  legislative           object \n",
      " 27  state_senate          object \n",
      " 28  voter_status          object \n",
      " 29  last_election         object \n",
      " 30  source                int64  \n",
      " 31  dupe_flag             bool   \n",
      " 32  reg_year              int64  \n",
      " 33  address_clean         object \n",
      " 34  zip_clean             float64\n",
      " 35  city_clean            object \n",
      "dtypes: bool(1), float64(2), int64(3), object(30)\n",
      "memory usage: 1.2+ GB\n"
     ]
    }
   ],
   "source": [
    "# Slugifying columns in 2020 data\n",
    "\n",
    "voters20.columns = voters20.columns.str.replace(r'\\W+', '_', regex=True)\n",
    "voters20.columns = [x.lower() for x in voters20.columns]\n",
    "voters20.info()"
   ]
  },
  {
   "cell_type": "code",
   "execution_count": 65,
   "id": "43f1dd3b",
   "metadata": {},
   "outputs": [
    {
     "name": "stdout",
     "output_type": "stream",
     "text": [
      "There are 706,371 voters, out of 4,268,187 in the 2020 data who are not in the current data.\n"
     ]
    }
   ],
   "source": [
    "# Comparing voter ID columns\n",
    "# In 2020, the TAP team received a similar file. We are going to keep any\n",
    "# registered voters, per voter ID, not found in the current file.\n",
    "\n",
    "idx1 = pd.Index(voters.voter_id)\n",
    "idx2 = pd.Index(voters20.voter_id)\n",
    "\n",
    "diff = idx2.difference(idx1).values\n",
    "print(\"There are \" + \"{:,}\".format((len(diff))) +  \" voters, out of 4,268,187 in the 2020 data who are not in the current data.\")"
   ]
  },
  {
   "cell_type": "code",
   "execution_count": 66,
   "id": "7b63b4d7",
   "metadata": {},
   "outputs": [],
   "source": [
    "# Convert diff array to list\n",
    "\n",
    "diff = list(diff)"
   ]
  },
  {
   "cell_type": "code",
   "execution_count": 67,
   "id": "fbf42c68",
   "metadata": {},
   "outputs": [
    {
     "name": "stdout",
     "output_type": "stream",
     "text": [
      "<class 'pandas.core.frame.DataFrame'>\n",
      "Int64Index: 706372 entries, 0 to 4609734\n",
      "Data columns (total 36 columns):\n",
      " #   Column                Non-Null Count   Dtype  \n",
      "---  ------                --------------   -----  \n",
      " 0   county                706372 non-null  object \n",
      " 1   voter_id              706372 non-null  int64  \n",
      " 2   first_name            706358 non-null  object \n",
      " 3   middle_name           641694 non-null  object \n",
      " 4   last_name             706316 non-null  object \n",
      " 5   suffix                29167 non-null   object \n",
      " 6   house_number          671155 non-null  float64\n",
      " 7   house_suffix          3461 non-null    object \n",
      " 8   pre_direction         213309 non-null  object \n",
      " 9   street_name           671150 non-null  object \n",
      " 10  street_type           598529 non-null  object \n",
      " 11  post_direction        5338 non-null    object \n",
      " 12  unit_type             113346 non-null  object \n",
      " 13  unit_number           113343 non-null  object \n",
      " 14  non_standard_address  35534 non-null   object \n",
      " 15  city                  706205 non-null  object \n",
      " 16  state                 706201 non-null  object \n",
      " 17  zip                   706212 non-null  object \n",
      " 18  birth_date            705807 non-null  object \n",
      " 19  reg_date              706372 non-null  object \n",
      " 20  precinct              706212 non-null  object \n",
      " 21  precinct_name         407733 non-null  object \n",
      " 22  split                 706212 non-null  object \n",
      " 23  township              531835 non-null  object \n",
      " 24  ward                  455166 non-null  object \n",
      " 25  congressional         705823 non-null  object \n",
      " 26  legislative           706340 non-null  object \n",
      " 27  state_senate          706370 non-null  object \n",
      " 28  voter_status          407838 non-null  object \n",
      " 29  last_election         304264 non-null  object \n",
      " 30  source                706372 non-null  int64  \n",
      " 31  dupe_flag             706372 non-null  bool   \n",
      " 32  reg_year              706372 non-null  int64  \n",
      " 33  address_clean         706212 non-null  object \n",
      " 34  zip_clean             705645 non-null  float64\n",
      " 35  city_clean            706204 non-null  object \n",
      "dtypes: bool(1), float64(2), int64(3), object(30)\n",
      "memory usage: 194.7+ MB\n"
     ]
    }
   ],
   "source": [
    "# Put those voters from 2020 data not in current data into a df; we'll need it later\n",
    "\n",
    "keepers = voters20[voters20['voter_id'].isin(diff)]\n",
    "keepers.info()"
   ]
  },
  {
   "cell_type": "code",
   "execution_count": null,
   "id": "7bb683ad",
   "metadata": {},
   "outputs": [],
   "source": [
    "### Explore ###"
   ]
  },
  {
   "cell_type": "code",
   "execution_count": 78,
   "id": "3981aede",
   "metadata": {},
   "outputs": [
    {
     "name": "stdout",
     "output_type": "stream",
     "text": [
      "There are 4268187 rows and 54 columns.\n"
     ]
    }
   ],
   "source": [
    "print(\"There are \" + str(len(voters)) + \" rows and \" + str(len(voters.columns)) + \" columns.\")"
   ]
  },
  {
   "cell_type": "code",
   "execution_count": null,
   "id": "41d048b4",
   "metadata": {},
   "outputs": [],
   "source": [
    "### Missing ###"
   ]
  },
  {
   "cell_type": "code",
   "execution_count": 53,
   "id": "fcc937cd",
   "metadata": {},
   "outputs": [
    {
     "data": {
      "text/plain": [
       "county                             0\n",
       "voter_id                           0\n",
       "first_name                        30\n",
       "middle_name                   401624\n",
       "last_name                        456\n",
       "suffix                       4114617\n",
       "house_number                   31179\n",
       "house_suffix                 4256636\n",
       "pre_direction                2963552\n",
       "street_name                    31198\n",
       "street_type                   531846\n",
       "post_direction               4233141\n",
       "unit_type                    3874393\n",
       "unit_number                  3874425\n",
       "non_standard_address         4235200\n",
       "residential_city                   0\n",
       "residential_state                 16\n",
       "residential_zipcode                0\n",
       "mailing_address              4035157\n",
       "mailing_city                 4039026\n",
       "mailing_state                4039175\n",
       "mailing_zipcode              4039164\n",
       "birthdate                          0\n",
       "political_party              4084653\n",
       "registration_date                  0\n",
       "precinct                           0\n",
       "precinct_name                      0\n",
       "split                              0\n",
       "township                      913574\n",
       "ward                         1788722\n",
       "congressional_district_20         19\n",
       "legislative_district_20           56\n",
       "senate_district_20                56\n",
       "voter_status                       0\n",
       "voter_history_1               598452\n",
       "voter_history_2              1018238\n",
       "voter_history_3              1315678\n",
       "voter_history_4              1547307\n",
       "voter_history_5              1742024\n",
       "voter_history_6              1911056\n",
       "voter_history_7              2059904\n",
       "voter_history_8              2192849\n",
       "voter_history_9              2313466\n",
       "voter_history_10             2423630\n",
       "voter_history_11             2525953\n",
       "voter_history_12             2620435\n",
       "voter_history_13             2708562\n",
       "voter_history_14             2790824\n",
       "voter_history_15             2868254\n",
       "voter_history_16             2941071\n",
       "voter_history_17             3010628\n",
       "voter_history_18             3076092\n",
       "voter_history_19             3138099\n",
       "voter_history_20             3196461\n",
       "dtype: int64"
      ]
     },
     "execution_count": 53,
     "metadata": {},
     "output_type": "execute_result"
    }
   ],
   "source": [
    "# Columns vary in their degree of missing values\n",
    "\n",
    "voters.isna().sum()"
   ]
  },
  {
   "cell_type": "code",
   "execution_count": null,
   "id": "d0236d5f",
   "metadata": {},
   "outputs": [],
   "source": [
    "### Duplicates ###"
   ]
  },
  {
   "cell_type": "code",
   "execution_count": 54,
   "id": "f39227e4",
   "metadata": {},
   "outputs": [
    {
     "data": {
      "text/plain": [
       "<bound method DataFrame.info of Empty DataFrame\n",
       "Columns: [county, voter_id, first_name, middle_name, last_name, suffix, house_number, house_suffix, pre_direction, street_name, street_type, post_direction, unit_type, unit_number, non_standard_address, residential_city, residential_state, residential_zipcode, mailing_address, mailing_city, mailing_state, mailing_zipcode, birthdate, political_party, registration_date, precinct, precinct_name, split, township, ward, congressional_district_20, legislative_district_20, senate_district_20, voter_status, voter_history_1, voter_history_2, voter_history_3, voter_history_4, voter_history_5, voter_history_6, voter_history_7, voter_history_8, voter_history_9, voter_history_10, voter_history_11, voter_history_12, voter_history_13, voter_history_14, voter_history_15, voter_history_16, ...]\n",
       "Index: []\n",
       "\n",
       "[0 rows x 54 columns]>"
      ]
     },
     "execution_count": 54,
     "metadata": {},
     "output_type": "execute_result"
    }
   ],
   "source": [
    "all_dupe = voters[voters.duplicated()]\n",
    "all_dupe.info"
   ]
  },
  {
   "cell_type": "code",
   "execution_count": 55,
   "id": "3c53d038",
   "metadata": {},
   "outputs": [
    {
     "name": "stdout",
     "output_type": "stream",
     "text": [
      "Duplicate voter IDs:\n"
     ]
    }
   ],
   "source": [
    "# Check for duplicate voter IDs\n",
    "\n",
    "voterids = voters.duplicated(subset=[\"voter_id\"])\n",
    "print(\"Duplicate voter IDs:\")\n",
    "\n",
    "# Print voter ID records only if duplicate = True\n",
    "if voterids[2] == True:\n",
    "    print(voterids)"
   ]
  },
  {
   "cell_type": "code",
   "execution_count": 57,
   "id": "a1f0951e",
   "metadata": {},
   "outputs": [
    {
     "name": "stdout",
     "output_type": "stream",
     "text": [
      "Duplicate rows:\n",
      "Empty DataFrame\n",
      "Columns: [county, voter_id, first_name, middle_name, last_name, suffix, house_number, house_suffix, pre_direction, street_name, street_type, post_direction, unit_type, unit_number, non_standard_address, residential_city, residential_state, residential_zipcode, mailing_address, mailing_city, mailing_state, mailing_zipcode, birthdate, political_party, registration_date, precinct, precinct_name, split, township, ward, congressional_district_20, legislative_district_20, senate_district_20, voter_status, voter_history_1, voter_history_2, voter_history_3, voter_history_4, voter_history_5, voter_history_6, voter_history_7, voter_history_8, voter_history_9, voter_history_10, voter_history_11, voter_history_12, voter_history_13, voter_history_14, voter_history_15, voter_history_16, ...]\n",
      "Index: []\n",
      "\n",
      "[0 rows x 54 columns]\n"
     ]
    }
   ],
   "source": [
    "# Check for duplicates across name, birthdate, mailing ZIP\n",
    "\n",
    "dupe_names = voters.duplicated(subset=[\"voter_id\", \"first_name\", \"last_name\", \"birthdate\", \"mailing_zipcode\"])\n",
    "names_dupe = voters[dupe_names]\n",
    "print(\"Duplicate rows:\")\n",
    "print(names_dupe)\n",
    "\n",
    "# In the 2023 data, there appear to be no duplicates."
   ]
  },
  {
   "cell_type": "code",
   "execution_count": null,
   "id": "65f5edb8",
   "metadata": {},
   "outputs": [],
   "source": [
    "### Categorical ###"
   ]
  },
  {
   "cell_type": "code",
   "execution_count": null,
   "id": "1f902a72",
   "metadata": {},
   "outputs": [],
   "source": []
  },
  {
   "cell_type": "code",
   "execution_count": 58,
   "id": "213111a2",
   "metadata": {},
   "outputs": [
    {
     "name": "stdout",
     "output_type": "stream",
     "text": [
      "<class 'pandas.core.frame.DataFrame'>\n",
      "Int64Index: 4268187 entries, 1 to 4268187\n",
      "Data columns (total 54 columns):\n",
      " #   Column                     Dtype \n",
      "---  ------                     ----- \n",
      " 0   county                     object\n",
      " 1   voter_id                   object\n",
      " 2   first_name                 object\n",
      " 3   middle_name                object\n",
      " 4   last_name                  object\n",
      " 5   suffix                     object\n",
      " 6   house_number               object\n",
      " 7   house_suffix               object\n",
      " 8   pre_direction              object\n",
      " 9   street_name                object\n",
      " 10  street_type                object\n",
      " 11  post_direction             object\n",
      " 12  unit_type                  object\n",
      " 13  unit_number                object\n",
      " 14  non_standard_address       object\n",
      " 15  residential_city           object\n",
      " 16  residential_state          object\n",
      " 17  residential_zipcode        object\n",
      " 18  mailing_address            object\n",
      " 19  mailing_city               object\n",
      " 20  mailing_state              object\n",
      " 21  mailing_zipcode            object\n",
      " 22  birthdate                  object\n",
      " 23  political_party            object\n",
      " 24  registration_date          object\n",
      " 25  precinct                   object\n",
      " 26  precinct_name              object\n",
      " 27  split                      object\n",
      " 28  township                   object\n",
      " 29  ward                       object\n",
      " 30  congressional_district_20  object\n",
      " 31  legislative_district_20    object\n",
      " 32  senate_district_20         object\n",
      " 33  voter_status               object\n",
      " 34  voter_history_1            object\n",
      " 35  voter_history_2            object\n",
      " 36  voter_history_3            object\n",
      " 37  voter_history_4            object\n",
      " 38  voter_history_5            object\n",
      " 39  voter_history_6            object\n",
      " 40  voter_history_7            object\n",
      " 41  voter_history_8            object\n",
      " 42  voter_history_9            object\n",
      " 43  voter_history_10           object\n",
      " 44  voter_history_11           object\n",
      " 45  voter_history_12           object\n",
      " 46  voter_history_13           object\n",
      " 47  voter_history_14           object\n",
      " 48  voter_history_15           object\n",
      " 49  voter_history_16           object\n",
      " 50  voter_history_17           object\n",
      " 51  voter_history_18           object\n",
      " 52  voter_history_19           object\n",
      " 53  voter_history_20           object\n",
      "dtypes: object(54)\n",
      "memory usage: 1.7+ GB\n"
     ]
    }
   ],
   "source": [
    "voters.info()"
   ]
  },
  {
   "cell_type": "code",
   "execution_count": 60,
   "id": "7eddd0fb",
   "metadata": {},
   "outputs": [
    {
     "name": "stdout",
     "output_type": "stream",
     "text": [
      "['voter_history_1', 'voter_history_2', 'voter_history_3', 'voter_history_4', 'voter_history_5', 'voter_history_6', 'voter_history_7', 'voter_history_8', 'voter_history_9', 'voter_history_10', 'voter_history_11', 'voter_history_12', 'voter_history_13', 'voter_history_14', 'voter_history_15', 'voter_history_16', 'voter_history_17', 'voter_history_18', 'voter_history_19', 'voter_history_20']\n"
     ]
    }
   ],
   "source": [
    "# There are 20 voter history columns. We'll keep the most recent and store the others in a different dataframe.\n",
    "# Also get the names of column headers so we can use them to put the columns we need in another dataframe.\n",
    "\n",
    "column_headers = list(voters.columns.values)\n",
    "del_cols = column_headers[34:]\n",
    "print(del_cols)"
   ]
  },
  {
   "cell_type": "code",
   "execution_count": 61,
   "id": "2e692151",
   "metadata": {},
   "outputs": [],
   "source": [
    "# Put old voter history cols 2-20 into a new, separate dataframe\n",
    "\n",
    "voterh = pd.DataFrame()\n",
    "voterh = pd.concat([voterh,voters[del_cols]],axis=0)"
   ]
  },
  {
   "cell_type": "code",
   "execution_count": 62,
   "id": "2e24648e",
   "metadata": {},
   "outputs": [
    {
     "name": "stdout",
     "output_type": "stream",
     "text": [
      "<class 'pandas.core.frame.DataFrame'>\n",
      "Int64Index: 4268187 entries, 1 to 4268187\n",
      "Data columns (total 20 columns):\n",
      " #   Column            Dtype \n",
      "---  ------            ----- \n",
      " 0   voter_history_1   object\n",
      " 1   voter_history_2   object\n",
      " 2   voter_history_3   object\n",
      " 3   voter_history_4   object\n",
      " 4   voter_history_5   object\n",
      " 5   voter_history_6   object\n",
      " 6   voter_history_7   object\n",
      " 7   voter_history_8   object\n",
      " 8   voter_history_9   object\n",
      " 9   voter_history_10  object\n",
      " 10  voter_history_11  object\n",
      " 11  voter_history_12  object\n",
      " 12  voter_history_13  object\n",
      " 13  voter_history_14  object\n",
      " 14  voter_history_15  object\n",
      " 15  voter_history_16  object\n",
      " 16  voter_history_17  object\n",
      " 17  voter_history_18  object\n",
      " 18  voter_history_19  object\n",
      " 19  voter_history_20  object\n",
      "dtypes: object(20)\n",
      "memory usage: 683.8+ MB\n"
     ]
    }
   ],
   "source": [
    "# Checking voter history dataframe\n",
    "\n",
    "voterh.info()"
   ]
  },
  {
   "cell_type": "code",
   "execution_count": null,
   "id": "479c9dad",
   "metadata": {},
   "outputs": [],
   "source": []
  },
  {
   "cell_type": "code",
   "execution_count": 19,
   "id": "5ff53190",
   "metadata": {},
   "outputs": [],
   "source": [
    "# Drop voter history 2-20 from original dataframe\n",
    "\n",
    "voters.drop(columns=['voter_history_2', 'voter_history_3', 'voter_history_4', 'voter_history_5', 'voter_history_6', 'voter_history_7', 'voter_history_8', 'voter_history_9', 'voter_history_10', 'voter_history_11', 'voter_history_12', 'voter_history_13', 'voter_history_14', 'voter_history_15', 'voter_history_16', 'voter_history_17', 'voter_history_18', 'voter_history_19', 'voter_history_20'], inplace=True)"
   ]
  },
  {
   "cell_type": "code",
   "execution_count": 20,
   "id": "df27835c",
   "metadata": {},
   "outputs": [
    {
     "name": "stdout",
     "output_type": "stream",
     "text": [
      "<class 'pandas.core.frame.DataFrame'>\n",
      "RangeIndex: 4268188 entries, 0 to 4268187\n",
      "Data columns (total 35 columns):\n",
      " #   Column                     Dtype \n",
      "---  ------                     ----- \n",
      " 0   county                     object\n",
      " 1   voter_id                   object\n",
      " 2   first_name                 object\n",
      " 3   middle_name                object\n",
      " 4   last_name                  object\n",
      " 5   suffix                     object\n",
      " 6   house_number               object\n",
      " 7   house_suffix               object\n",
      " 8   pre_direction              object\n",
      " 9   street_name                object\n",
      " 10  street_type                object\n",
      " 11  post_direction             object\n",
      " 12  unit_type                  object\n",
      " 13  unit_number                object\n",
      " 14  non_standard_address       object\n",
      " 15  residential_city           object\n",
      " 16  residential_state          object\n",
      " 17  residential_zipcode        object\n",
      " 18  mailing_address            object\n",
      " 19  mailing_city               object\n",
      " 20  mailing_state              object\n",
      " 21  mailing_zipcode            object\n",
      " 22  birthdate                  object\n",
      " 23  political_party            object\n",
      " 24  registration_date          object\n",
      " 25  precinct                   object\n",
      " 26  precinct_name              object\n",
      " 27  split                      object\n",
      " 28  township                   object\n",
      " 29  ward                       object\n",
      " 30  congressional_district_20  object\n",
      " 31  legislative_district_20    object\n",
      " 32  senate_district_20         object\n",
      " 33  voter_status               object\n",
      " 34  voter_history_1            object\n",
      "dtypes: object(35)\n",
      "memory usage: 1.1+ GB\n"
     ]
    }
   ],
   "source": [
    "voters.info()"
   ]
  },
  {
   "cell_type": "code",
   "execution_count": 21,
   "id": "df9acc22",
   "metadata": {},
   "outputs": [],
   "source": [
    "# Change names of columns to match old file \n",
    "\n",
    "voters.rename(columns = {'mailing_address':'address_clean', 'mailing_zipcode':'zip_clean', 'mailing_city':'city_clean', 'residential_city': 'city', 'residential_zip': 'zip', 'mailing_state': 'state', 'congressional_district_20': 'congressional', 'legislative_district_20': 'legislative', 'senate_district_20': 'senate', 'voter_history_1': 'last_election'}, inplace = True)"
   ]
  },
  {
   "cell_type": "code",
   "execution_count": 22,
   "id": "83f07f04",
   "metadata": {},
   "outputs": [
    {
     "ename": "KeyError",
     "evalue": "'mailing_address'",
     "output_type": "error",
     "traceback": [
      "\u001b[0;31m---------------------------------------------------------------------------\u001b[0m",
      "\u001b[0;31mKeyError\u001b[0m                                  Traceback (most recent call last)",
      "\u001b[0;32m~/.virtualenvs/tap-cpi/lib/python3.7/site-packages/pandas/core/indexes/base.py\u001b[0m in \u001b[0;36mget_loc\u001b[0;34m(self, key, method, tolerance)\u001b[0m\n\u001b[1;32m   3360\u001b[0m             \u001b[0;32mtry\u001b[0m\u001b[0;34m:\u001b[0m\u001b[0;34m\u001b[0m\u001b[0;34m\u001b[0m\u001b[0m\n\u001b[0;32m-> 3361\u001b[0;31m                 \u001b[0;32mreturn\u001b[0m \u001b[0mself\u001b[0m\u001b[0;34m.\u001b[0m\u001b[0m_engine\u001b[0m\u001b[0;34m.\u001b[0m\u001b[0mget_loc\u001b[0m\u001b[0;34m(\u001b[0m\u001b[0mcasted_key\u001b[0m\u001b[0;34m)\u001b[0m\u001b[0;34m\u001b[0m\u001b[0;34m\u001b[0m\u001b[0m\n\u001b[0m\u001b[1;32m   3362\u001b[0m             \u001b[0;32mexcept\u001b[0m \u001b[0mKeyError\u001b[0m \u001b[0;32mas\u001b[0m \u001b[0merr\u001b[0m\u001b[0;34m:\u001b[0m\u001b[0;34m\u001b[0m\u001b[0;34m\u001b[0m\u001b[0m\n",
      "\u001b[0;32m~/.virtualenvs/tap-cpi/lib/python3.7/site-packages/pandas/_libs/index.pyx\u001b[0m in \u001b[0;36mpandas._libs.index.IndexEngine.get_loc\u001b[0;34m()\u001b[0m\n",
      "\u001b[0;32m~/.virtualenvs/tap-cpi/lib/python3.7/site-packages/pandas/_libs/index.pyx\u001b[0m in \u001b[0;36mpandas._libs.index.IndexEngine.get_loc\u001b[0;34m()\u001b[0m\n",
      "\u001b[0;32mpandas/_libs/hashtable_class_helper.pxi\u001b[0m in \u001b[0;36mpandas._libs.hashtable.PyObjectHashTable.get_item\u001b[0;34m()\u001b[0m\n",
      "\u001b[0;32mpandas/_libs/hashtable_class_helper.pxi\u001b[0m in \u001b[0;36mpandas._libs.hashtable.PyObjectHashTable.get_item\u001b[0;34m()\u001b[0m\n",
      "\u001b[0;31mKeyError\u001b[0m: 'mailing_address'",
      "\nThe above exception was the direct cause of the following exception:\n",
      "\u001b[0;31mKeyError\u001b[0m                                  Traceback (most recent call last)",
      "\u001b[0;32mos.path.abspath()\u001b[0m in \u001b[0;36m<module>\u001b[0;34m\u001b[0m\n\u001b[0;32m----> 1\u001b[0;31m \u001b[0mprint\u001b[0m\u001b[0;34m(\u001b[0m\u001b[0mvoters\u001b[0m\u001b[0;34m[\u001b[0m\u001b[0;34m'mailing_address'\u001b[0m\u001b[0;34m]\u001b[0m\u001b[0;34m.\u001b[0m\u001b[0munique\u001b[0m\u001b[0;34m(\u001b[0m\u001b[0;34m)\u001b[0m\u001b[0;34m)\u001b[0m\u001b[0;34m\u001b[0m\u001b[0;34m\u001b[0m\u001b[0m\n\u001b[0m",
      "\u001b[0;32m~/.virtualenvs/tap-cpi/lib/python3.7/site-packages/pandas/core/frame.py\u001b[0m in \u001b[0;36m__getitem__\u001b[0;34m(self, key)\u001b[0m\n\u001b[1;32m   3456\u001b[0m             \u001b[0;32mif\u001b[0m \u001b[0mself\u001b[0m\u001b[0;34m.\u001b[0m\u001b[0mcolumns\u001b[0m\u001b[0;34m.\u001b[0m\u001b[0mnlevels\u001b[0m \u001b[0;34m>\u001b[0m \u001b[0;36m1\u001b[0m\u001b[0;34m:\u001b[0m\u001b[0;34m\u001b[0m\u001b[0;34m\u001b[0m\u001b[0m\n\u001b[1;32m   3457\u001b[0m                 \u001b[0;32mreturn\u001b[0m \u001b[0mself\u001b[0m\u001b[0;34m.\u001b[0m\u001b[0m_getitem_multilevel\u001b[0m\u001b[0;34m(\u001b[0m\u001b[0mkey\u001b[0m\u001b[0;34m)\u001b[0m\u001b[0;34m\u001b[0m\u001b[0;34m\u001b[0m\u001b[0m\n\u001b[0;32m-> 3458\u001b[0;31m             \u001b[0mindexer\u001b[0m \u001b[0;34m=\u001b[0m \u001b[0mself\u001b[0m\u001b[0;34m.\u001b[0m\u001b[0mcolumns\u001b[0m\u001b[0;34m.\u001b[0m\u001b[0mget_loc\u001b[0m\u001b[0;34m(\u001b[0m\u001b[0mkey\u001b[0m\u001b[0;34m)\u001b[0m\u001b[0;34m\u001b[0m\u001b[0;34m\u001b[0m\u001b[0m\n\u001b[0m\u001b[1;32m   3459\u001b[0m             \u001b[0;32mif\u001b[0m \u001b[0mis_integer\u001b[0m\u001b[0;34m(\u001b[0m\u001b[0mindexer\u001b[0m\u001b[0;34m)\u001b[0m\u001b[0;34m:\u001b[0m\u001b[0;34m\u001b[0m\u001b[0;34m\u001b[0m\u001b[0m\n\u001b[1;32m   3460\u001b[0m                 \u001b[0mindexer\u001b[0m \u001b[0;34m=\u001b[0m \u001b[0;34m[\u001b[0m\u001b[0mindexer\u001b[0m\u001b[0;34m]\u001b[0m\u001b[0;34m\u001b[0m\u001b[0;34m\u001b[0m\u001b[0m\n",
      "\u001b[0;32m~/.virtualenvs/tap-cpi/lib/python3.7/site-packages/pandas/core/indexes/base.py\u001b[0m in \u001b[0;36mget_loc\u001b[0;34m(self, key, method, tolerance)\u001b[0m\n\u001b[1;32m   3361\u001b[0m                 \u001b[0;32mreturn\u001b[0m \u001b[0mself\u001b[0m\u001b[0;34m.\u001b[0m\u001b[0m_engine\u001b[0m\u001b[0;34m.\u001b[0m\u001b[0mget_loc\u001b[0m\u001b[0;34m(\u001b[0m\u001b[0mcasted_key\u001b[0m\u001b[0;34m)\u001b[0m\u001b[0;34m\u001b[0m\u001b[0;34m\u001b[0m\u001b[0m\n\u001b[1;32m   3362\u001b[0m             \u001b[0;32mexcept\u001b[0m \u001b[0mKeyError\u001b[0m \u001b[0;32mas\u001b[0m \u001b[0merr\u001b[0m\u001b[0;34m:\u001b[0m\u001b[0;34m\u001b[0m\u001b[0;34m\u001b[0m\u001b[0m\n\u001b[0;32m-> 3363\u001b[0;31m                 \u001b[0;32mraise\u001b[0m \u001b[0mKeyError\u001b[0m\u001b[0;34m(\u001b[0m\u001b[0mkey\u001b[0m\u001b[0;34m)\u001b[0m \u001b[0;32mfrom\u001b[0m \u001b[0merr\u001b[0m\u001b[0;34m\u001b[0m\u001b[0;34m\u001b[0m\u001b[0m\n\u001b[0m\u001b[1;32m   3364\u001b[0m \u001b[0;34m\u001b[0m\u001b[0m\n\u001b[1;32m   3365\u001b[0m         \u001b[0;32mif\u001b[0m \u001b[0mis_scalar\u001b[0m\u001b[0;34m(\u001b[0m\u001b[0mkey\u001b[0m\u001b[0;34m)\u001b[0m \u001b[0;32mand\u001b[0m \u001b[0misna\u001b[0m\u001b[0;34m(\u001b[0m\u001b[0mkey\u001b[0m\u001b[0;34m)\u001b[0m \u001b[0;32mand\u001b[0m \u001b[0;32mnot\u001b[0m \u001b[0mself\u001b[0m\u001b[0;34m.\u001b[0m\u001b[0mhasnans\u001b[0m\u001b[0;34m:\u001b[0m\u001b[0;34m\u001b[0m\u001b[0;34m\u001b[0m\u001b[0m\n",
      "\u001b[0;31mKeyError\u001b[0m: 'mailing_address'"
     ]
    }
   ],
   "source": [
    "print(voters['mailing_address'].unique())"
   ]
  },
  {
   "cell_type": "code",
   "execution_count": null,
   "id": "71921dfb",
   "metadata": {},
   "outputs": [],
   "source": [
    "voters.info()"
   ]
  },
  {
   "cell_type": "code",
   "execution_count": null,
   "id": "097ec36f",
   "metadata": {},
   "outputs": [],
   "source": [
    "# For source and dupe_flag, we will create them and fill them with values to match the old file\n",
    "\n",
    "voters['source'] = 1\n",
    "voters['dupe_flag'] = 'FALSE'"
   ]
  },
  {
   "cell_type": "code",
   "execution_count": null,
   "id": "859c4371",
   "metadata": {},
   "outputs": [],
   "source": [
    "# Drop the residential state field because we already have a state field \n",
    "\n",
    "voters.drop('residential_state', axis=1, inplace=True)"
   ]
  },
  {
   "cell_type": "code",
   "execution_count": null,
   "id": "f5e788ae",
   "metadata": {},
   "outputs": [],
   "source": [
    "# Drop residential ZIP because we already have a ZIP field\n",
    "\n",
    "voters.drop('residential_zipcode', axis=1, inplace=True)"
   ]
  },
  {
   "cell_type": "code",
   "execution_count": null,
   "id": "6b337ace",
   "metadata": {},
   "outputs": [],
   "source": [
    "voters.info()"
   ]
  },
  {
   "cell_type": "code",
   "execution_count": null,
   "id": "91c21a41",
   "metadata": {},
   "outputs": [],
   "source": []
  }
 ],
 "metadata": {
  "kernelspec": {
   "display_name": "Python 3 (ipykernel)",
   "language": "python",
   "name": "python3"
  },
  "language_info": {
   "codemirror_mode": {
    "name": "ipython",
    "version": 3
   },
   "file_extension": ".py",
   "mimetype": "text/x-python",
   "name": "python",
   "nbconvert_exporter": "python",
   "pygments_lexer": "ipython3",
   "version": "3.7.3"
  }
 },
 "nbformat": 4,
 "nbformat_minor": 5
}
