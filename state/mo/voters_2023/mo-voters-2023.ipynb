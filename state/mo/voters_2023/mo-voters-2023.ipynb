{
 "cells": [
  {
   "cell_type": "code",
   "execution_count": 73,
   "id": "2df1fd51",
   "metadata": {},
   "outputs": [],
   "source": [
    "import pandas as pd\n",
    "from zipfile import ZipFile\n",
    "import os\n",
    "import math\n",
    "import numpy as np"
   ]
  },
  {
   "cell_type": "code",
   "execution_count": 74,
   "id": "5d062ee8",
   "metadata": {},
   "outputs": [],
   "source": [
    "# Set relative filepaths\n",
    "# Missouri voter data is obtained via public records request to the Elections Division, Office of Secretary of State\n",
    "# More info about data source can be found in the README\n",
    "\n",
    "__file__ = 'os.path.abspath('')'\n",
    "\n",
    "script_dir = os.path.dirname(__file__)\n",
    "rel_path = './data/Missouri'\n",
    "abs_file_path = os.path.join(script_dir, rel_path)"
   ]
  },
  {
   "cell_type": "code",
   "execution_count": 75,
   "id": "0c0b48bf",
   "metadata": {},
   "outputs": [],
   "source": [
    "# Show the name of the zipfile that is opened in the next step\n",
    "\n",
    "files = os.listdir(abs_file_path)"
   ]
  },
  {
   "cell_type": "code",
   "execution_count": 76,
   "id": "ae7dc68b",
   "metadata": {},
   "outputs": [],
   "source": [
    "# Read the zipfile\n",
    "\n",
    "voters = (files[1])\n",
    "zf = ZipFile(abs_file_path + \"/\" + voters)"
   ]
  },
  {
   "cell_type": "code",
   "execution_count": 77,
   "id": "d2c9242a",
   "metadata": {},
   "outputs": [
    {
     "data": {
      "text/plain": [
       "['data\\\\PSR_VotersList_01032023_9-51-24 AM.txt']"
      ]
     },
     "execution_count": 77,
     "metadata": {},
     "output_type": "execute_result"
    }
   ],
   "source": [
    "# List files in zipfile\n",
    "\n",
    "zf.namelist()"
   ]
  },
  {
   "cell_type": "code",
   "execution_count": 85,
   "id": "3acbeb68",
   "metadata": {},
   "outputs": [
    {
     "name": "stderr",
     "output_type": "stream",
     "text": [
      "/Users/jayohday/.virtualenvs/tap-cpi/lib/python3.7/site-packages/IPython/core/interactiveshell.py:3553: DtypeWarning: Columns (1,6,7,11,14,17,21,22,25,26,27,28,29) have mixed types.Specify dtype option on import or set low_memory=False.\n",
      "  exec(code_obj, self.user_global_ns, self.user_ns)\n"
     ]
    }
   ],
   "source": [
    "# Load data into dataframe, first with no header for processing reasons\n",
    "\n",
    "voters = pd.read_csv(zf.open('data\\\\PSR_VotersList_01032023_9-51-24 AM.txt'), sep='\\t', header=None)"
   ]
  },
  {
   "cell_type": "code",
   "execution_count": 86,
   "id": "5810815b",
   "metadata": {},
   "outputs": [],
   "source": [
    "# Now set the first row as header\n",
    "\n",
    "voters.columns = voters.iloc[0] "
   ]
  },
  {
   "cell_type": "code",
   "execution_count": 87,
   "id": "79885547",
   "metadata": {},
   "outputs": [
    {
     "name": "stdout",
     "output_type": "stream",
     "text": [
      "<class 'pandas.core.frame.DataFrame'>\n",
      "RangeIndex: 4268188 entries, 0 to 4268187\n",
      "Data columns (total 54 columns):\n",
      " #   Column                     Dtype \n",
      "---  ------                     ----- \n",
      " 0   County                     object\n",
      " 1   Voter ID                   object\n",
      " 2   First Name                 object\n",
      " 3   Middle Name                object\n",
      " 4   Last Name                  object\n",
      " 5   Suffix                     object\n",
      " 6   House Number               object\n",
      " 7   House Suffix               object\n",
      " 8   Pre Direction              object\n",
      " 9   Street Name                object\n",
      " 10  Street Type                object\n",
      " 11  Post Direction             object\n",
      " 12  Unit Type                  object\n",
      " 13  Unit Number                object\n",
      " 14  Non Standard Address       object\n",
      " 15  Residential City           object\n",
      " 16  Residential State          object\n",
      " 17  Residential ZipCode        object\n",
      " 18  Mailing Address            object\n",
      " 19  Mailing City               object\n",
      " 20  Mailing State              object\n",
      " 21  Mailing ZipCode            object\n",
      " 22  Birthdate                  object\n",
      " 23  Political Party            object\n",
      " 24  Registration Date          object\n",
      " 25  Precinct                   object\n",
      " 26  Precinct Name              object\n",
      " 27  Split                      object\n",
      " 28  Township                   object\n",
      " 29  Ward                       object\n",
      " 30  CONGRESSIONAL DISTRICT 20  object\n",
      " 31  LEGISLATIVE DISTRICT 20    object\n",
      " 32  SENATE DISTRICT 20         object\n",
      " 33  Voter Status               object\n",
      " 34  Voter History 1            object\n",
      " 35  Voter History 2            object\n",
      " 36  Voter History 3            object\n",
      " 37  Voter History 4            object\n",
      " 38  Voter History 5            object\n",
      " 39  Voter History 6            object\n",
      " 40  Voter History 7            object\n",
      " 41  Voter History 8            object\n",
      " 42  Voter History 9            object\n",
      " 43  Voter History 10           object\n",
      " 44  Voter History 11           object\n",
      " 45  Voter History 12           object\n",
      " 46  Voter History 13           object\n",
      " 47  Voter History 14           object\n",
      " 48  Voter History 15           object\n",
      " 49  Voter History 16           object\n",
      " 50  Voter History 17           object\n",
      " 51  Voter History 18           object\n",
      " 52  Voter History 19           object\n",
      " 53  Voter History 20           object\n",
      "dtypes: object(54)\n",
      "memory usage: 1.7+ GB\n"
     ]
    }
   ],
   "source": [
    "# Checking the df\n",
    "\n",
    "voters.info()"
   ]
  },
  {
   "cell_type": "code",
   "execution_count": 101,
   "id": "ef2ce125",
   "metadata": {},
   "outputs": [
    {
     "name": "stdout",
     "output_type": "stream",
     "text": [
      "['County', 'Voter ID', 'First Name', 'Middle Name', 'Last Name', 'Suffix', 'House Number', 'House Suffix', 'Pre Direction', 'Street Name', 'Street Type', 'Post Direction', 'Unit Type', 'Unit Number', 'Non Standard Address', 'Residential City', 'Residential State', 'Residential ZipCode', 'Mailing Address', 'Mailing City', 'Mailing State', 'Mailing ZipCode', 'Birthdate', 'Political Party', 'Registration Date', 'Precinct', 'Precinct Name', 'Split', 'Township', 'Ward', 'CONGRESSIONAL DISTRICT 20', 'LEGISLATIVE DISTRICT 20', 'SENATE DISTRICT 20', 'Voter Status', 'Voter History 1', 'Voter History 2', 'Voter History 3', 'Voter History 4', 'Voter History 5', 'Voter History 6', 'Voter History 7', 'Voter History 8', 'Voter History 9', 'Voter History 10', 'Voter History 11', 'Voter History 12', 'Voter History 13', 'Voter History 14', 'Voter History 15', 'Voter History 16', 'Voter History 17', 'Voter History 18', 'Voter History 19', 'Voter History 20']\n",
      "['Voter History 2', 'Voter History 3', 'Voter History 4', 'Voter History 5', 'Voter History 6', 'Voter History 7', 'Voter History 8', 'Voter History 9', 'Voter History 10', 'Voter History 11', 'Voter History 12', 'Voter History 13', 'Voter History 14', 'Voter History 15', 'Voter History 16', 'Voter History 17', 'Voter History 18', 'Voter History 19', 'Voter History 20']\n"
     ]
    }
   ],
   "source": [
    "# There are 20 voter history columns. We'll keep the most recent and store the others in a different dataframe.\n",
    "# Get names of column headers so we can use them to put the cols we need to in another df \n",
    "\n",
    "column_headers = list(voters.columns.values)\n",
    "print(column_headers)\n",
    "del_cols = column_headers[35:]\n",
    "print(del_cols)"
   ]
  },
  {
   "cell_type": "code",
   "execution_count": 102,
   "id": "067f5f3b",
   "metadata": {},
   "outputs": [],
   "source": [
    "# Put voter history 2-20 into a new, separate dataframe\n",
    "\n",
    "voters2 = pd.DataFrame()\n",
    "voters2 = pd.concat([voters2,voters[del_cols]],axis=0)"
   ]
  },
  {
   "cell_type": "code",
   "execution_count": 103,
   "id": "66eb9c07",
   "metadata": {},
   "outputs": [
    {
     "name": "stdout",
     "output_type": "stream",
     "text": [
      "<class 'pandas.core.frame.DataFrame'>\n",
      "RangeIndex: 4268188 entries, 0 to 4268187\n",
      "Data columns (total 19 columns):\n",
      " #   Column            Dtype \n",
      "---  ------            ----- \n",
      " 0   Voter History 2   object\n",
      " 1   Voter History 3   object\n",
      " 2   Voter History 4   object\n",
      " 3   Voter History 5   object\n",
      " 4   Voter History 6   object\n",
      " 5   Voter History 7   object\n",
      " 6   Voter History 8   object\n",
      " 7   Voter History 9   object\n",
      " 8   Voter History 10  object\n",
      " 9   Voter History 11  object\n",
      " 10  Voter History 12  object\n",
      " 11  Voter History 13  object\n",
      " 12  Voter History 14  object\n",
      " 13  Voter History 15  object\n",
      " 14  Voter History 16  object\n",
      " 15  Voter History 17  object\n",
      " 16  Voter History 18  object\n",
      " 17  Voter History 19  object\n",
      " 18  Voter History 20  object\n",
      "dtypes: object(19)\n",
      "memory usage: 618.7+ MB\n"
     ]
    }
   ],
   "source": [
    "# Checking voter history dataframe\n",
    "\n",
    "voters2.info()"
   ]
  },
  {
   "cell_type": "code",
   "execution_count": 107,
   "id": "cd4bb0b3",
   "metadata": {},
   "outputs": [
    {
     "ename": "TypeError",
     "evalue": "replace() takes no keyword arguments",
     "output_type": "error",
     "traceback": [
      "\u001b[0;31m---------------------------------------------------------------------------\u001b[0m",
      "\u001b[0;31mTypeError\u001b[0m                                 Traceback (most recent call last)",
      "\u001b[0;32mos.path.abspath()\u001b[0m in \u001b[0;36m<module>\u001b[0;34m\u001b[0m\n\u001b[1;32m      2\u001b[0m \u001b[0;34m\u001b[0m\u001b[0m\n\u001b[1;32m      3\u001b[0m \u001b[0;32mfor\u001b[0m \u001b[0mx\u001b[0m \u001b[0;32min\u001b[0m \u001b[0mdel_cols\u001b[0m\u001b[0;34m:\u001b[0m\u001b[0;34m\u001b[0m\u001b[0;34m\u001b[0m\u001b[0m\n\u001b[0;32m----> 4\u001b[0;31m     \u001b[0mx\u001b[0m\u001b[0;34m.\u001b[0m\u001b[0mreplace\u001b[0m\u001b[0;34m(\u001b[0m\u001b[0;34m'\\n'\u001b[0m\u001b[0;34m,\u001b[0m \u001b[0;34m''\u001b[0m\u001b[0;34m,\u001b[0m \u001b[0mregex\u001b[0m\u001b[0;34m=\u001b[0m\u001b[0;32mTrue\u001b[0m\u001b[0;34m,\u001b[0m \u001b[0minplace\u001b[0m\u001b[0;34m=\u001b[0m\u001b[0;32mTrue\u001b[0m\u001b[0;34m)\u001b[0m\u001b[0;34m\u001b[0m\u001b[0;34m\u001b[0m\u001b[0m\n\u001b[0m\u001b[1;32m      5\u001b[0m \u001b[0;34m\u001b[0m\u001b[0m\n\u001b[1;32m      6\u001b[0m \u001b[0mvoters\u001b[0m\u001b[0;34m.\u001b[0m\u001b[0mdrop\u001b[0m\u001b[0;34m(\u001b[0m\u001b[0mdel_cols\u001b[0m\u001b[0;34m,\u001b[0m \u001b[0minplace\u001b[0m\u001b[0;34m=\u001b[0m\u001b[0;32mTrue\u001b[0m\u001b[0;34m)\u001b[0m\u001b[0;34m\u001b[0m\u001b[0;34m\u001b[0m\u001b[0m\n",
      "\u001b[0;31mTypeError\u001b[0m: replace() takes no keyword arguments"
     ]
    }
   ],
   "source": [
    "# Drop voter history 2-20 from original dataframe\n",
    "\n",
    "\n",
    "for x in del_cols:\n",
    "    x.replace('\\n', '', regex=True, inplace=True)\n",
    "\n",
    "voters.drop(del_cols, inplace=True)"
   ]
  }
 ],
 "metadata": {
  "kernelspec": {
   "display_name": "Python 3 (ipykernel)",
   "language": "python",
   "name": "python3"
  },
  "language_info": {
   "codemirror_mode": {
    "name": "ipython",
    "version": 3
   },
   "file_extension": ".py",
   "mimetype": "text/x-python",
   "name": "python",
   "nbconvert_exporter": "python",
   "pygments_lexer": "ipython3",
   "version": "3.7.3"
  }
 },
 "nbformat": 4,
 "nbformat_minor": 5
}
