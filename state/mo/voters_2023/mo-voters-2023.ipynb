{
 "cells": [
  {
   "cell_type": "code",
   "execution_count": 67,
   "id": "b291a292",
   "metadata": {},
   "outputs": [],
   "source": [
    "### Packages ###"
   ]
  },
  {
   "cell_type": "code",
   "execution_count": 68,
   "id": "08bc3b9e",
   "metadata": {},
   "outputs": [],
   "source": [
    "import pandas as pd\n",
    "import pandas_usaddress\n",
    "from zipfile import ZipFile\n",
    "import os\n",
    "import math\n",
    "import numpy as np\n",
    "from slugify import slugify\n",
    "import locale\n",
    "from scourgify import normalize_address_record, NormalizeAddress\n",
    "import pprint as pprint\n",
    "import usaddress\n",
    "from scourgify import normalize_address_record, NormalizeAddress\n",
    "locale.setlocale(locale.LC_ALL, '')\n",
    "# for printing dfs\n",
    "pd.options.display.max_rows = 100\n",
    "# for printing lists\n",
    "pd.options.display.max_seq_items = 50"
   ]
  },
  {
   "cell_type": "code",
   "execution_count": 69,
   "id": "77fbac19",
   "metadata": {},
   "outputs": [],
   "source": [
    "### Data ###"
   ]
  },
  {
   "cell_type": "code",
   "execution_count": 70,
   "id": "263f5948",
   "metadata": {},
   "outputs": [],
   "source": [
    "# Set relative filepaths\n",
    "# Missouri voter data is obtained via public records request to the Elections Division, Office of Secretary of State\n",
    "# More info about data source can be found in the README\n",
    "\n",
    "__file__ = 'os.path.abspath('')'\n",
    "\n",
    "script_dir = os.path.dirname(__file__)\n",
    "rel_path = './data/Missouri'\n",
    "abs_file_path = os.path.join(script_dir, rel_path)"
   ]
  },
  {
   "cell_type": "code",
   "execution_count": 71,
   "id": "9972fe45",
   "metadata": {},
   "outputs": [],
   "source": [
    "### Read ###"
   ]
  },
  {
   "cell_type": "code",
   "execution_count": 72,
   "id": "1dbe3be6",
   "metadata": {},
   "outputs": [],
   "source": [
    "# Get list of files from zipfile opened in next step\n",
    "\n",
    "files = os.listdir(abs_file_path)"
   ]
  },
  {
   "cell_type": "code",
   "execution_count": 73,
   "id": "69321ebf",
   "metadata": {},
   "outputs": [],
   "source": [
    "# Read the zipfile\n",
    "\n",
    "voters = (files[1])\n",
    "zf = ZipFile(abs_file_path + \"/\" + voters)"
   ]
  },
  {
   "cell_type": "code",
   "execution_count": 74,
   "id": "886dfa95",
   "metadata": {},
   "outputs": [
    {
     "data": {
      "text/plain": [
       "['data\\\\PSR_VotersList_01032023_9-51-24 AM.txt']"
      ]
     },
     "execution_count": 74,
     "metadata": {},
     "output_type": "execute_result"
    }
   ],
   "source": [
    "# List files in zipfile\n",
    "\n",
    "zf.namelist()"
   ]
  },
  {
   "cell_type": "code",
   "execution_count": 75,
   "id": "e153916b",
   "metadata": {},
   "outputs": [
    {
     "name": "stderr",
     "output_type": "stream",
     "text": [
      "/Users/jayohday/.virtualenvs/tap-cpi/lib/python3.7/site-packages/IPython/core/interactiveshell.py:3553: DtypeWarning: Columns (1,6,7,11,14,17,21,22,25,26,27,28,29) have mixed types.Specify dtype option on import or set low_memory=False.\n",
      "  exec(code_obj, self.user_global_ns, self.user_ns)\n"
     ]
    }
   ],
   "source": [
    "# Load data into dataframe, first with no header for processing reasons\n",
    "\n",
    "voters = pd.read_csv(zf.open('data\\\\PSR_VotersList_01032023_9-51-24 AM.txt'), sep='\\t', header=None)"
   ]
  },
  {
   "cell_type": "code",
   "execution_count": 76,
   "id": "440bdd67",
   "metadata": {},
   "outputs": [],
   "source": [
    "# Now set the first row as header\n",
    "\n",
    "voters.columns = voters.iloc[0] "
   ]
  },
  {
   "cell_type": "code",
   "execution_count": 77,
   "id": "420be5da",
   "metadata": {},
   "outputs": [
    {
     "name": "stdout",
     "output_type": "stream",
     "text": [
      "<class 'pandas.core.frame.DataFrame'>\n",
      "RangeIndex: 4268188 entries, 0 to 4268187\n",
      "Data columns (total 54 columns):\n",
      " #   Column                     Dtype \n",
      "---  ------                     ----- \n",
      " 0   County                     object\n",
      " 1   Voter ID                   object\n",
      " 2   First Name                 object\n",
      " 3   Middle Name                object\n",
      " 4   Last Name                  object\n",
      " 5   Suffix                     object\n",
      " 6   House Number               object\n",
      " 7   House Suffix               object\n",
      " 8   Pre Direction              object\n",
      " 9   Street Name                object\n",
      " 10  Street Type                object\n",
      " 11  Post Direction             object\n",
      " 12  Unit Type                  object\n",
      " 13  Unit Number                object\n",
      " 14  Non Standard Address       object\n",
      " 15  Residential City           object\n",
      " 16  Residential State          object\n",
      " 17  Residential ZipCode        object\n",
      " 18  Mailing Address            object\n",
      " 19  Mailing City               object\n",
      " 20  Mailing State              object\n",
      " 21  Mailing ZipCode            object\n",
      " 22  Birthdate                  object\n",
      " 23  Political Party            object\n",
      " 24  Registration Date          object\n",
      " 25  Precinct                   object\n",
      " 26  Precinct Name              object\n",
      " 27  Split                      object\n",
      " 28  Township                   object\n",
      " 29  Ward                       object\n",
      " 30  CONGRESSIONAL DISTRICT 20  object\n",
      " 31  LEGISLATIVE DISTRICT 20    object\n",
      " 32  SENATE DISTRICT 20         object\n",
      " 33  Voter Status               object\n",
      " 34  Voter History 1            object\n",
      " 35  Voter History 2            object\n",
      " 36  Voter History 3            object\n",
      " 37  Voter History 4            object\n",
      " 38  Voter History 5            object\n",
      " 39  Voter History 6            object\n",
      " 40  Voter History 7            object\n",
      " 41  Voter History 8            object\n",
      " 42  Voter History 9            object\n",
      " 43  Voter History 10           object\n",
      " 44  Voter History 11           object\n",
      " 45  Voter History 12           object\n",
      " 46  Voter History 13           object\n",
      " 47  Voter History 14           object\n",
      " 48  Voter History 15           object\n",
      " 49  Voter History 16           object\n",
      " 50  Voter History 17           object\n",
      " 51  Voter History 18           object\n",
      " 52  Voter History 19           object\n",
      " 53  Voter History 20           object\n",
      "dtypes: object(54)\n",
      "memory usage: 1.7+ GB\n"
     ]
    }
   ],
   "source": [
    "# Info on df\n",
    "\n",
    "voters.info()"
   ]
  },
  {
   "cell_type": "code",
   "execution_count": 78,
   "id": "5accb37f",
   "metadata": {},
   "outputs": [],
   "source": [
    "# Slugifying columns\n",
    "\n",
    "voters.columns = voters.columns.str.replace(r'\\W+', '_', regex=True)\n",
    "voters.columns = [x.lower() for x in voters.columns]"
   ]
  },
  {
   "cell_type": "code",
   "execution_count": 79,
   "id": "7ed0a7aa",
   "metadata": {},
   "outputs": [],
   "source": [
    "# Fixing another issue with col names\n",
    "\n",
    "voters.drop(index=voters.index[0], axis=0, inplace=True)"
   ]
  },
  {
   "cell_type": "code",
   "execution_count": 80,
   "id": "0ffef625",
   "metadata": {},
   "outputs": [
    {
     "name": "stdout",
     "output_type": "stream",
     "text": [
      "<class 'pandas.core.frame.DataFrame'>\n",
      "Int64Index: 4268187 entries, 1 to 4268187\n",
      "Data columns (total 54 columns):\n",
      " #   Column                     Dtype \n",
      "---  ------                     ----- \n",
      " 0   county                     object\n",
      " 1   voter_id                   object\n",
      " 2   first_name                 object\n",
      " 3   middle_name                object\n",
      " 4   last_name                  object\n",
      " 5   suffix                     object\n",
      " 6   house_number               object\n",
      " 7   house_suffix               object\n",
      " 8   pre_direction              object\n",
      " 9   street_name                object\n",
      " 10  street_type                object\n",
      " 11  post_direction             object\n",
      " 12  unit_type                  object\n",
      " 13  unit_number                object\n",
      " 14  non_standard_address       object\n",
      " 15  residential_city           object\n",
      " 16  residential_state          object\n",
      " 17  residential_zipcode        object\n",
      " 18  mailing_address            object\n",
      " 19  mailing_city               object\n",
      " 20  mailing_state              object\n",
      " 21  mailing_zipcode            object\n",
      " 22  birthdate                  object\n",
      " 23  political_party            object\n",
      " 24  registration_date          object\n",
      " 25  precinct                   object\n",
      " 26  precinct_name              object\n",
      " 27  split                      object\n",
      " 28  township                   object\n",
      " 29  ward                       object\n",
      " 30  congressional_district_20  object\n",
      " 31  legislative_district_20    object\n",
      " 32  senate_district_20         object\n",
      " 33  voter_status               object\n",
      " 34  voter_history_1            object\n",
      " 35  voter_history_2            object\n",
      " 36  voter_history_3            object\n",
      " 37  voter_history_4            object\n",
      " 38  voter_history_5            object\n",
      " 39  voter_history_6            object\n",
      " 40  voter_history_7            object\n",
      " 41  voter_history_8            object\n",
      " 42  voter_history_9            object\n",
      " 43  voter_history_10           object\n",
      " 44  voter_history_11           object\n",
      " 45  voter_history_12           object\n",
      " 46  voter_history_13           object\n",
      " 47  voter_history_14           object\n",
      " 48  voter_history_15           object\n",
      " 49  voter_history_16           object\n",
      " 50  voter_history_17           object\n",
      " 51  voter_history_18           object\n",
      " 52  voter_history_19           object\n",
      " 53  voter_history_20           object\n",
      "dtypes: object(54)\n",
      "memory usage: 1.7+ GB\n"
     ]
    }
   ],
   "source": [
    "# Checking info on df\n",
    "\n",
    "voters.info()"
   ]
  },
  {
   "cell_type": "code",
   "execution_count": 81,
   "id": "36b2b24a",
   "metadata": {},
   "outputs": [
    {
     "data": {
      "text/html": [
       "<div>\n",
       "<style scoped>\n",
       "    .dataframe tbody tr th:only-of-type {\n",
       "        vertical-align: middle;\n",
       "    }\n",
       "\n",
       "    .dataframe tbody tr th {\n",
       "        vertical-align: top;\n",
       "    }\n",
       "\n",
       "    .dataframe thead th {\n",
       "        text-align: right;\n",
       "    }\n",
       "</style>\n",
       "<table border=\"1\" class=\"dataframe\">\n",
       "  <thead>\n",
       "    <tr style=\"text-align: right;\">\n",
       "      <th></th>\n",
       "      <th>county</th>\n",
       "      <th>voter_id</th>\n",
       "      <th>first_name</th>\n",
       "      <th>middle_name</th>\n",
       "      <th>last_name</th>\n",
       "      <th>suffix</th>\n",
       "      <th>house_number</th>\n",
       "      <th>house_suffix</th>\n",
       "      <th>pre_direction</th>\n",
       "      <th>street_name</th>\n",
       "      <th>...</th>\n",
       "      <th>voter_history_11</th>\n",
       "      <th>voter_history_12</th>\n",
       "      <th>voter_history_13</th>\n",
       "      <th>voter_history_14</th>\n",
       "      <th>voter_history_15</th>\n",
       "      <th>voter_history_16</th>\n",
       "      <th>voter_history_17</th>\n",
       "      <th>voter_history_18</th>\n",
       "      <th>voter_history_19</th>\n",
       "      <th>voter_history_20</th>\n",
       "    </tr>\n",
       "  </thead>\n",
       "  <tbody>\n",
       "    <tr>\n",
       "      <th>1</th>\n",
       "      <td>Adair</td>\n",
       "      <td>461017702</td>\n",
       "      <td>JOHN</td>\n",
       "      <td>WILLIAM</td>\n",
       "      <td>MCNEILL</td>\n",
       "      <td>NaN</td>\n",
       "      <td>1306</td>\n",
       "      <td>NaN</td>\n",
       "      <td>NaN</td>\n",
       "      <td>ROOK</td>\n",
       "      <td>...</td>\n",
       "      <td>NaN</td>\n",
       "      <td>NaN</td>\n",
       "      <td>NaN</td>\n",
       "      <td>NaN</td>\n",
       "      <td>NaN</td>\n",
       "      <td>NaN</td>\n",
       "      <td>NaN</td>\n",
       "      <td>NaN</td>\n",
       "      <td>NaN</td>\n",
       "      <td>NaN</td>\n",
       "    </tr>\n",
       "    <tr>\n",
       "      <th>2</th>\n",
       "      <td>Adair</td>\n",
       "      <td>751833496</td>\n",
       "      <td>ALEXANDER</td>\n",
       "      <td>DOUGLAS STONEBURNER</td>\n",
       "      <td>KARST</td>\n",
       "      <td>NaN</td>\n",
       "      <td>702</td>\n",
       "      <td>NaN</td>\n",
       "      <td>S</td>\n",
       "      <td>SHERIDAN</td>\n",
       "      <td>...</td>\n",
       "      <td>NaN</td>\n",
       "      <td>NaN</td>\n",
       "      <td>NaN</td>\n",
       "      <td>NaN</td>\n",
       "      <td>NaN</td>\n",
       "      <td>NaN</td>\n",
       "      <td>NaN</td>\n",
       "      <td>NaN</td>\n",
       "      <td>NaN</td>\n",
       "      <td>NaN</td>\n",
       "    </tr>\n",
       "    <tr>\n",
       "      <th>3</th>\n",
       "      <td>Adair</td>\n",
       "      <td>751105687</td>\n",
       "      <td>KEVIN</td>\n",
       "      <td>LEE</td>\n",
       "      <td>WINDSPERGER</td>\n",
       "      <td>NaN</td>\n",
       "      <td>17469</td>\n",
       "      <td>NaN</td>\n",
       "      <td>NaN</td>\n",
       "      <td>DAIRY</td>\n",
       "      <td>...</td>\n",
       "      <td>NaN</td>\n",
       "      <td>NaN</td>\n",
       "      <td>NaN</td>\n",
       "      <td>NaN</td>\n",
       "      <td>NaN</td>\n",
       "      <td>NaN</td>\n",
       "      <td>NaN</td>\n",
       "      <td>NaN</td>\n",
       "      <td>NaN</td>\n",
       "      <td>NaN</td>\n",
       "    </tr>\n",
       "    <tr>\n",
       "      <th>4</th>\n",
       "      <td>Adair</td>\n",
       "      <td>752025280</td>\n",
       "      <td>TAYLOR</td>\n",
       "      <td>ANN</td>\n",
       "      <td>CLAYTON</td>\n",
       "      <td>NaN</td>\n",
       "      <td>809</td>\n",
       "      <td>NaN</td>\n",
       "      <td>S</td>\n",
       "      <td>MULANIX</td>\n",
       "      <td>...</td>\n",
       "      <td>NaN</td>\n",
       "      <td>NaN</td>\n",
       "      <td>NaN</td>\n",
       "      <td>NaN</td>\n",
       "      <td>NaN</td>\n",
       "      <td>NaN</td>\n",
       "      <td>NaN</td>\n",
       "      <td>NaN</td>\n",
       "      <td>NaN</td>\n",
       "      <td>NaN</td>\n",
       "    </tr>\n",
       "    <tr>\n",
       "      <th>5</th>\n",
       "      <td>Adair</td>\n",
       "      <td>751367266</td>\n",
       "      <td>AUSTIN</td>\n",
       "      <td>BRADLEY</td>\n",
       "      <td>MORSE</td>\n",
       "      <td>NaN</td>\n",
       "      <td>1214</td>\n",
       "      <td>NaN</td>\n",
       "      <td>S</td>\n",
       "      <td>WABASH</td>\n",
       "      <td>...</td>\n",
       "      <td>NaN</td>\n",
       "      <td>NaN</td>\n",
       "      <td>NaN</td>\n",
       "      <td>NaN</td>\n",
       "      <td>NaN</td>\n",
       "      <td>NaN</td>\n",
       "      <td>NaN</td>\n",
       "      <td>NaN</td>\n",
       "      <td>NaN</td>\n",
       "      <td>NaN</td>\n",
       "    </tr>\n",
       "  </tbody>\n",
       "</table>\n",
       "<p>5 rows × 54 columns</p>\n",
       "</div>"
      ],
      "text/plain": [
       "  county   voter_id first_name          middle_name    last_name suffix  \\\n",
       "1  Adair  461017702       JOHN              WILLIAM      MCNEILL    NaN   \n",
       "2  Adair  751833496  ALEXANDER  DOUGLAS STONEBURNER        KARST    NaN   \n",
       "3  Adair  751105687      KEVIN                  LEE  WINDSPERGER    NaN   \n",
       "4  Adair  752025280     TAYLOR                  ANN      CLAYTON    NaN   \n",
       "5  Adair  751367266     AUSTIN              BRADLEY        MORSE    NaN   \n",
       "\n",
       "  house_number house_suffix pre_direction street_name  ... voter_history_11  \\\n",
       "1         1306          NaN           NaN        ROOK  ...              NaN   \n",
       "2          702          NaN             S    SHERIDAN  ...              NaN   \n",
       "3        17469          NaN           NaN       DAIRY  ...              NaN   \n",
       "4          809          NaN             S     MULANIX  ...              NaN   \n",
       "5         1214          NaN             S      WABASH  ...              NaN   \n",
       "\n",
       "  voter_history_12 voter_history_13 voter_history_14 voter_history_15  \\\n",
       "1              NaN              NaN              NaN              NaN   \n",
       "2              NaN              NaN              NaN              NaN   \n",
       "3              NaN              NaN              NaN              NaN   \n",
       "4              NaN              NaN              NaN              NaN   \n",
       "5              NaN              NaN              NaN              NaN   \n",
       "\n",
       "  voter_history_16 voter_history_17 voter_history_18 voter_history_19  \\\n",
       "1              NaN              NaN              NaN              NaN   \n",
       "2              NaN              NaN              NaN              NaN   \n",
       "3              NaN              NaN              NaN              NaN   \n",
       "4              NaN              NaN              NaN              NaN   \n",
       "5              NaN              NaN              NaN              NaN   \n",
       "\n",
       "  voter_history_20  \n",
       "1              NaN  \n",
       "2              NaN  \n",
       "3              NaN  \n",
       "4              NaN  \n",
       "5              NaN  \n",
       "\n",
       "[5 rows x 54 columns]"
      ]
     },
     "execution_count": 81,
     "metadata": {},
     "output_type": "execute_result"
    }
   ],
   "source": [
    "# Checking first few rows of df\n",
    "\n",
    "voters.head()"
   ]
  },
  {
   "cell_type": "code",
   "execution_count": 83,
   "id": "95720af6",
   "metadata": {},
   "outputs": [
    {
     "name": "stderr",
     "output_type": "stream",
     "text": [
      "/Users/jayohday/.virtualenvs/tap-cpi/lib/python3.7/site-packages/IPython/core/interactiveshell.py:3553: DtypeWarning: Columns (7,11,14,17,20,21,22,23,24,28,29) have mixed types.Specify dtype option on import or set low_memory=False.\n",
      "  exec(code_obj, self.user_global_ns, self.user_ns)\n"
     ]
    }
   ],
   "source": [
    "# Later on we will drop the extended voter history from the original, first df\n",
    "# But for now we'll keep it, for the sake of the next step\n",
    "# Check new, 2023 data against 2020 MO voter data, keep only voters not found in old data\n",
    "# Loading 2020 data\n",
    "\n",
    "voters20 = pd.read_csv('./data/mo_voters_2020.csv')"
   ]
  },
  {
   "cell_type": "code",
   "execution_count": 84,
   "id": "ea73141b",
   "metadata": {},
   "outputs": [
    {
     "name": "stdout",
     "output_type": "stream",
     "text": [
      "<class 'pandas.core.frame.DataFrame'>\n",
      "RangeIndex: 4609735 entries, 0 to 4609734\n",
      "Data columns (total 36 columns):\n",
      " #   Column                Dtype  \n",
      "---  ------                -----  \n",
      " 0   county                object \n",
      " 1   voter_id              int64  \n",
      " 2   first_name            object \n",
      " 3   middle_name           object \n",
      " 4   last_name             object \n",
      " 5   suffix                object \n",
      " 6   house_number          float64\n",
      " 7   house_suffix          object \n",
      " 8   pre_direction         object \n",
      " 9   street_name           object \n",
      " 10  street_type           object \n",
      " 11  post_direction        object \n",
      " 12  unit_type             object \n",
      " 13  unit_number           object \n",
      " 14  non_standard_address  object \n",
      " 15  city                  object \n",
      " 16  state                 object \n",
      " 17  zip                   object \n",
      " 18  birth_date            object \n",
      " 19  reg_date              object \n",
      " 20  precinct              object \n",
      " 21  precinct_name         object \n",
      " 22  split                 object \n",
      " 23  township              object \n",
      " 24  ward                  object \n",
      " 25  congressional         object \n",
      " 26  legislative           object \n",
      " 27  state_senate          object \n",
      " 28  voter_status          object \n",
      " 29  last_election         object \n",
      " 30  source                int64  \n",
      " 31  dupe_flag             bool   \n",
      " 32  reg_year              int64  \n",
      " 33  address_clean         object \n",
      " 34  zip_clean             float64\n",
      " 35  city_clean            object \n",
      "dtypes: bool(1), float64(2), int64(3), object(30)\n",
      "memory usage: 1.2+ GB\n"
     ]
    }
   ],
   "source": [
    "# Slugifying columns in 2020 data\n",
    "\n",
    "voters20.columns = voters20.columns.str.replace(r'\\W+', '_', regex=True)\n",
    "voters20.columns = [x.lower() for x in voters20.columns]\n",
    "voters20.info()"
   ]
  },
  {
   "cell_type": "code",
   "execution_count": 85,
   "id": "43f1dd3b",
   "metadata": {},
   "outputs": [
    {
     "name": "stdout",
     "output_type": "stream",
     "text": [
      "There are 706,371 voters, out of 4,268,187 in the 2020 data who are not in the current data.\n"
     ]
    }
   ],
   "source": [
    "# Comparing voter ID columns\n",
    "# In 2020, the TAP team received a similar file. We are going to keep any\n",
    "# registered voters, per voter ID, not found in the current file.\n",
    "\n",
    "idx1 = pd.Index(voters.voter_id)\n",
    "idx2 = pd.Index(voters20.voter_id)\n",
    "\n",
    "diff = idx2.difference(idx1).values\n",
    "print(\"There are \" + \"{:,}\".format((len(diff))) +  \" voters, out of 4,268,187 in the 2020 data who are not in the current data.\")"
   ]
  },
  {
   "cell_type": "code",
   "execution_count": 86,
   "id": "7b63b4d7",
   "metadata": {},
   "outputs": [],
   "source": [
    "# Convert diff array to list\n",
    "\n",
    "diff = list(diff)"
   ]
  },
  {
   "cell_type": "code",
   "execution_count": 87,
   "id": "fbf42c68",
   "metadata": {},
   "outputs": [
    {
     "name": "stdout",
     "output_type": "stream",
     "text": [
      "<class 'pandas.core.frame.DataFrame'>\n",
      "Int64Index: 706372 entries, 0 to 4609734\n",
      "Data columns (total 36 columns):\n",
      " #   Column                Non-Null Count   Dtype  \n",
      "---  ------                --------------   -----  \n",
      " 0   county                706372 non-null  object \n",
      " 1   voter_id              706372 non-null  int64  \n",
      " 2   first_name            706358 non-null  object \n",
      " 3   middle_name           641694 non-null  object \n",
      " 4   last_name             706316 non-null  object \n",
      " 5   suffix                29167 non-null   object \n",
      " 6   house_number          671155 non-null  float64\n",
      " 7   house_suffix          3461 non-null    object \n",
      " 8   pre_direction         213309 non-null  object \n",
      " 9   street_name           671150 non-null  object \n",
      " 10  street_type           598529 non-null  object \n",
      " 11  post_direction        5338 non-null    object \n",
      " 12  unit_type             113346 non-null  object \n",
      " 13  unit_number           113343 non-null  object \n",
      " 14  non_standard_address  35534 non-null   object \n",
      " 15  city                  706205 non-null  object \n",
      " 16  state                 706201 non-null  object \n",
      " 17  zip                   706212 non-null  object \n",
      " 18  birth_date            705807 non-null  object \n",
      " 19  reg_date              706372 non-null  object \n",
      " 20  precinct              706212 non-null  object \n",
      " 21  precinct_name         407733 non-null  object \n",
      " 22  split                 706212 non-null  object \n",
      " 23  township              531835 non-null  object \n",
      " 24  ward                  455166 non-null  object \n",
      " 25  congressional         705823 non-null  object \n",
      " 26  legislative           706340 non-null  object \n",
      " 27  state_senate          706370 non-null  object \n",
      " 28  voter_status          407838 non-null  object \n",
      " 29  last_election         304264 non-null  object \n",
      " 30  source                706372 non-null  int64  \n",
      " 31  dupe_flag             706372 non-null  bool   \n",
      " 32  reg_year              706372 non-null  int64  \n",
      " 33  address_clean         706212 non-null  object \n",
      " 34  zip_clean             705645 non-null  float64\n",
      " 35  city_clean            706204 non-null  object \n",
      "dtypes: bool(1), float64(2), int64(3), object(30)\n",
      "memory usage: 194.7+ MB\n"
     ]
    }
   ],
   "source": [
    "# Put those voters from 2020 data not in current data into a df; we'll need it later\n",
    "\n",
    "keepers = voters20[voters20['voter_id'].isin(diff)]\n",
    "keepers.info()"
   ]
  },
  {
   "cell_type": "code",
   "execution_count": 88,
   "id": "19ed4559",
   "metadata": {},
   "outputs": [],
   "source": [
    "### Explore ###"
   ]
  },
  {
   "cell_type": "code",
   "execution_count": 89,
   "id": "dfaedb20",
   "metadata": {},
   "outputs": [
    {
     "name": "stdout",
     "output_type": "stream",
     "text": [
      "There are 4,268,187 rows and 54 columns.\n"
     ]
    }
   ],
   "source": [
    "# Print number of rows and cols\n",
    "\n",
    "num_vot = len(voters)\n",
    "nvot = '{:,}'.format(num_vot)\n",
    "print(\"There are \" + nvot + \" rows and \" + str(len(voters.columns)) + \" columns.\")"
   ]
  },
  {
   "cell_type": "code",
   "execution_count": 90,
   "id": "bc716972",
   "metadata": {},
   "outputs": [],
   "source": [
    "### Missing ###"
   ]
  },
  {
   "cell_type": "code",
   "execution_count": 91,
   "id": "fcc937cd",
   "metadata": {},
   "outputs": [
    {
     "data": {
      "text/plain": [
       "county                             0\n",
       "voter_id                           0\n",
       "first_name                        30\n",
       "middle_name                   401624\n",
       "last_name                        456\n",
       "suffix                       4114617\n",
       "house_number                   31179\n",
       "house_suffix                 4256636\n",
       "pre_direction                2963552\n",
       "street_name                    31198\n",
       "street_type                   531846\n",
       "post_direction               4233141\n",
       "unit_type                    3874393\n",
       "unit_number                  3874425\n",
       "non_standard_address         4235200\n",
       "residential_city                   0\n",
       "residential_state                 16\n",
       "residential_zipcode                0\n",
       "mailing_address              4035157\n",
       "mailing_city                 4039026\n",
       "mailing_state                4039175\n",
       "mailing_zipcode              4039164\n",
       "birthdate                          0\n",
       "political_party              4084653\n",
       "registration_date                  0\n",
       "precinct                           0\n",
       "precinct_name                      0\n",
       "split                              0\n",
       "township                      913574\n",
       "ward                         1788722\n",
       "congressional_district_20         19\n",
       "legislative_district_20           56\n",
       "senate_district_20                56\n",
       "voter_status                       0\n",
       "voter_history_1               598452\n",
       "voter_history_2              1018238\n",
       "voter_history_3              1315678\n",
       "voter_history_4              1547307\n",
       "voter_history_5              1742024\n",
       "voter_history_6              1911056\n",
       "voter_history_7              2059904\n",
       "voter_history_8              2192849\n",
       "voter_history_9              2313466\n",
       "voter_history_10             2423630\n",
       "voter_history_11             2525953\n",
       "voter_history_12             2620435\n",
       "voter_history_13             2708562\n",
       "voter_history_14             2790824\n",
       "voter_history_15             2868254\n",
       "voter_history_16             2941071\n",
       "voter_history_17             3010628\n",
       "voter_history_18             3076092\n",
       "voter_history_19             3138099\n",
       "voter_history_20             3196461\n",
       "dtype: int64"
      ]
     },
     "execution_count": 91,
     "metadata": {},
     "output_type": "execute_result"
    }
   ],
   "source": [
    "# Columns vary in their degree of missing values\n",
    "\n",
    "voters.isna().sum()"
   ]
  },
  {
   "cell_type": "code",
   "execution_count": 92,
   "id": "03dc9077",
   "metadata": {},
   "outputs": [],
   "source": [
    "### Duplicates ###"
   ]
  },
  {
   "cell_type": "code",
   "execution_count": 93,
   "id": "36183d49",
   "metadata": {},
   "outputs": [
    {
     "data": {
      "text/plain": [
       "<bound method DataFrame.info of Empty DataFrame\n",
       "Columns: [county, voter_id, first_name, middle_name, last_name, suffix, house_number, house_suffix, pre_direction, street_name, street_type, post_direction, unit_type, unit_number, non_standard_address, residential_city, residential_state, residential_zipcode, mailing_address, mailing_city, mailing_state, mailing_zipcode, birthdate, political_party, registration_date, precinct, precinct_name, split, township, ward, congressional_district_20, legislative_district_20, senate_district_20, voter_status, voter_history_1, voter_history_2, voter_history_3, voter_history_4, voter_history_5, voter_history_6, voter_history_7, voter_history_8, voter_history_9, voter_history_10, voter_history_11, voter_history_12, voter_history_13, voter_history_14, voter_history_15, voter_history_16, ...]\n",
       "Index: []\n",
       "\n",
       "[0 rows x 54 columns]>"
      ]
     },
     "execution_count": 93,
     "metadata": {},
     "output_type": "execute_result"
    }
   ],
   "source": [
    "all_dupe = voters[voters.duplicated()]\n",
    "all_dupe.info"
   ]
  },
  {
   "cell_type": "code",
   "execution_count": 94,
   "id": "774b3e51",
   "metadata": {},
   "outputs": [
    {
     "name": "stdout",
     "output_type": "stream",
     "text": [
      "Duplicate voter IDs:\n"
     ]
    }
   ],
   "source": [
    "# Check for duplicate voter IDs\n",
    "\n",
    "voterids = voters.duplicated(subset=[\"voter_id\"])\n",
    "print(\"Duplicate voter IDs:\")\n",
    "\n",
    "# Print voter ID records only if duplicate = True\n",
    "if voterids[2] == True:\n",
    "    print(voterids)"
   ]
  },
  {
   "cell_type": "code",
   "execution_count": 95,
   "id": "21036ef4",
   "metadata": {},
   "outputs": [
    {
     "name": "stdout",
     "output_type": "stream",
     "text": [
      "Duplicate rows:\n",
      "Empty DataFrame\n",
      "Columns: [county, voter_id, first_name, middle_name, last_name, suffix, house_number, house_suffix, pre_direction, street_name, street_type, post_direction, unit_type, unit_number, non_standard_address, residential_city, residential_state, residential_zipcode, mailing_address, mailing_city, mailing_state, mailing_zipcode, birthdate, political_party, registration_date, precinct, precinct_name, split, township, ward, congressional_district_20, legislative_district_20, senate_district_20, voter_status, voter_history_1, voter_history_2, voter_history_3, voter_history_4, voter_history_5, voter_history_6, voter_history_7, voter_history_8, voter_history_9, voter_history_10, voter_history_11, voter_history_12, voter_history_13, voter_history_14, voter_history_15, voter_history_16, ...]\n",
      "Index: []\n",
      "\n",
      "[0 rows x 54 columns]\n"
     ]
    }
   ],
   "source": [
    "# Check for duplicates across name, birthdate, mailing ZIP\n",
    "\n",
    "dupe_names = voters.duplicated(subset=[\"voter_id\", \"first_name\", \"last_name\", \"birthdate\", \"mailing_zipcode\"])\n",
    "names_dupe = voters[dupe_names]\n",
    "print(\"Duplicate rows:\")\n",
    "print(names_dupe)\n",
    "\n",
    "# In the 2023 data, there appear to be no duplicates."
   ]
  },
  {
   "cell_type": "code",
   "execution_count": 96,
   "id": "5ff4b2f0",
   "metadata": {},
   "outputs": [],
   "source": [
    "### Categorical ###"
   ]
  },
  {
   "cell_type": "code",
   "execution_count": 97,
   "id": "2a6d7c83",
   "metadata": {},
   "outputs": [
    {
     "name": "stdout",
     "output_type": "stream",
     "text": [
      "                       Column  Unique Values\n",
      "0                      county            116\n",
      "1                    voter_id        4268187\n",
      "2                  first_name         140907\n",
      "3                 middle_name         133899\n",
      "4                   last_name         229386\n",
      "5                      suffix            985\n",
      "6                house_number          67853\n",
      "7                house_suffix            106\n",
      "8               pre_direction              9\n",
      "9                 street_name          55604\n",
      "10                street_type            109\n",
      "11             post_direction              9\n",
      "12                  unit_type             32\n",
      "13                unit_number          14843\n",
      "14       non_standard_address          21251\n",
      "15           residential_city            989\n",
      "16          residential_state              2\n",
      "17        residential_zipcode         101865\n",
      "18            mailing_address         112175\n",
      "19               mailing_city           3859\n",
      "20              mailing_state             60\n",
      "21            mailing_zipcode           7330\n",
      "22                  birthdate            111\n",
      "23            political_party              4\n",
      "24          registration_date          23598\n",
      "25                   precinct           1053\n",
      "26              precinct_name           2793\n",
      "27                      split           1612\n",
      "28                   township           1131\n",
      "29                       ward            962\n",
      "30  congressional_district_20              8\n",
      "31    legislative_district_20            163\n",
      "32         senate_district_20             34\n",
      "33               voter_status              2\n",
      "34            voter_history_1            538\n",
      "35            voter_history_2            581\n",
      "36            voter_history_3            602\n",
      "37            voter_history_4            615\n",
      "38            voter_history_5            603\n",
      "39            voter_history_6            620\n",
      "40            voter_history_7            616\n",
      "41            voter_history_8            625\n",
      "42            voter_history_9            631\n",
      "43           voter_history_10            631\n",
      "44           voter_history_11            619\n",
      "45           voter_history_12            631\n",
      "46           voter_history_13            629\n",
      "47           voter_history_14            632\n",
      "48           voter_history_15            623\n",
      "49           voter_history_16            622\n",
      "50           voter_history_17            616\n",
      "51           voter_history_18            615\n",
      "52           voter_history_19            607\n",
      "53           voter_history_20            605\n"
     ]
    }
   ],
   "source": [
    "# This time, we only have year for birthdate. That is how it came in the raw data. \n",
    "# Before generating a list of unique values, cast to int\n",
    "# Generate a series that tells us how many unique values in each field\n",
    "# Put the series into a dataframe\n",
    "\n",
    "cols_to_ints = ['birthdate']\n",
    "voters[cols_to_ints] = voters[cols_to_ints].astype(int)\n",
    "unique = voters.nunique()\n",
    "unique_df = pd.DataFrame({\"Column\": unique.index, \"Unique Values\": unique.values})\n",
    "print(unique_df)"
   ]
  },
  {
   "cell_type": "code",
   "execution_count": 98,
   "id": "e410cbaf",
   "metadata": {},
   "outputs": [],
   "source": [
    "### Dates ###"
   ]
  },
  {
   "cell_type": "code",
   "execution_count": 99,
   "id": "c2c7a948",
   "metadata": {},
   "outputs": [
    {
     "name": "stdout",
     "output_type": "stream",
     "text": [
      "[1988 2001 1970 2002 1996 2000 1992 1995 1965 1946 1966 1956 1986 1964\n",
      " 1962 1963 1943 1982 1998 1952 1968 1985 1976 1955 1958 1967 1994 1940\n",
      " 1961 1991 1947 1980 1979 1957 1974 1997 1999 1972 1990 1977 1973 1983\n",
      " 1989 1984 1931 1948 1936 1933 1939 1978 1944 1945 1951 1950 1993 1929\n",
      " 1941 1937 1938 1975 1953 1942 1960 1969 1954 1971 1987 1981 1932 1959\n",
      " 1934 1949 1935 1927 1930 1922 1928 1925 1926 1920 1919 1924 1921 2004\n",
      " 2003 1923 1918 2005 1917 1901 1916 1910 1914 1902 1912 1908 1909 1900\n",
      " 1913 1907 1915 1911 1906 1903 1893 1905 1904 1899 1800 1895    1]\n"
     ]
    }
   ],
   "source": [
    "# Be sure this col is cast as int before running .unique()\n",
    "\n",
    "bdunq =  voters[\"birthdate\"].unique()\n",
    "print(bdunq)"
   ]
  },
  {
   "cell_type": "code",
   "execution_count": 100,
   "id": "96f652ba",
   "metadata": {},
   "outputs": [],
   "source": [
    "# There are voters — more than 1,000 of them — whose birth dates are 1800, 1895, 1899\n",
    "# There are more than 3,400 voters who are over 100 years old\n",
    "# I have an inquiry in to the Missouri Secretary of State about this\n",
    "# We note it in the data description but leave them in the final output here\n",
    "\n",
    "over_100 = [1800, 1895, 1899, 1901, 1902, 1903, 1904, 1905, 1906, 1907, 1908, 1909, 1910, 1911, 1912, 1913, 1914, 1915, 1916, 1917, 1918, 1919, 1920, 1921, 1922]"
   ]
  },
  {
   "cell_type": "code",
   "execution_count": 101,
   "id": "f84d8be5",
   "metadata": {},
   "outputs": [],
   "source": [
    "# For the sake of notation I've left this in, which will filter the data to people over 100\n",
    "# And also generate a file of only those rows\n",
    "\n",
    "# over100 = voters[voters[\"birthdate\"].isin(over_100)]\n",
    "# over100.to_csv('centenarians.csv')"
   ]
  },
  {
   "cell_type": "code",
   "execution_count": 102,
   "id": "0c8e9a45",
   "metadata": {},
   "outputs": [
    {
     "name": "stdout",
     "output_type": "stream",
     "text": [
      "                       Column  Unique Values\n",
      "0                      county            116\n",
      "1                    voter_id        4268187\n",
      "2                  first_name         140907\n",
      "3                 middle_name         133899\n",
      "4                   last_name         229386\n",
      "5                      suffix            985\n",
      "6                house_number          67853\n",
      "7                house_suffix            106\n",
      "8               pre_direction              9\n",
      "9                 street_name          55604\n",
      "10                street_type            109\n",
      "11             post_direction              9\n",
      "12                  unit_type             32\n",
      "13                unit_number          14843\n",
      "14       non_standard_address          21251\n",
      "15           residential_city            989\n",
      "16          residential_state              2\n",
      "17        residential_zipcode         101865\n",
      "18            mailing_address         112175\n",
      "19               mailing_city           3859\n",
      "20              mailing_state             60\n",
      "21            mailing_zipcode           7330\n",
      "22                  birthdate            111\n",
      "23            political_party              4\n",
      "24          registration_date          23532\n",
      "25                   precinct           1053\n",
      "26              precinct_name           2793\n",
      "27                      split           1612\n",
      "28                   township           1131\n",
      "29                       ward            962\n",
      "30  congressional_district_20              8\n",
      "31    legislative_district_20            163\n",
      "32         senate_district_20             34\n",
      "33               voter_status              2\n",
      "34            voter_history_1            538\n",
      "35            voter_history_2            581\n",
      "36            voter_history_3            602\n",
      "37            voter_history_4            615\n",
      "38            voter_history_5            603\n",
      "39            voter_history_6            620\n",
      "40            voter_history_7            616\n",
      "41            voter_history_8            625\n",
      "42            voter_history_9            631\n",
      "43           voter_history_10            631\n",
      "44           voter_history_11            619\n",
      "45           voter_history_12            631\n",
      "46           voter_history_13            629\n",
      "47           voter_history_14            632\n",
      "48           voter_history_15            623\n",
      "49           voter_history_16            622\n",
      "50           voter_history_17            616\n",
      "51           voter_history_18            615\n",
      "52           voter_history_19            607\n",
      "53           voter_history_20            605\n"
     ]
    }
   ],
   "source": [
    "# Registration date is the date that will be used in final TAP output data\n",
    "# Doing the same sort of quality check as the birthdate col \n",
    "# Only these dates are month, day, year, so format them as datetime\n",
    "# Errors = coerce will put NaN values in any invalid values\n",
    "\n",
    "voters['registration_date'] = pd.to_datetime(voters['registration_date'], errors=\"coerce\")\n",
    "unique = voters.nunique()\n",
    "unique_df = pd.DataFrame({\"Column\": unique.index, \"Unique Values\": unique.values})\n",
    "print(unique_df)"
   ]
  },
  {
   "cell_type": "code",
   "execution_count": 103,
   "id": "a741580d",
   "metadata": {},
   "outputs": [],
   "source": [
    "### Wrangle ###"
   ]
  },
  {
   "cell_type": "code",
   "execution_count": 104,
   "id": "1ece7aa5",
   "metadata": {},
   "outputs": [],
   "source": [
    "# We will perform some consistent string normalization on address variables"
   ]
  },
  {
   "cell_type": "code",
   "execution_count": 105,
   "id": "e1b307cc",
   "metadata": {},
   "outputs": [
    {
     "data": {
      "text/plain": [
       "array(['DR', 'ST', 'WAY', nan, 'CT', 'AVE', 'LN', 'TRL', 'PL', 'RD',\n",
       "       'PLZ', 'XXXXX', 'TER', 'CIRC', 'SQ', 'BLVD', 'TERR', 'EST', 'RDG',\n",
       "       'CIR', 'LANE', 'VLG', 'CV', 'PKWY', 'RD.', 'LOOP', 'HWY', 'BND',\n",
       "       'CR', 'RUN', 'ALY', 'DM', 'LK', 'HGTS', 'PT', 'SPGS', 'ST.', 'A',\n",
       "       'HLS', 'PARK', 'VW', 'BR', 'GRV', 'VLY', 'HOLW', 'TRLS', 'APT',\n",
       "       'PASS', 'COND', 'COR', 'TRCE', 'HILL', 'PK', 'JCT', 'BLF', 'XING',\n",
       "       'AV', 'BYP', 'PATH', 'ESTS', 'TR', 'TRFY', 'MEWS', 'WAYE', 'GDNS',\n",
       "       'SPUR', 'CRK', 'HL', 'HTS', 'S', 'LP', 'COVE', 'LNDG', 'RUE',\n",
       "       'MNR', 'WALK', 'FLDS', 'EXPY', 'PSGE', 'WY', 'PKY', 'EXT', 'GLN',\n",
       "       'FRK', 'BRK', 'CTR', 'TPKE', 'MDWS', 'TFWY', 'HVN', 'RD2', 'PLN',\n",
       "       'MHP', 'ROW', 'ANX', 'STA', 'MDW', 'CMN', 'IS', 'CRST', 'CLB',\n",
       "       'HBR', 'FRST', 'SHR', 'CORS', 'MTN', 'MWS', 'GTWY', 'RNCH', 'FLD'],\n",
       "      dtype=object)"
      ]
     },
     "execution_count": 105,
     "metadata": {},
     "output_type": "execute_result"
    }
   ],
   "source": [
    "# First, on all the inconsistent/misspellings/etc that may confuse the code, in street type field\n",
    "# I kind of can't believe this exact dict, that I create, doesn't arleady exist\n",
    "# In a Python library. I didn't find it anywhere, and found people on Stack asking\n",
    "# How to do what I'm doing here\n",
    "\n",
    "voters['street_type'].unique()"
   ]
  },
  {
   "cell_type": "code",
   "execution_count": 106,
   "id": "281f53ea",
   "metadata": {},
   "outputs": [],
   "source": [
    "# Translations are taken from here: https://pe.usps.com/text/pub28/28apc_002.htm\n",
    "# Any others needed are added (XXXXX = redacted)\n",
    "# I put those into a Google Sheet, then saved it as a .csv\n",
    "# Then into a df here\n",
    "# Then map the values defined in the dict to the col in the df\n",
    "# Then make replacements\n",
    "\n",
    "usps_street_types = pd.read_csv('usps_street_types.csv')\n",
    "mapping_dict = usps_street_types.set_index('abbr')['full'].to_dict()\n",
    "voters['street_type'] = voters['street_type'].replace(mapping_dict)"
   ]
  },
  {
   "cell_type": "code",
   "execution_count": 107,
   "id": "9c591bdd",
   "metadata": {},
   "outputs": [
    {
     "data": {
      "text/plain": [
       "array(['DRIVE', 'STREET', 'WAY', nan, 'COURT', 'AVENUE', 'LANE', 'TRAIL',\n",
       "       'PLACE', 'ROAD', 'PLAZA', 'redacted', 'TERRACE', 'CIRCLE',\n",
       "       'SQUARE', 'BOULEVARD', 'ESTATE', 'RIDGE', 'VILLAGE', 'COVE',\n",
       "       'PARKWAY', 'LOOP', 'HIGHWAY', 'BEND', 'RUN', 'ALLEY', 'DAM',\n",
       "       'LAKE', 'HEIGHTS', 'POINT', 'SPRINGS', 'A', 'HILLS', 'PARK',\n",
       "       'VIEW', 'BRANCH', 'GROVE', 'VALLEY', 'HOLLOW', 'APT', 'PASS',\n",
       "       'COND', 'CORNER', 'TRACE', 'HILL', 'JUNCTION', 'BLUFF', 'CROSSING',\n",
       "       'BYPASS', 'PATH', 'ESTATES', 'TRAILS', 'TRAFFICWAY', 'MEWS',\n",
       "       'WAYE', 'GARDENS', 'SPUR', 'CREEK', 'LANDING', 'RUE', 'MANOR',\n",
       "       'WALK', 'FIELDS', 'EXPRESSWAY', 'PASSAGE', 'EXTENSION', 'GLEN',\n",
       "       'FORK', 'BROOK', 'CENTER', 'TURNPIKE', 'MEADOWS', 'HAVEN',\n",
       "       'ROAD #2', 'PLAIN', 'MHP', 'ROW', 'ANEX', 'STATION', 'COMMON',\n",
       "       'ISLAND', 'CREST', 'CLUB', 'HARBOR', 'FOREST', 'SHORE', 'CORNERS',\n",
       "       'MOUNTAIN', 'GATEWAY', 'RANCH', 'FIELD'], dtype=object)"
      ]
     },
     "execution_count": 107,
     "metadata": {},
     "output_type": "execute_result"
    }
   ],
   "source": [
    "# Cq'd any that did not show up in USPS by Googling the address\n",
    "# Not sure about MHP, which in Missouri usually stands for Missouri Highway Patrol\n",
    "# Also not sure about ANEX\n",
    "\n",
    "voters['street_type'].unique()"
   ]
  },
  {
   "cell_type": "code",
   "execution_count": 108,
   "id": "f1f5bf18",
   "metadata": {},
   "outputs": [],
   "source": [
    "# There are some 9-digit ZIPs in here; we clean those up to be just 5 digits\n",
    "\n",
    "voters['zip_clean'] = voters['residential_zipcode'].str[:5]"
   ]
  },
  {
   "cell_type": "code",
   "execution_count": 109,
   "id": "dce83636",
   "metadata": {},
   "outputs": [],
   "source": [
    "# This is to be sure the 5-digit ZIPs that begin with leading 0s do have the leading 0s -\n",
    "# Python strips them, and, when we export to .csv, they will not show up in Excel - so the ZIP 01234 would appear as 1234\n",
    "# However, if you open the file in Sublime Text, the 0s are there\n",
    "\n",
    "voters['zip_clean'] = voters['zip_clean'].str.zfill(5)"
   ]
  },
  {
   "cell_type": "code",
   "execution_count": 110,
   "id": "d33122df",
   "metadata": {},
   "outputs": [],
   "source": [
    "# Then, create a single, unified normalized address field\n",
    "\n",
    "voters[\"address_norm\"] = voters[\"house_number\"].astype(str) +\"-\"+ voters[\"house_suffix\"].astype(str) +\"-\"+ voters[\"pre_direction\"].astype(str) +\"-\"+ voters[\"street_name\"].astype(str) +\"-\"+ voters[\"street_type\"].astype(str) +\"-\"+ voters[\"post_direction\"].astype(str) +\"-\"+ voters[\"unit_type\"].astype(str) +\"-\"+ voters[\"unit_number\"].astype(str) +\"-\"+ voters[\"non_standard_address\"].astype(str)"
   ]
  },
  {
   "cell_type": "code",
   "execution_count": 111,
   "id": "fe45e945",
   "metadata": {},
   "outputs": [],
   "source": [
    "# Replace and clean up nan values in the address_norm field\n",
    "\n",
    "voters[\"address_norm\"] = voters[\"address_norm\"].str.replace('nan-', '')\n",
    "voters[\"address_norm\"] = voters[\"address_norm\"].str.replace('-nan', '')\n",
    "voters[\"address_norm\"] = voters[\"address_norm\"].str.replace(' ', '-')\n",
    "voters[\"address_norm\"] = voters[\"address_norm\"].str.replace('-', ' ')"
   ]
  },
  {
   "cell_type": "code",
   "execution_count": 62,
   "id": "9a30625e",
   "metadata": {},
   "outputs": [],
   "source": [
    "# random_sample = voters.sample(n=500)"
   ]
  },
  {
   "cell_type": "code",
   "execution_count": 63,
   "id": "405e0e23",
   "metadata": {},
   "outputs": [],
   "source": [
    "# random_sample.to_csv('random_sample.csv', index=False)"
   ]
  },
  {
   "cell_type": "code",
   "execution_count": null,
   "id": "8a3bb1f5",
   "metadata": {},
   "outputs": [],
   "source": [
    "-----"
   ]
  },
  {
   "cell_type": "code",
   "execution_count": 59,
   "id": "ec272a42",
   "metadata": {},
   "outputs": [],
   "source": [
    "# Define address-standardization function\n",
    "\n",
    "def normalize_address(address):\n",
    "    try:\n",
    "        normalized_address = NormalizeAddress(address).normalize()\n",
    "        return normalized_address\n",
    "    except Exception as e:\n",
    "        return f\"Error: {str(e)}\"\n",
    "\n",
    "# voters['normalized_address'] = voters['address_norm'].apply(normalize_address)\n",
    "\n",
    "# print(voters['normalized_address'])\n",
    "\n",
    "# Then, standardize that address\n",
    "# parsed = pandas_usaddress.tag(voters, ['address_norm', 'residential_city', 'residential_state', 'residential_zipcode'], granularity='single', standardize=True)"
   ]
  },
  {
   "cell_type": "code",
   "execution_count": 50,
   "id": "7eddd0fb",
   "metadata": {},
   "outputs": [
    {
     "name": "stdout",
     "output_type": "stream",
     "text": [
      "['voter_history_1', 'voter_history_2', 'voter_history_3', 'voter_history_4', 'voter_history_5', 'voter_history_6', 'voter_history_7', 'voter_history_8', 'voter_history_9', 'voter_history_10', 'voter_history_11', 'voter_history_12', 'voter_history_13', 'voter_history_14', 'voter_history_15', 'voter_history_16', 'voter_history_17', 'voter_history_18', 'voter_history_19', 'voter_history_20']\n"
     ]
    }
   ],
   "source": [
    "# There are 20 voter history columns. We'll keep the most recent and store the others in a different dataframe.\n",
    "# Also get the names of column headers so we can use them to put the columns we need in another dataframe.\n",
    "\n",
    "column_headers = list(voters.columns.values)\n",
    "del_cols = column_headers[34:]\n",
    "print(del_cols)"
   ]
  },
  {
   "cell_type": "code",
   "execution_count": 61,
   "id": "2e692151",
   "metadata": {},
   "outputs": [],
   "source": [
    "# Put old voter history cols 2-20 into a new, separate dataframe\n",
    "\n",
    "voterh = pd.DataFrame()\n",
    "voterh = pd.concat([voterh,voters[del_cols]],axis=0)"
   ]
  },
  {
   "cell_type": "code",
   "execution_count": 62,
   "id": "2e24648e",
   "metadata": {},
   "outputs": [
    {
     "name": "stdout",
     "output_type": "stream",
     "text": [
      "<class 'pandas.core.frame.DataFrame'>\n",
      "Int64Index: 4268187 entries, 1 to 4268187\n",
      "Data columns (total 20 columns):\n",
      " #   Column            Dtype \n",
      "---  ------            ----- \n",
      " 0   voter_history_1   object\n",
      " 1   voter_history_2   object\n",
      " 2   voter_history_3   object\n",
      " 3   voter_history_4   object\n",
      " 4   voter_history_5   object\n",
      " 5   voter_history_6   object\n",
      " 6   voter_history_7   object\n",
      " 7   voter_history_8   object\n",
      " 8   voter_history_9   object\n",
      " 9   voter_history_10  object\n",
      " 10  voter_history_11  object\n",
      " 11  voter_history_12  object\n",
      " 12  voter_history_13  object\n",
      " 13  voter_history_14  object\n",
      " 14  voter_history_15  object\n",
      " 15  voter_history_16  object\n",
      " 16  voter_history_17  object\n",
      " 17  voter_history_18  object\n",
      " 18  voter_history_19  object\n",
      " 19  voter_history_20  object\n",
      "dtypes: object(20)\n",
      "memory usage: 683.8+ MB\n"
     ]
    }
   ],
   "source": [
    "# Checking voter history dataframe\n",
    "\n",
    "voterh.info()"
   ]
  },
  {
   "cell_type": "code",
   "execution_count": null,
   "id": "c362930c",
   "metadata": {},
   "outputs": [],
   "source": []
  },
  {
   "cell_type": "code",
   "execution_count": 19,
   "id": "5ff53190",
   "metadata": {},
   "outputs": [],
   "source": [
    "# Drop voter history 2-20 from original dataframe\n",
    "\n",
    "voters.drop(columns=['voter_history_2', 'voter_history_3', 'voter_history_4', 'voter_history_5', 'voter_history_6', 'voter_history_7', 'voter_history_8', 'voter_history_9', 'voter_history_10', 'voter_history_11', 'voter_history_12', 'voter_history_13', 'voter_history_14', 'voter_history_15', 'voter_history_16', 'voter_history_17', 'voter_history_18', 'voter_history_19', 'voter_history_20'], inplace=True)"
   ]
  },
  {
   "cell_type": "code",
   "execution_count": 20,
   "id": "df27835c",
   "metadata": {},
   "outputs": [
    {
     "name": "stdout",
     "output_type": "stream",
     "text": [
      "<class 'pandas.core.frame.DataFrame'>\n",
      "RangeIndex: 4268188 entries, 0 to 4268187\n",
      "Data columns (total 35 columns):\n",
      " #   Column                     Dtype \n",
      "---  ------                     ----- \n",
      " 0   county                     object\n",
      " 1   voter_id                   object\n",
      " 2   first_name                 object\n",
      " 3   middle_name                object\n",
      " 4   last_name                  object\n",
      " 5   suffix                     object\n",
      " 6   house_number               object\n",
      " 7   house_suffix               object\n",
      " 8   pre_direction              object\n",
      " 9   street_name                object\n",
      " 10  street_type                object\n",
      " 11  post_direction             object\n",
      " 12  unit_type                  object\n",
      " 13  unit_number                object\n",
      " 14  non_standard_address       object\n",
      " 15  residential_city           object\n",
      " 16  residential_state          object\n",
      " 17  residential_zipcode        object\n",
      " 18  mailing_address            object\n",
      " 19  mailing_city               object\n",
      " 20  mailing_state              object\n",
      " 21  mailing_zipcode            object\n",
      " 22  birthdate                  object\n",
      " 23  political_party            object\n",
      " 24  registration_date          object\n",
      " 25  precinct                   object\n",
      " 26  precinct_name              object\n",
      " 27  split                      object\n",
      " 28  township                   object\n",
      " 29  ward                       object\n",
      " 30  congressional_district_20  object\n",
      " 31  legislative_district_20    object\n",
      " 32  senate_district_20         object\n",
      " 33  voter_status               object\n",
      " 34  voter_history_1            object\n",
      "dtypes: object(35)\n",
      "memory usage: 1.1+ GB\n"
     ]
    }
   ],
   "source": [
    "voters.info()"
   ]
  },
  {
   "cell_type": "code",
   "execution_count": 21,
   "id": "df9acc22",
   "metadata": {},
   "outputs": [],
   "source": [
    "# Change names of columns to match old file \n",
    "\n",
    "voters.rename(columns = {'address_norm':'address_clean', 'mailing_city':'city_clean', 'residential_city': 'city', 'residential_zip': 'zip', 'residential_state': 'state', 'congressional_district_20': 'congressional', 'legislative_district_20': 'legislative', 'senate_district_20': 'senate', 'voter_history_1': 'last_election'}, inplace = True)"
   ]
  },
  {
   "cell_type": "code",
   "execution_count": null,
   "id": "71921dfb",
   "metadata": {},
   "outputs": [],
   "source": [
    "voters.info()"
   ]
  },
  {
   "cell_type": "code",
   "execution_count": null,
   "id": "097ec36f",
   "metadata": {},
   "outputs": [],
   "source": [
    "# For source and dupe_flag, we will create them and fill them with values to match the old file\n",
    "\n",
    "voters['source'] = 1\n",
    "voters['dupe_flag'] = 'FALSE'"
   ]
  },
  {
   "cell_type": "code",
   "execution_count": null,
   "id": "859c4371",
   "metadata": {},
   "outputs": [],
   "source": [
    "# Drop the residential state field because we already have a state field \n",
    "\n",
    "voters.drop('residential_state', axis=1, inplace=True)"
   ]
  },
  {
   "cell_type": "code",
   "execution_count": null,
   "id": "f5e788ae",
   "metadata": {},
   "outputs": [],
   "source": [
    "# Drop residential ZIP because we already have a ZIP field\n",
    "\n",
    "voters.drop('residential_zipcode', axis=1, inplace=True)"
   ]
  },
  {
   "cell_type": "code",
   "execution_count": null,
   "id": "6b337ace",
   "metadata": {},
   "outputs": [],
   "source": [
    "voters.info()"
   ]
  },
  {
   "cell_type": "code",
   "execution_count": null,
   "id": "91c21a41",
   "metadata": {},
   "outputs": [],
   "source": []
  }
 ],
 "metadata": {
  "kernelspec": {
   "display_name": "Python 3 (ipykernel)",
   "language": "python",
   "name": "python3"
  },
  "language_info": {
   "codemirror_mode": {
    "name": "ipython",
    "version": 3
   },
   "file_extension": ".py",
   "mimetype": "text/x-python",
   "name": "python",
   "nbconvert_exporter": "python",
   "pygments_lexer": "ipython3",
   "version": "3.7.3"
  }
 },
 "nbformat": 4,
 "nbformat_minor": 5
}
