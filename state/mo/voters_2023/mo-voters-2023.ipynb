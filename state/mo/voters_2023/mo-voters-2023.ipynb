{
 "cells": [
  {
   "cell_type": "code",
   "execution_count": 1,
   "id": "b291a292",
   "metadata": {},
   "outputs": [],
   "source": [
    "### Packages ###"
   ]
  },
  {
   "cell_type": "code",
   "execution_count": 2,
   "id": "08bc3b9e",
   "metadata": {},
   "outputs": [
    {
     "name": "stderr",
     "output_type": "stream",
     "text": [
      "/Users/jayohday/.virtualenvs/tap-cpi/lib/python3.7/site-packages/urllib3/__init__.py:38: NotOpenSSLWarning: urllib3 v2.0 only supports OpenSSL 1.1.1+, currently the 'ssl' module is compiled with 'LibreSSL 2.8.3'. See: https://github.com/urllib3/urllib3/issues/3020\n",
      "  exceptions.NotOpenSSLWarning,\n"
     ]
    }
   ],
   "source": [
    "import pandas as pd\n",
    "import pandas_usaddress\n",
    "from zipfile import ZipFile\n",
    "import os\n",
    "import math\n",
    "import numpy as np\n",
    "from slugify import slugify\n",
    "import locale\n",
    "from scourgify import normalize_address_record, NormalizeAddress\n",
    "import pprint as pprint\n",
    "import usaddress\n",
    "from scourgify import normalize_address_record, NormalizeAddress\n",
    "locale.setlocale(locale.LC_ALL, '')\n",
    "# for printing dfs\n",
    "pd.options.display.max_rows = 100\n",
    "# for printing lists\n",
    "pd.options.display.max_seq_items = 50"
   ]
  },
  {
   "cell_type": "code",
   "execution_count": 3,
   "id": "77fbac19",
   "metadata": {},
   "outputs": [],
   "source": [
    "### Data ###"
   ]
  },
  {
   "cell_type": "code",
   "execution_count": 4,
   "id": "263f5948",
   "metadata": {},
   "outputs": [],
   "source": [
    "# Set relative filepaths\n",
    "# Missouri voter data is obtained via public records request to the Elections Division, Office of Secretary of State\n",
    "# More info about data source can be found in the README\n",
    "\n",
    "__file__ = 'os.path.abspath('')'\n",
    "\n",
    "script_dir = os.path.dirname(__file__)\n",
    "rel_path = './data/Missouri'\n",
    "abs_file_path = os.path.join(script_dir, rel_path)"
   ]
  },
  {
   "cell_type": "code",
   "execution_count": 5,
   "id": "9972fe45",
   "metadata": {},
   "outputs": [],
   "source": [
    "### Read ###"
   ]
  },
  {
   "cell_type": "code",
   "execution_count": 6,
   "id": "1dbe3be6",
   "metadata": {},
   "outputs": [],
   "source": [
    "# Get list of files from zipfile opened in next step\n",
    "\n",
    "files = os.listdir(abs_file_path)"
   ]
  },
  {
   "cell_type": "code",
   "execution_count": 7,
   "id": "69321ebf",
   "metadata": {},
   "outputs": [],
   "source": [
    "# Read the zipfile\n",
    "\n",
    "voters = (files[1])\n",
    "zf = ZipFile(abs_file_path + \"/\" + voters)"
   ]
  },
  {
   "cell_type": "code",
   "execution_count": 8,
   "id": "886dfa95",
   "metadata": {},
   "outputs": [
    {
     "data": {
      "text/plain": [
       "['data\\\\PSR_VotersList_01032023_9-51-24 AM.txt']"
      ]
     },
     "execution_count": 8,
     "metadata": {},
     "output_type": "execute_result"
    }
   ],
   "source": [
    "# List files in zipfile\n",
    "\n",
    "zf.namelist()"
   ]
  },
  {
   "cell_type": "code",
   "execution_count": 9,
   "id": "e153916b",
   "metadata": {},
   "outputs": [
    {
     "name": "stderr",
     "output_type": "stream",
     "text": [
      "/Users/jayohday/.virtualenvs/tap-cpi/lib/python3.7/site-packages/IPython/core/interactiveshell.py:3553: DtypeWarning: Columns (1,6,7,11,14,17,21,22,25,26,27,28,29) have mixed types.Specify dtype option on import or set low_memory=False.\n",
      "  exec(code_obj, self.user_global_ns, self.user_ns)\n"
     ]
    }
   ],
   "source": [
    "# Load data into dataframe, first with no header for processing reasons\n",
    "\n",
    "voters = pd.read_csv(zf.open('data\\\\PSR_VotersList_01032023_9-51-24 AM.txt'), sep='\\t', header=None)"
   ]
  },
  {
   "cell_type": "code",
   "execution_count": 10,
   "id": "440bdd67",
   "metadata": {},
   "outputs": [],
   "source": [
    "# Now set the first row as header\n",
    "\n",
    "voters.columns = voters.iloc[0] "
   ]
  },
  {
   "cell_type": "code",
   "execution_count": 11,
   "id": "420be5da",
   "metadata": {},
   "outputs": [
    {
     "name": "stdout",
     "output_type": "stream",
     "text": [
      "<class 'pandas.core.frame.DataFrame'>\n",
      "RangeIndex: 4268188 entries, 0 to 4268187\n",
      "Data columns (total 54 columns):\n",
      " #   Column                     Dtype \n",
      "---  ------                     ----- \n",
      " 0   County                     object\n",
      " 1   Voter ID                   object\n",
      " 2   First Name                 object\n",
      " 3   Middle Name                object\n",
      " 4   Last Name                  object\n",
      " 5   Suffix                     object\n",
      " 6   House Number               object\n",
      " 7   House Suffix               object\n",
      " 8   Pre Direction              object\n",
      " 9   Street Name                object\n",
      " 10  Street Type                object\n",
      " 11  Post Direction             object\n",
      " 12  Unit Type                  object\n",
      " 13  Unit Number                object\n",
      " 14  Non Standard Address       object\n",
      " 15  Residential City           object\n",
      " 16  Residential State          object\n",
      " 17  Residential ZipCode        object\n",
      " 18  Mailing Address            object\n",
      " 19  Mailing City               object\n",
      " 20  Mailing State              object\n",
      " 21  Mailing ZipCode            object\n",
      " 22  Birthdate                  object\n",
      " 23  Political Party            object\n",
      " 24  Registration Date          object\n",
      " 25  Precinct                   object\n",
      " 26  Precinct Name              object\n",
      " 27  Split                      object\n",
      " 28  Township                   object\n",
      " 29  Ward                       object\n",
      " 30  CONGRESSIONAL DISTRICT 20  object\n",
      " 31  LEGISLATIVE DISTRICT 20    object\n",
      " 32  SENATE DISTRICT 20         object\n",
      " 33  Voter Status               object\n",
      " 34  Voter History 1            object\n",
      " 35  Voter History 2            object\n",
      " 36  Voter History 3            object\n",
      " 37  Voter History 4            object\n",
      " 38  Voter History 5            object\n",
      " 39  Voter History 6            object\n",
      " 40  Voter History 7            object\n",
      " 41  Voter History 8            object\n",
      " 42  Voter History 9            object\n",
      " 43  Voter History 10           object\n",
      " 44  Voter History 11           object\n",
      " 45  Voter History 12           object\n",
      " 46  Voter History 13           object\n",
      " 47  Voter History 14           object\n",
      " 48  Voter History 15           object\n",
      " 49  Voter History 16           object\n",
      " 50  Voter History 17           object\n",
      " 51  Voter History 18           object\n",
      " 52  Voter History 19           object\n",
      " 53  Voter History 20           object\n",
      "dtypes: object(54)\n",
      "memory usage: 1.7+ GB\n"
     ]
    }
   ],
   "source": [
    "# Info on df\n",
    "\n",
    "voters.info()"
   ]
  },
  {
   "cell_type": "code",
   "execution_count": 12,
   "id": "5accb37f",
   "metadata": {},
   "outputs": [],
   "source": [
    "# Slugifying columns\n",
    "\n",
    "voters.columns = voters.columns.str.replace(r'\\W+', '_', regex=True)\n",
    "voters.columns = [x.lower() for x in voters.columns]"
   ]
  },
  {
   "cell_type": "code",
   "execution_count": 13,
   "id": "7ed0a7aa",
   "metadata": {},
   "outputs": [],
   "source": [
    "# Fixing another issue with col names\n",
    "\n",
    "voters.drop(index=voters.index[0], axis=0, inplace=True)"
   ]
  },
  {
   "cell_type": "code",
   "execution_count": 14,
   "id": "0ffef625",
   "metadata": {},
   "outputs": [
    {
     "name": "stdout",
     "output_type": "stream",
     "text": [
      "<class 'pandas.core.frame.DataFrame'>\n",
      "Int64Index: 4268187 entries, 1 to 4268187\n",
      "Data columns (total 54 columns):\n",
      " #   Column                     Dtype \n",
      "---  ------                     ----- \n",
      " 0   county                     object\n",
      " 1   voter_id                   object\n",
      " 2   first_name                 object\n",
      " 3   middle_name                object\n",
      " 4   last_name                  object\n",
      " 5   suffix                     object\n",
      " 6   house_number               object\n",
      " 7   house_suffix               object\n",
      " 8   pre_direction              object\n",
      " 9   street_name                object\n",
      " 10  street_type                object\n",
      " 11  post_direction             object\n",
      " 12  unit_type                  object\n",
      " 13  unit_number                object\n",
      " 14  non_standard_address       object\n",
      " 15  residential_city           object\n",
      " 16  residential_state          object\n",
      " 17  residential_zipcode        object\n",
      " 18  mailing_address            object\n",
      " 19  mailing_city               object\n",
      " 20  mailing_state              object\n",
      " 21  mailing_zipcode            object\n",
      " 22  birthdate                  object\n",
      " 23  political_party            object\n",
      " 24  registration_date          object\n",
      " 25  precinct                   object\n",
      " 26  precinct_name              object\n",
      " 27  split                      object\n",
      " 28  township                   object\n",
      " 29  ward                       object\n",
      " 30  congressional_district_20  object\n",
      " 31  legislative_district_20    object\n",
      " 32  senate_district_20         object\n",
      " 33  voter_status               object\n",
      " 34  voter_history_1            object\n",
      " 35  voter_history_2            object\n",
      " 36  voter_history_3            object\n",
      " 37  voter_history_4            object\n",
      " 38  voter_history_5            object\n",
      " 39  voter_history_6            object\n",
      " 40  voter_history_7            object\n",
      " 41  voter_history_8            object\n",
      " 42  voter_history_9            object\n",
      " 43  voter_history_10           object\n",
      " 44  voter_history_11           object\n",
      " 45  voter_history_12           object\n",
      " 46  voter_history_13           object\n",
      " 47  voter_history_14           object\n",
      " 48  voter_history_15           object\n",
      " 49  voter_history_16           object\n",
      " 50  voter_history_17           object\n",
      " 51  voter_history_18           object\n",
      " 52  voter_history_19           object\n",
      " 53  voter_history_20           object\n",
      "dtypes: object(54)\n",
      "memory usage: 1.7+ GB\n"
     ]
    }
   ],
   "source": [
    "# Checking info on df\n",
    "\n",
    "voters.info()"
   ]
  },
  {
   "cell_type": "code",
   "execution_count": 15,
   "id": "36b2b24a",
   "metadata": {},
   "outputs": [
    {
     "name": "stdout",
     "output_type": "stream",
     "text": [
      "<class 'pandas.core.frame.DataFrame'>\n",
      "Int64Index: 4268187 entries, 1 to 4268187\n",
      "Data columns (total 54 columns):\n",
      " #   Column                     Dtype \n",
      "---  ------                     ----- \n",
      " 0   county                     object\n",
      " 1   voter_id                   object\n",
      " 2   first_name                 object\n",
      " 3   middle_name                object\n",
      " 4   last_name                  object\n",
      " 5   suffix                     object\n",
      " 6   house_number               object\n",
      " 7   house_suffix               object\n",
      " 8   pre_direction              object\n",
      " 9   street_name                object\n",
      " 10  street_type                object\n",
      " 11  post_direction             object\n",
      " 12  unit_type                  object\n",
      " 13  unit_number                object\n",
      " 14  non_standard_address       object\n",
      " 15  residential_city           object\n",
      " 16  residential_state          object\n",
      " 17  residential_zipcode        object\n",
      " 18  mailing_address            object\n",
      " 19  mailing_city               object\n",
      " 20  mailing_state              object\n",
      " 21  mailing_zipcode            object\n",
      " 22  birthdate                  object\n",
      " 23  political_party            object\n",
      " 24  registration_date          object\n",
      " 25  precinct                   object\n",
      " 26  precinct_name              object\n",
      " 27  split                      object\n",
      " 28  township                   object\n",
      " 29  ward                       object\n",
      " 30  congressional_district_20  object\n",
      " 31  legislative_district_20    object\n",
      " 32  senate_district_20         object\n",
      " 33  voter_status               object\n",
      " 34  voter_history_1            object\n",
      " 35  voter_history_2            object\n",
      " 36  voter_history_3            object\n",
      " 37  voter_history_4            object\n",
      " 38  voter_history_5            object\n",
      " 39  voter_history_6            object\n",
      " 40  voter_history_7            object\n",
      " 41  voter_history_8            object\n",
      " 42  voter_history_9            object\n",
      " 43  voter_history_10           object\n",
      " 44  voter_history_11           object\n",
      " 45  voter_history_12           object\n",
      " 46  voter_history_13           object\n",
      " 47  voter_history_14           object\n",
      " 48  voter_history_15           object\n",
      " 49  voter_history_16           object\n",
      " 50  voter_history_17           object\n",
      " 51  voter_history_18           object\n",
      " 52  voter_history_19           object\n",
      " 53  voter_history_20           object\n",
      "dtypes: object(54)\n",
      "memory usage: 1.7+ GB\n"
     ]
    }
   ],
   "source": [
    "# Creating a separate df of this exact copy of the data for testing later\n",
    "\n",
    "testdf = voters.copy()\n",
    "testdf.info()"
   ]
  },
  {
   "cell_type": "code",
   "execution_count": 16,
   "id": "95720af6",
   "metadata": {},
   "outputs": [
    {
     "name": "stderr",
     "output_type": "stream",
     "text": [
      "/Users/jayohday/.virtualenvs/tap-cpi/lib/python3.7/site-packages/IPython/core/interactiveshell.py:3553: DtypeWarning: Columns (7,11,14,17,20,21,22,23,24,28,29) have mixed types.Specify dtype option on import or set low_memory=False.\n",
      "  exec(code_obj, self.user_global_ns, self.user_ns)\n"
     ]
    }
   ],
   "source": [
    "# Later on we will drop the extended voter history from the original, first df\n",
    "# But for now we'll keep it, for the sake of the next step\n",
    "# Check new, 2023 data against 2020 MO voter data, keep only voters not found in old data\n",
    "# Loading 2020 data\n",
    "\n",
    "voters20 = pd.read_csv('./data/mo_voters_2020.csv')"
   ]
  },
  {
   "cell_type": "code",
   "execution_count": 17,
   "id": "ea73141b",
   "metadata": {},
   "outputs": [
    {
     "name": "stdout",
     "output_type": "stream",
     "text": [
      "<class 'pandas.core.frame.DataFrame'>\n",
      "RangeIndex: 4609735 entries, 0 to 4609734\n",
      "Data columns (total 36 columns):\n",
      " #   Column                Dtype  \n",
      "---  ------                -----  \n",
      " 0   county                object \n",
      " 1   voter_id              int64  \n",
      " 2   first_name            object \n",
      " 3   middle_name           object \n",
      " 4   last_name             object \n",
      " 5   suffix                object \n",
      " 6   house_number          float64\n",
      " 7   house_suffix          object \n",
      " 8   pre_direction         object \n",
      " 9   street_name           object \n",
      " 10  street_type           object \n",
      " 11  post_direction        object \n",
      " 12  unit_type             object \n",
      " 13  unit_number           object \n",
      " 14  non_standard_address  object \n",
      " 15  city                  object \n",
      " 16  state                 object \n",
      " 17  zip                   object \n",
      " 18  birth_date            object \n",
      " 19  reg_date              object \n",
      " 20  precinct              object \n",
      " 21  precinct_name         object \n",
      " 22  split                 object \n",
      " 23  township              object \n",
      " 24  ward                  object \n",
      " 25  congressional         object \n",
      " 26  legislative           object \n",
      " 27  state_senate          object \n",
      " 28  voter_status          object \n",
      " 29  last_election         object \n",
      " 30  source                int64  \n",
      " 31  dupe_flag             bool   \n",
      " 32  reg_year              int64  \n",
      " 33  address_clean         object \n",
      " 34  zip_clean             float64\n",
      " 35  city_clean            object \n",
      "dtypes: bool(1), float64(2), int64(3), object(30)\n",
      "memory usage: 1.2+ GB\n"
     ]
    }
   ],
   "source": [
    "# Slugifying columns in 2020 data\n",
    "\n",
    "voters20.columns = voters20.columns.str.replace(r'\\W+', '_', regex=True)\n",
    "voters20.columns = [x.lower() for x in voters20.columns]\n",
    "voters20.info()"
   ]
  },
  {
   "cell_type": "code",
   "execution_count": 18,
   "id": "43f1dd3b",
   "metadata": {},
   "outputs": [
    {
     "name": "stdout",
     "output_type": "stream",
     "text": [
      "There are 706,371 voters, out of 4,268,187 in the 2020 data who are not in the current data.\n"
     ]
    }
   ],
   "source": [
    "# Comparing voter ID columns\n",
    "# In 2020, the TAP team received a similar file. We are going to keep any\n",
    "# registered voters, per voter ID, not found in the current file.\n",
    "\n",
    "idx1 = pd.Index(voters.voter_id)\n",
    "idx2 = pd.Index(voters20.voter_id)\n",
    "\n",
    "diff = idx2.difference(idx1).values\n",
    "print(\"There are \" + \"{:,}\".format((len(diff))) +  \" voters, out of 4,268,187 in the 2020 data who are not in the current data.\")"
   ]
  },
  {
   "cell_type": "code",
   "execution_count": 19,
   "id": "7b63b4d7",
   "metadata": {},
   "outputs": [],
   "source": [
    "# Convert diff array to list\n",
    "\n",
    "diff = list(diff)"
   ]
  },
  {
   "cell_type": "code",
   "execution_count": 20,
   "id": "fbf42c68",
   "metadata": {},
   "outputs": [
    {
     "name": "stdout",
     "output_type": "stream",
     "text": [
      "<class 'pandas.core.frame.DataFrame'>\n",
      "Int64Index: 706372 entries, 0 to 4609734\n",
      "Data columns (total 36 columns):\n",
      " #   Column                Non-Null Count   Dtype  \n",
      "---  ------                --------------   -----  \n",
      " 0   county                706372 non-null  object \n",
      " 1   voter_id              706372 non-null  int64  \n",
      " 2   first_name            706358 non-null  object \n",
      " 3   middle_name           641694 non-null  object \n",
      " 4   last_name             706316 non-null  object \n",
      " 5   suffix                29167 non-null   object \n",
      " 6   house_number          671155 non-null  float64\n",
      " 7   house_suffix          3461 non-null    object \n",
      " 8   pre_direction         213309 non-null  object \n",
      " 9   street_name           671150 non-null  object \n",
      " 10  street_type           598529 non-null  object \n",
      " 11  post_direction        5338 non-null    object \n",
      " 12  unit_type             113346 non-null  object \n",
      " 13  unit_number           113343 non-null  object \n",
      " 14  non_standard_address  35534 non-null   object \n",
      " 15  city                  706205 non-null  object \n",
      " 16  state                 706201 non-null  object \n",
      " 17  zip                   706212 non-null  object \n",
      " 18  birth_date            705807 non-null  object \n",
      " 19  reg_date              706372 non-null  object \n",
      " 20  precinct              706212 non-null  object \n",
      " 21  precinct_name         407733 non-null  object \n",
      " 22  split                 706212 non-null  object \n",
      " 23  township              531835 non-null  object \n",
      " 24  ward                  455166 non-null  object \n",
      " 25  congressional         705823 non-null  object \n",
      " 26  legislative           706340 non-null  object \n",
      " 27  state_senate          706370 non-null  object \n",
      " 28  voter_status          407838 non-null  object \n",
      " 29  last_election         304264 non-null  object \n",
      " 30  source                706372 non-null  int64  \n",
      " 31  dupe_flag             706372 non-null  bool   \n",
      " 32  reg_year              706372 non-null  int64  \n",
      " 33  address_clean         706212 non-null  object \n",
      " 34  zip_clean             705645 non-null  float64\n",
      " 35  city_clean            706204 non-null  object \n",
      "dtypes: bool(1), float64(2), int64(3), object(30)\n",
      "memory usage: 194.7+ MB\n"
     ]
    }
   ],
   "source": [
    "# Put those voters from 2020 data not in current data into a df; we'll need it later\n",
    "\n",
    "keepers = voters20[voters20['voter_id'].isin(diff)]\n",
    "keepers.info()"
   ]
  },
  {
   "cell_type": "code",
   "execution_count": 21,
   "id": "19ed4559",
   "metadata": {},
   "outputs": [],
   "source": [
    "### Explore ###"
   ]
  },
  {
   "cell_type": "code",
   "execution_count": 22,
   "id": "dfaedb20",
   "metadata": {},
   "outputs": [
    {
     "name": "stdout",
     "output_type": "stream",
     "text": [
      "There are 4,268,187 rows and 54 columns.\n"
     ]
    }
   ],
   "source": [
    "# Print number of rows and cols\n",
    "\n",
    "num_vot = len(voters)\n",
    "nvot = '{:,}'.format(num_vot)\n",
    "print(\"There are \" + nvot + \" rows and \" + str(len(voters.columns)) + \" columns.\")"
   ]
  },
  {
   "cell_type": "code",
   "execution_count": 23,
   "id": "bc716972",
   "metadata": {},
   "outputs": [],
   "source": [
    "### Missing ###"
   ]
  },
  {
   "cell_type": "code",
   "execution_count": 24,
   "id": "fcc937cd",
   "metadata": {},
   "outputs": [
    {
     "data": {
      "text/plain": [
       "county                             0\n",
       "voter_id                           0\n",
       "first_name                        30\n",
       "middle_name                   401624\n",
       "last_name                        456\n",
       "suffix                       4114617\n",
       "house_number                   31179\n",
       "house_suffix                 4256636\n",
       "pre_direction                2963552\n",
       "street_name                    31198\n",
       "street_type                   531846\n",
       "post_direction               4233141\n",
       "unit_type                    3874393\n",
       "unit_number                  3874425\n",
       "non_standard_address         4235200\n",
       "residential_city                   0\n",
       "residential_state                 16\n",
       "residential_zipcode                0\n",
       "mailing_address              4035157\n",
       "mailing_city                 4039026\n",
       "mailing_state                4039175\n",
       "mailing_zipcode              4039164\n",
       "birthdate                          0\n",
       "political_party              4084653\n",
       "registration_date                  0\n",
       "precinct                           0\n",
       "precinct_name                      0\n",
       "split                              0\n",
       "township                      913574\n",
       "ward                         1788722\n",
       "congressional_district_20         19\n",
       "legislative_district_20           56\n",
       "senate_district_20                56\n",
       "voter_status                       0\n",
       "voter_history_1               598452\n",
       "voter_history_2              1018238\n",
       "voter_history_3              1315678\n",
       "voter_history_4              1547307\n",
       "voter_history_5              1742024\n",
       "voter_history_6              1911056\n",
       "voter_history_7              2059904\n",
       "voter_history_8              2192849\n",
       "voter_history_9              2313466\n",
       "voter_history_10             2423630\n",
       "voter_history_11             2525953\n",
       "voter_history_12             2620435\n",
       "voter_history_13             2708562\n",
       "voter_history_14             2790824\n",
       "voter_history_15             2868254\n",
       "voter_history_16             2941071\n",
       "voter_history_17             3010628\n",
       "voter_history_18             3076092\n",
       "voter_history_19             3138099\n",
       "voter_history_20             3196461\n",
       "dtype: int64"
      ]
     },
     "execution_count": 24,
     "metadata": {},
     "output_type": "execute_result"
    }
   ],
   "source": [
    "# Columns vary in their degree of missing values\n",
    "\n",
    "voters.isna().sum()"
   ]
  },
  {
   "cell_type": "code",
   "execution_count": 25,
   "id": "03dc9077",
   "metadata": {},
   "outputs": [],
   "source": [
    "### Duplicates ###"
   ]
  },
  {
   "cell_type": "code",
   "execution_count": 26,
   "id": "36183d49",
   "metadata": {},
   "outputs": [
    {
     "data": {
      "text/plain": [
       "<bound method DataFrame.info of Empty DataFrame\n",
       "Columns: [county, voter_id, first_name, middle_name, last_name, suffix, house_number, house_suffix, pre_direction, street_name, street_type, post_direction, unit_type, unit_number, non_standard_address, residential_city, residential_state, residential_zipcode, mailing_address, mailing_city, mailing_state, mailing_zipcode, birthdate, political_party, registration_date, precinct, precinct_name, split, township, ward, congressional_district_20, legislative_district_20, senate_district_20, voter_status, voter_history_1, voter_history_2, voter_history_3, voter_history_4, voter_history_5, voter_history_6, voter_history_7, voter_history_8, voter_history_9, voter_history_10, voter_history_11, voter_history_12, voter_history_13, voter_history_14, voter_history_15, voter_history_16, ...]\n",
       "Index: []\n",
       "\n",
       "[0 rows x 54 columns]>"
      ]
     },
     "execution_count": 26,
     "metadata": {},
     "output_type": "execute_result"
    }
   ],
   "source": [
    "all_dupe = voters[voters.duplicated()]\n",
    "all_dupe.info"
   ]
  },
  {
   "cell_type": "code",
   "execution_count": 27,
   "id": "774b3e51",
   "metadata": {},
   "outputs": [
    {
     "name": "stdout",
     "output_type": "stream",
     "text": [
      "Duplicate voter IDs:\n"
     ]
    }
   ],
   "source": [
    "# Check for duplicate voter IDs\n",
    "\n",
    "voterids = voters.duplicated(subset=[\"voter_id\"])\n",
    "print(\"Duplicate voter IDs:\")\n",
    "\n",
    "# Print voter ID records only if duplicate = True\n",
    "if voterids[2] == True:\n",
    "    print(voterids)"
   ]
  },
  {
   "cell_type": "code",
   "execution_count": 28,
   "id": "71981bf2",
   "metadata": {},
   "outputs": [],
   "source": [
    "# Check for duplicate voter IDs and create a Boolean Series\n",
    "\n",
    "is_duplicate = voters['voter_id'].duplicated(keep=False)"
   ]
  },
  {
   "cell_type": "code",
   "execution_count": 29,
   "id": "8feb3212",
   "metadata": {},
   "outputs": [],
   "source": [
    "# Create 'dupe_flag column' and fill it with TRUE or FALSE based on the Boolean Series\n",
    "voters['dupe_flag'] = is_duplicate.map({True: 'TRUE', False: 'FALSE'})"
   ]
  },
  {
   "cell_type": "code",
   "execution_count": 30,
   "id": "21036ef4",
   "metadata": {},
   "outputs": [
    {
     "name": "stdout",
     "output_type": "stream",
     "text": [
      "Duplicate rows:\n",
      "Empty DataFrame\n",
      "Columns: [county, voter_id, first_name, middle_name, last_name, suffix, house_number, house_suffix, pre_direction, street_name, street_type, post_direction, unit_type, unit_number, non_standard_address, residential_city, residential_state, residential_zipcode, mailing_address, mailing_city, mailing_state, mailing_zipcode, birthdate, political_party, registration_date, precinct, precinct_name, split, township, ward, congressional_district_20, legislative_district_20, senate_district_20, voter_status, voter_history_1, voter_history_2, voter_history_3, voter_history_4, voter_history_5, voter_history_6, voter_history_7, voter_history_8, voter_history_9, voter_history_10, voter_history_11, voter_history_12, voter_history_13, voter_history_14, voter_history_15, voter_history_16, ...]\n",
      "Index: []\n",
      "\n",
      "[0 rows x 55 columns]\n"
     ]
    }
   ],
   "source": [
    "# Check for duplicates across name, birthdate, mailing ZIP\n",
    "\n",
    "dupe_names = voters.duplicated(subset=[\"voter_id\", \"first_name\", \"last_name\", \"birthdate\", \"mailing_zipcode\"])\n",
    "names_dupe = voters[dupe_names]\n",
    "print(\"Duplicate rows:\")\n",
    "print(names_dupe)\n",
    "\n",
    "# In the 2023 data, there appear to be no duplicates."
   ]
  },
  {
   "cell_type": "code",
   "execution_count": 31,
   "id": "5ff4b2f0",
   "metadata": {},
   "outputs": [],
   "source": [
    "### Categorical ###"
   ]
  },
  {
   "cell_type": "code",
   "execution_count": 32,
   "id": "2a6d7c83",
   "metadata": {},
   "outputs": [
    {
     "name": "stdout",
     "output_type": "stream",
     "text": [
      "                       Column  Unique Values\n",
      "0                      county            116\n",
      "1                    voter_id        4268187\n",
      "2                  first_name         140907\n",
      "3                 middle_name         133899\n",
      "4                   last_name         229386\n",
      "5                      suffix            985\n",
      "6                house_number          67853\n",
      "7                house_suffix            106\n",
      "8               pre_direction              9\n",
      "9                 street_name          55604\n",
      "10                street_type            109\n",
      "11             post_direction              9\n",
      "12                  unit_type             32\n",
      "13                unit_number          14843\n",
      "14       non_standard_address          21251\n",
      "15           residential_city            989\n",
      "16          residential_state              2\n",
      "17        residential_zipcode         101865\n",
      "18            mailing_address         112175\n",
      "19               mailing_city           3859\n",
      "20              mailing_state             60\n",
      "21            mailing_zipcode           7330\n",
      "22                  birthdate            111\n",
      "23            political_party              4\n",
      "24          registration_date          23598\n",
      "25                   precinct           1053\n",
      "26              precinct_name           2793\n",
      "27                      split           1612\n",
      "28                   township           1131\n",
      "29                       ward            962\n",
      "30  congressional_district_20              8\n",
      "31    legislative_district_20            163\n",
      "32         senate_district_20             34\n",
      "33               voter_status              2\n",
      "34            voter_history_1            538\n",
      "35            voter_history_2            581\n",
      "36            voter_history_3            602\n",
      "37            voter_history_4            615\n",
      "38            voter_history_5            603\n",
      "39            voter_history_6            620\n",
      "40            voter_history_7            616\n",
      "41            voter_history_8            625\n",
      "42            voter_history_9            631\n",
      "43           voter_history_10            631\n",
      "44           voter_history_11            619\n",
      "45           voter_history_12            631\n",
      "46           voter_history_13            629\n",
      "47           voter_history_14            632\n",
      "48           voter_history_15            623\n",
      "49           voter_history_16            622\n",
      "50           voter_history_17            616\n",
      "51           voter_history_18            615\n",
      "52           voter_history_19            607\n",
      "53           voter_history_20            605\n",
      "54                  dupe_flag              1\n"
     ]
    }
   ],
   "source": [
    "# This time, we only have year for birthdate. That is how it came in the raw data. \n",
    "# MO used to give full birth date but changed the law \n",
    "# Before generating a list of unique values, cast to int\n",
    "# Generate a series that tells us how many unique values in each field\n",
    "# Put the series into a dataframe\n",
    "\n",
    "cols_to_ints = ['birthdate']\n",
    "voters[cols_to_ints] = voters[cols_to_ints].astype(int)\n",
    "unique = voters.nunique()\n",
    "unique_df = pd.DataFrame({\"Column\": unique.index, \"Unique Values\": unique.values})\n",
    "print(unique_df)"
   ]
  },
  {
   "cell_type": "code",
   "execution_count": 33,
   "id": "e410cbaf",
   "metadata": {},
   "outputs": [],
   "source": [
    "### Dates ###"
   ]
  },
  {
   "cell_type": "code",
   "execution_count": 34,
   "id": "c2c7a948",
   "metadata": {},
   "outputs": [
    {
     "name": "stdout",
     "output_type": "stream",
     "text": [
      "[1988 2001 1970 2002 1996 2000 1992 1995 1965 1946 1966 1956 1986 1964\n",
      " 1962 1963 1943 1982 1998 1952 1968 1985 1976 1955 1958 1967 1994 1940\n",
      " 1961 1991 1947 1980 1979 1957 1974 1997 1999 1972 1990 1977 1973 1983\n",
      " 1989 1984 1931 1948 1936 1933 1939 1978 1944 1945 1951 1950 1993 1929\n",
      " 1941 1937 1938 1975 1953 1942 1960 1969 1954 1971 1987 1981 1932 1959\n",
      " 1934 1949 1935 1927 1930 1922 1928 1925 1926 1920 1919 1924 1921 2004\n",
      " 2003 1923 1918 2005 1917 1901 1916 1910 1914 1902 1912 1908 1909 1900\n",
      " 1913 1907 1915 1911 1906 1903 1893 1905 1904 1899 1800 1895    1]\n"
     ]
    }
   ],
   "source": [
    "# Be sure this col is cast as int before running .unique()\n",
    "\n",
    "bdunq =  voters[\"birthdate\"].unique()\n",
    "print(bdunq)"
   ]
  },
  {
   "cell_type": "code",
   "execution_count": 36,
   "id": "96f652ba",
   "metadata": {},
   "outputs": [],
   "source": [
    "# There are voters — more than 1,000 of them — whose birth dates are 1800, 1895, 1899\n",
    "# There are more than 3,400 voters who are over 100 years old\n",
    "# I have an inquiry in to the Missouri Secretary of State about this\n",
    "# We note it in the data description but leave them in the final output here\n",
    "\n",
    "# over_100 = [1800, 1895, 1899, 1901, 1902, 1903, 1904, 1905, 1906, 1907, 1908, 1909, 1910, 1911, 1912, 1913, 1914, 1915, 1916, 1917, 1918, 1919, 1920, 1921, 1922]\n",
    "supercents = [1800, 1895, 1899, 1901, 1902, 1903, 1904, 1905, 1906, 1907, 1908, 1909, 1910, 1911, 1912, 1913]\n",
    "supercentsdf = voters[voters[\"birthdate\"].isin(supercents)]\n",
    "supercentsdf.to_csv('supercents_23.csv')"
   ]
  },
  {
   "cell_type": "code",
   "execution_count": 42,
   "id": "5cd3bd0a",
   "metadata": {},
   "outputs": [
    {
     "name": "stderr",
     "output_type": "stream",
     "text": [
      "os.path.abspath():2: SettingWithCopyWarning: \n",
      "A value is trying to be set on a copy of a slice from a DataFrame.\n",
      "Try using .loc[row_indexer,col_indexer] = value instead\n",
      "\n",
      "See the caveats in the documentation: https://pandas.pydata.org/pandas-docs/stable/user_guide/indexing.html#returning-a-view-versus-a-copy\n"
     ]
    }
   ],
   "source": [
    "# Let's look at supercentenarians, and their voting history, in the 2020 data as well\n",
    "keepers['birth_date'] = pd.to_datetime(keepers['birth_date'])\n",
    "supercentsdf20 = keepers[keepers['birth_date'].dt.year < 1913].copy()\n",
    "supercentsdf20.to_csv('supercents20.csv')"
   ]
  },
  {
   "cell_type": "code",
   "execution_count": 40,
   "id": "f84d8be5",
   "metadata": {},
   "outputs": [],
   "source": [
    "# For the sake of notation I've left this in, which will filter the data to people over 100\n",
    "# And also generate a file of only those rows\n",
    "\n",
    "# over100 = voters[voters[\"birthdate\"].isin(over_100)]\n",
    "# over100.to_csv('centenarians.csv')"
   ]
  },
  {
   "cell_type": "code",
   "execution_count": 41,
   "id": "0c8e9a45",
   "metadata": {},
   "outputs": [
    {
     "name": "stdout",
     "output_type": "stream",
     "text": [
      "                       Column  Unique Values\n",
      "0                      county            116\n",
      "1                    voter_id        4268187\n",
      "2                  first_name         140907\n",
      "3                 middle_name         133899\n",
      "4                   last_name         229386\n",
      "5                      suffix            985\n",
      "6                house_number          67853\n",
      "7                house_suffix            106\n",
      "8               pre_direction              9\n",
      "9                 street_name          55604\n",
      "10                street_type            109\n",
      "11             post_direction              9\n",
      "12                  unit_type             32\n",
      "13                unit_number          14843\n",
      "14       non_standard_address          21251\n",
      "15           residential_city            989\n",
      "16          residential_state              2\n",
      "17        residential_zipcode         101865\n",
      "18            mailing_address         112175\n",
      "19               mailing_city           3859\n",
      "20              mailing_state             60\n",
      "21            mailing_zipcode           7330\n",
      "22                  birthdate            111\n",
      "23            political_party              4\n",
      "24          registration_date          23532\n",
      "25                   precinct           1053\n",
      "26              precinct_name           2793\n",
      "27                      split           1612\n",
      "28                   township           1131\n",
      "29                       ward            962\n",
      "30  congressional_district_20              8\n",
      "31    legislative_district_20            163\n",
      "32         senate_district_20             34\n",
      "33               voter_status              2\n",
      "34            voter_history_1            538\n",
      "35            voter_history_2            581\n",
      "36            voter_history_3            602\n",
      "37            voter_history_4            615\n",
      "38            voter_history_5            603\n",
      "39            voter_history_6            620\n",
      "40            voter_history_7            616\n",
      "41            voter_history_8            625\n",
      "42            voter_history_9            631\n",
      "43           voter_history_10            631\n",
      "44           voter_history_11            619\n",
      "45           voter_history_12            631\n",
      "46           voter_history_13            629\n",
      "47           voter_history_14            632\n",
      "48           voter_history_15            623\n",
      "49           voter_history_16            622\n",
      "50           voter_history_17            616\n",
      "51           voter_history_18            615\n",
      "52           voter_history_19            607\n",
      "53           voter_history_20            605\n",
      "54                  dupe_flag              1\n"
     ]
    }
   ],
   "source": [
    "# Registration date is the date that will be used in final TAP output data\n",
    "# Doing the same sort of quality check as the birthdate col \n",
    "# Only these dates are month, day, year, so format them as datetime\n",
    "# Errors = coerce will put NaN values in any invalid values\n",
    "\n",
    "voters['registration_date'] = pd.to_datetime(voters['registration_date'], errors=\"coerce\")\n",
    "unique = voters.nunique()\n",
    "unique_df = pd.DataFrame({\"Column\": unique.index, \"Unique Values\": unique.values})\n",
    "print(unique_df)"
   ]
  },
  {
   "cell_type": "code",
   "execution_count": 46,
   "id": "da0e55c6",
   "metadata": {},
   "outputs": [
    {
     "name": "stderr",
     "output_type": "stream",
     "text": [
      "os.path.abspath():5: SettingWithCopyWarning: \n",
      "A value is trying to be set on a copy of a slice from a DataFrame.\n",
      "Try using .loc[row_indexer,col_indexer] = value instead\n",
      "\n",
      "See the caveats in the documentation: https://pandas.pydata.org/pandas-docs/stable/user_guide/indexing.html#returning-a-view-versus-a-copy\n"
     ]
    }
   ],
   "source": [
    "# To check the MO SOS claim about people who registered prior to 2005, let's filter both \n",
    "# Sets of data to just voters registered prior to 2005\n",
    "# I want to see what the breakdown of birthdays is in those voters\n",
    "\n",
    "keepers['reg_date'] = pd.to_datetime(keepers['reg_date'], errors='coerce')\n",
    "voters_05_23 = voters[voters['registration_date'].dt.year < 2005].copy()\n",
    "voters_05_20 = keepers[keepers['reg_date'].dt.year < 2005].copy()"
   ]
  },
  {
   "cell_type": "code",
   "execution_count": 56,
   "id": "85c3bf65",
   "metadata": {},
   "outputs": [
    {
     "name": "stdout",
     "output_type": "stream",
     "text": [
      "<bound method IndexOpsMixin.value_counts of 13         1946\n",
      "14         1966\n",
      "15         1970\n",
      "16         1956\n",
      "19         1962\n",
      "           ... \n",
      "4268175    1957\n",
      "4268182    1953\n",
      "4268183    1953\n",
      "4268184    1951\n",
      "4268185    1986\n",
      "Name: birthdate, Length: 1552501, dtype: int64>\n"
     ]
    }
   ],
   "source": [
    "values_bdays = voters_05_23['birthdate'].value_counts\n",
    "print(values_bdays)"
   ]
  },
  {
   "cell_type": "code",
   "execution_count": 102,
   "id": "a741580d",
   "metadata": {},
   "outputs": [],
   "source": [
    "### Wrangle ###\n",
    "# Perform some consistent string normalization on address variables"
   ]
  },
  {
   "cell_type": "code",
   "execution_count": 103,
   "id": "d33122df",
   "metadata": {},
   "outputs": [],
   "source": [
    "### Address ###\n",
    "# Create a single, unified normalized address field\n",
    "\n",
    "voters[\"address_norm\"] = voters[\"house_number\"].astype(str) +\"-\"+ voters[\"house_suffix\"].astype(str) +\"-\"+ voters[\"pre_direction\"].astype(str) +\"-\"+ voters[\"street_name\"].astype(str) +\"-\"+ voters[\"street_type\"].astype(str) +\"-\"+ voters[\"post_direction\"].astype(str) +\"-\"+ voters[\"unit_type\"].astype(str) +\"-\"+ voters[\"unit_number\"].astype(str) +\"-\"+ voters[\"non_standard_address\"].astype(str)"
   ]
  },
  {
   "cell_type": "code",
   "execution_count": 104,
   "id": "fe45e945",
   "metadata": {},
   "outputs": [],
   "source": [
    "# Replace and clean up nan values in the address_norm field\n",
    "\n",
    "voters[\"address_norm\"] = voters[\"address_norm\"].str.replace('nan-', '')\n",
    "voters[\"address_norm\"] = voters[\"address_norm\"].str.replace('-nan', '')\n",
    "voters[\"address_norm\"] = voters[\"address_norm\"].str.replace(' ', '-')\n",
    "voters[\"address_norm\"] = voters[\"address_norm\"].str.replace('-', ' ')"
   ]
  },
  {
   "cell_type": "code",
   "execution_count": 105,
   "id": "e1b307cc",
   "metadata": {},
   "outputs": [
    {
     "data": {
      "text/plain": [
       "array(['DR', 'ST', 'WAY', nan, 'CT', 'AVE', 'LN', 'TRL', 'PL', 'RD',\n",
       "       'PLZ', 'XXXXX', 'TER', 'CIRC', 'SQ', 'BLVD', 'TERR', 'EST', 'RDG',\n",
       "       'CIR', 'LANE', 'VLG', 'CV', 'PKWY', 'RD.', 'LOOP', 'HWY', 'BND',\n",
       "       'CR', 'RUN', 'ALY', 'DM', 'LK', 'HGTS', 'PT', 'SPGS', 'ST.', 'A',\n",
       "       'HLS', 'PARK', 'VW', 'BR', 'GRV', 'VLY', 'HOLW', 'TRLS', 'APT',\n",
       "       'PASS', 'COND', 'COR', 'TRCE', 'HILL', 'PK', 'JCT', 'BLF', 'XING',\n",
       "       'AV', 'BYP', 'PATH', 'ESTS', 'TR', 'TRFY', 'MEWS', 'WAYE', 'GDNS',\n",
       "       'SPUR', 'CRK', 'HL', 'HTS', 'S', 'LP', 'COVE', 'LNDG', 'RUE',\n",
       "       'MNR', 'WALK', 'FLDS', 'EXPY', 'PSGE', 'WY', 'PKY', 'EXT', 'GLN',\n",
       "       'FRK', 'BRK', 'CTR', 'TPKE', 'MDWS', 'TFWY', 'HVN', 'RD2', 'PLN',\n",
       "       'MHP', 'ROW', 'ANX', 'STA', 'MDW', 'CMN', 'IS', 'CRST', 'CLB',\n",
       "       'HBR', 'FRST', 'SHR', 'CORS', 'MTN', 'MWS', 'GTWY', 'RNCH', 'FLD'],\n",
       "      dtype=object)"
      ]
     },
     "execution_count": 105,
     "metadata": {},
     "output_type": "execute_result"
    }
   ],
   "source": [
    "# First, fix inconsistent/misspellings/etc that may confuse code, in street type field\n",
    "# I can't believe this exact dict, that I created, doesn't already exist, but\n",
    "# I didn't find it anywhere, and found people on Stack asking how to do what I'm doing here\n",
    "\n",
    "voters['street_type'].unique()"
   ]
  },
  {
   "cell_type": "code",
   "execution_count": 106,
   "id": "281f53ea",
   "metadata": {},
   "outputs": [],
   "source": [
    "# Translations are taken from here: https://pe.usps.com/text/pub28/28apc_002.htm\n",
    "# Any others needed are added (XXXXX = redacted)\n",
    "# I put those into a Google Sheet, then saved it as a .csv\n",
    "# Then into a df here\n",
    "# Then map the values defined in the dict to the col in the df\n",
    "# Then make replacements\n",
    "\n",
    "usps_street_types = pd.read_csv('usps_street_types.csv')\n",
    "mapping_dict = usps_street_types.set_index('abbr')['full'].to_dict()\n",
    "voters['street_type'] = voters['street_type'].replace(mapping_dict)"
   ]
  },
  {
   "cell_type": "code",
   "execution_count": 107,
   "id": "9c591bdd",
   "metadata": {},
   "outputs": [
    {
     "data": {
      "text/plain": [
       "array(['DRIVE', 'STREET', 'WAY', nan, 'COURT', 'AVENUE', 'LANE', 'TRAIL',\n",
       "       'PLACE', 'ROAD', 'PLAZA', 'redacted', 'TERRACE', 'CIRCLE',\n",
       "       'SQUARE', 'BOULEVARD', 'ESTATE', 'RIDGE', 'VILLAGE', 'COVE',\n",
       "       'PARKWAY', 'LOOP', 'HIGHWAY', 'BEND', 'RUN', 'ALLEY', 'DAM',\n",
       "       'LAKE', 'HEIGHTS', 'POINT', 'SPRINGS', 'A', 'HILLS', 'PARK',\n",
       "       'VIEW', 'BRANCH', 'GROVE', 'VALLEY', 'HOLLOW', 'APT', 'PASS',\n",
       "       'COND', 'CORNER', 'TRACE', 'HILL', 'JUNCTION', 'BLUFF', 'CROSSING',\n",
       "       'BYPASS', 'PATH', 'ESTATES', 'TRAILS', 'TRAFFICWAY', 'MEWS',\n",
       "       'WAYE', 'GARDENS', 'SPUR', 'CREEK', 'LANDING', 'RUE', 'MANOR',\n",
       "       'WALK', 'FIELDS', 'EXPRESSWAY', 'PASSAGE', 'EXTENSION', 'GLEN',\n",
       "       'FORK', 'BROOK', 'CENTER', 'TURNPIKE', 'MEADOWS', 'HAVEN',\n",
       "       'ROAD #2', 'PLAIN', 'MHP', 'ROW', 'ANEX', 'STATION', 'COMMON',\n",
       "       'ISLAND', 'CREST', 'CLUB', 'HARBOR', 'FOREST', 'SHORE', 'CORNERS',\n",
       "       'MOUNTAIN', 'GATEWAY', 'RANCH', 'FIELD'], dtype=object)"
      ]
     },
     "execution_count": 107,
     "metadata": {},
     "output_type": "execute_result"
    }
   ],
   "source": [
    "# Cq'd any that did not show up in USPS by Googling the address\n",
    "# Not sure about MHP, which in Missouri usually stands for Missouri Highway Patrol\n",
    "# Also not sure about ANEX\n",
    "\n",
    "voters['street_type'].unique()"
   ]
  },
  {
   "cell_type": "code",
   "execution_count": 110,
   "id": "f1f5bf18",
   "metadata": {},
   "outputs": [
    {
     "name": "stdout",
     "output_type": "stream",
     "text": [
      "5.0     3808894\n",
      "10.0     270265\n",
      "7.0       57759\n",
      "9.0         161\n",
      "8.0          36\n",
      "Name: residential_zipcode, dtype: int64\n"
     ]
    }
   ],
   "source": [
    "### ZIP codes ###\n",
    "\n",
    "# Let's see what we're working with \n",
    "\n",
    "zip_code_lengths1 = voters['residential_zipcode'].str.len().value_counts()\n",
    "print(zip_code_lengths1)"
   ]
  },
  {
   "cell_type": "code",
   "execution_count": 111,
   "id": "f1bbc6ad",
   "metadata": {},
   "outputs": [],
   "source": [
    "# There are some 9-digit ZIPs in here; we clean those up to be just 5 digits\n",
    "\n",
    "voters['zip_clean'] = voters['residential_zipcode'].str.slice(0, 5)"
   ]
  },
  {
   "cell_type": "code",
   "execution_count": 112,
   "id": "dce83636",
   "metadata": {},
   "outputs": [],
   "source": [
    "# This is to be sure the 5-digit ZIPs that begin with leading 0s do have the leading 0s -\n",
    "# Python strips them, and, when we export to .csv, they will not show up in Excel - so the ZIP 01234 would appear as 1234\n",
    "# However, if you open the file in Sublime Text, the 0s are there\n",
    "\n",
    "voters['zip_clean'] = voters['zip_clean'].str.zfill(5)"
   ]
  },
  {
   "cell_type": "code",
   "execution_count": 113,
   "id": "3947d006",
   "metadata": {},
   "outputs": [
    {
     "name": "stdout",
     "output_type": "stream",
     "text": [
      "5.0    4137115\n",
      "Name: zip_clean, dtype: int64\n"
     ]
    }
   ],
   "source": [
    "zip_code_lengths2 = voters['zip_clean'].str.len().value_counts()\n",
    "print(zip_code_lengths2)"
   ]
  },
  {
   "cell_type": "code",
   "execution_count": 48,
   "id": "b1dc3c41",
   "metadata": {},
   "outputs": [],
   "source": [
    "### State ### "
   ]
  },
  {
   "cell_type": "code",
   "execution_count": 49,
   "id": "49b76c89",
   "metadata": {},
   "outputs": [
    {
     "data": {
      "text/plain": [
       "array(['MO', 'XXXXX', nan], dtype=object)"
      ]
     },
     "execution_count": 49,
     "metadata": {},
     "output_type": "execute_result"
    }
   ],
   "source": [
    "# As expected, all voters registered to vote live in the state of Missouri\n",
    "\n",
    "voters['residential_state'].unique()"
   ]
  },
  {
   "cell_type": "code",
   "execution_count": 50,
   "id": "e876c864",
   "metadata": {},
   "outputs": [
    {
     "data": {
      "text/plain": [
       "array(['KIRKSVILLE', 'BRASHEAR', 'GIBBS', 'LA PLATA', 'NOVINGER',\n",
       "       'GREENTOP', 'GREENCASTLE', 'XXXXX', 'HURDLAND', 'NEW BOSTON',\n",
       "       'COUNTRY CLUB', 'SAVANNAH', 'ST JOSEPH', 'COSBY', 'UNION STAR',\n",
       "       'AMAZONIA', 'ROSENDALE', 'FILLMORE', 'CLARKSDALE', 'HELENA',\n",
       "       'BOLCKOW', 'KING CITY', 'REA', 'BARNARD', 'GUILFORD', 'GRAHAM',\n",
       "       'ROCK PORT', 'TARKIO', 'FAIRFAX', 'BURLINGTON JUNCTION',\n",
       "       'WESTBORO', 'CRAIG', 'WATSON', 'ELMO', 'SKIDMORE', 'VANDALIA',\n",
       "       'MEXICO', 'LADDONIA', 'BENTON CITY', 'CENTRALIA', 'THOMPSON',\n",
       "       'FARBER', 'MARTINSBURG', 'RUSH HILL', 'MIDDLETOWN', 'WELLSVILLE',\n",
       "       'AUXVASSE', 'STURGEON', 'CLARK', 'MADISON', 'MONETT', 'PURDY',\n",
       "       'SHELL KNOB', 'CASSVILLE', 'WASHBURN', 'GOLDEN', 'EXETER',\n",
       "       'SELIGMAN', 'CRANE', 'AURORA', 'BUTTERFIELD', 'EAGLE ROCK',\n",
       "       'VERONA', 'WHEATON', 'PIERCE CITY', 'CAPE FAIR', 'FAIRVIEW',\n",
       "       'GALENA', 'JENKINS', 'ROCKY COMFORT', 'LAMAR', 'MINDENMINES',\n",
       "       'GOLDEN CITY', 'SHELDON', 'LIBERAL', 'ASBURY', 'JERICO SPRINGS',\n",
       "       'JASPER', 'ORONOGO', 'BRONAUGH', 'IRWIN', 'IANTHA', 'LOCKWOOD',\n",
       "       'ADRIAN', 'BUTLER', 'RICH HILL', 'AMSTERDAM', 'DREXEL', 'AMORET',\n",
       "       'FOSTER', 'APPLETON CITY', 'HUME', 'ARCHIE', 'ROCKVILLE',\n",
       "       'MONTROSE', 'URICH', 'WARSAW', 'QUINCY', 'LINCOLN', 'COLE CAMP',\n",
       "       'EDWARDS', 'WINDSOR', 'CLINTON', 'OSCEOLA', 'STOVER', 'IONIA',\n",
       "       'MORA', 'WHEATLAND', 'CROSS TIMBERS', 'CLIMAX SPRINGS', 'MARQUAND',\n",
       "       'MARBLE HILL', 'PATTON', 'SEDGEWICKVILLE', 'GLENALLEN',\n",
       "       'MILLERSVILLE', 'LEOPOLD', 'ZALMA', 'STURDIVANT', 'FREDERICKTOWN',\n",
       "       'BROWNWOOD', 'ADVANCE', 'GRASSY', 'DAISY', 'PERRYVILLE', 'GIPSY',\n",
       "       'FRIEDHEIM', 'PUXICO', 'WHITEWATER', 'MC GEE', 'ARAB', 'COLUMBIA',\n",
       "       'HALLSVILLE', 'ASHLAND', 'HARTSBURG', 'HARRISBURG', 'ROCHEPORT',\n",
       "       'EDGERTON', 'GOWER', 'DE KALB', 'AGENCY', 'EASTON', 'RUSHVILLE',\n",
       "       'FAUCETT', 'DEARBORN', 'STEWARTSVILLE', 'POPLAR BLUFF',\n",
       "       'WAPPAPELLO', 'QULIN', 'WILLIAMSVILLE', 'BROSELEY', 'HARVIELL',\n",
       "       'FISK', 'NEELYVILLE', 'ELLSINORE', 'NAYLOR', 'ROMBAUER',\n",
       "       'FAIRDEALING', 'BRAYMER', 'CAMERON', 'KIDDER', 'HAMILTON',\n",
       "       'LATHROP', 'KINGSTON', 'BRECKENRIDGE', 'POLO', 'COWGILL', 'LAWSON',\n",
       "       'TURNEY', 'TEBBETTS', 'FULTON', 'NEW BLOOMFIELD', 'HOLTS SUMMIT',\n",
       "       'MOKANE', 'STEEDMAN', 'MONTGOMERY CITY', 'PORTLAND',\n",
       "       'KINGDOM CITY', 'RHINELAND', 'WILLIAMSBURG', 'JEFFERSON CITY',\n",
       "       'ROACH', 'CAMDENTON', 'OSAGE BEACH', 'LINN CREEK', 'LAKE OZARK',\n",
       "       'SUNRISE BEACH', 'FOUR SEASONS', 'STOUTLAND', 'GRAVOIS MILLS',\n",
       "       'MACKS CREEK', 'KAISER', 'MONTREAL', 'RICHLAND', 'LEBANON',\n",
       "       'ELDRIDGE', 'BRUMLEY', 'TUNAS', 'CAPE GIRARDEAU', 'DELTA',\n",
       "       'JACKSON', 'OAK RIDGE', 'ALTENBURG', 'BURFORDVILLE', 'CHAFFEE',\n",
       "       'OLD APPLETON', 'POCAHONTAS', 'ORAN', 'SCOTT CITY', 'CARROLLTON',\n",
       "       'HALE', 'NORBORNE', 'BOGARD', 'TINA', 'BOSWORTH', 'DE WITT',\n",
       "       'DAWN', 'HARDIN', 'VAN BUREN', 'GRANDIN', 'FREMONT', 'DONIPHAN',\n",
       "       'ELLINGTON', 'PIEDMONT', 'RAYMORE', 'HARRISONVILLE', 'BELTON',\n",
       "       'GARDEN CITY', 'PLEASANT HILL', 'PECULIAR', 'CREIGHTON',\n",
       "       'CLEVELAND', 'VILLAGE OF LOCH LLOYD', 'FREEMAN', 'GUNN CITY',\n",
       "       'LEES SUMMIT', 'LAKE WINNEBAGO', 'EAST LYNNE', 'KINGSVILLE',\n",
       "       'GREENWOOD', 'KANSAS CITY', 'STRASBURG', 'LAKE ANNETTE',\n",
       "       'WEST LINE', 'LATOUR', 'HOLDEN', 'LONE JACK', 'EL DORADO SPRINGS',\n",
       "       'HUMANSVILLE', 'STOCKTON', 'FAIR PLAY', 'DADEVILLE', 'DUNNEGAN',\n",
       "       'ALDRICH', 'GLASGOW', 'BRUNSWICK', 'KEYTESVILLE', 'MARCELINE',\n",
       "       'SALISBURY', 'NEW CAMBRIA', 'SUMNER', 'DALTON', 'TRIPLETT',\n",
       "       'ROTHVILLE', 'MENDON', 'CLIFTON HILL', 'BROOKFIELD', 'OZARK',\n",
       "       'ROGERSVILLE', 'NIXA', 'SPOKANE', 'HIGHLANDVILLE', 'CHESTNUTRIDGE',\n",
       "       'SPARTA', 'BRUNER', 'BILLINGS', 'CLEVER', 'BRADLEYVILLE',\n",
       "       'CHADWICK', 'REPUBLIC', 'BROOKLINE STATION', 'FORDLAND',\n",
       "       'SADDLEBROOKE', 'OLDFIELD', 'GARRISON', 'FORSYTH', 'WALNUT SHADE',\n",
       "       'PONCE DE LEON', 'REEDS SPRING', 'MARIONVILLE', 'TANEYVILLE',\n",
       "       'KAHOKA', 'WILLIAMSTOWN', 'WAYLAND', 'CANTON', 'LURAY', 'REVERE',\n",
       "       'ALEXANDRIA', 'WYACONDA', 'ARBELA', 'ST PATRICK', 'KEARNEY',\n",
       "       'LIBERTY', 'HOLT', 'GLADSTONE', 'SMITHVILLE', 'EXCELSIOR SPRINGS',\n",
       "       'NORTH KANSAS CITY', 'MISSOURI CITY', 'TRIMBLE', 'MOSBY', 'ORRICK',\n",
       "       'PLATTSBURG', 'OSBORN', 'RUSSELLVILLE', 'HENLEY', 'EUGENE',\n",
       "       'WARDSVILLE', 'LOHMAN', 'CENTERTOWN', 'ST THOMAS', 'META',\n",
       "       'BOONVILLE', 'PILOT GROVE', 'BLACKWATER', 'WOOLDRIDGE',\n",
       "       'OTTERVILLE', 'BUNCETON', 'PRAIRIE HOME', 'CALIFORNIA', 'SYRACUSE',\n",
       "       'TIPTON', 'NELSON', 'CLARKSBURG', 'SMITHTON', 'SEDALIA',\n",
       "       'JAMESTOWN', 'LEASBURG', 'CUBA', 'BOURBON', 'STEELVILLE',\n",
       "       'SULLIVAN', 'CHERRYVILLE', 'OWENSVILLE', 'ST JAMES',\n",
       "       'COOK STATION', 'DAVISVILLE', 'SALEM', 'VIBURNUM', 'WESCO',\n",
       "       'EVERTON', 'GREENFIELD', 'WALNUT GROVE', 'SOUTH GREENFIELD',\n",
       "       'ARCOLA', 'ASH GROVE', 'BUFFALO', 'URBANA', 'FAIR GROVE',\n",
       "       'ELKLAND', 'LOUISBURG', 'LONG LANE', 'PHILLIPSBURG', 'CONWAY',\n",
       "       'WINDYVILLE', 'PRESTON', 'JAMESPORT', 'GALLATIN', 'WINSTON',\n",
       "       'PATTONSBURG', 'WEATHERBY', 'ALTAMONT', 'JAMESON', 'COFFEY',\n",
       "       'CHILLICOTHE', 'GILMAN CITY', 'MC FALL', 'TRENTON', 'MAYSVILLE',\n",
       "       'AMITY', 'LENOX', 'JADWIN', 'LICKING', 'BUNKER', 'BOSS', 'ROLLA',\n",
       "       'EDGAR SPRINGS', 'LAKE SPRING', 'LECOMA', 'BIXBY', 'AVA',\n",
       "       'MOUNTAIN GROVE', 'VANZANT', 'DORA', 'SQUIRES', 'DRURY',\n",
       "       'WILLOW SPRINGS', 'WEST PLAINS', 'SEYMOUR', 'NORWOOD', 'WASOLA',\n",
       "       'MANSFIELD', 'CABOOL', 'MACOMB', 'KENNETT', 'CLARKTON', 'CAMPBELL',\n",
       "       'MALDEN', 'HOLCOMB', 'SENATH', 'CARDWELL', 'WHITEOAK', 'ARBYRD',\n",
       "       'BERNIE', 'HORNERSVILLE', 'GIBSON', 'GOBLER', 'STEELE',\n",
       "       'GRUBVILLE', 'ROBERTSVILLE', 'VILLA RIDGE', 'UNION', 'WASHINGTON',\n",
       "       'NEW HAVEN', 'ST CLAIR', 'PACIFIC', 'GERALD', 'LABADIE',\n",
       "       'ST ALBANS', 'CATAWISSA', 'LONEDELL', 'LESLIE', 'GRAY SUMMIT',\n",
       "       'LUEBBERING', 'BEAUFORT', 'BERGER', 'ROSEBUD', 'CHESTERFIELD',\n",
       "       'HERMANN', 'GASCONADE', 'BLAND', 'MORRISON', 'LINN', 'MT STERLING',\n",
       "       'ALBANY', 'DARLINGTON', 'STANBERRY', 'GENTRY', 'NEW HAMPTON',\n",
       "       'DENVER', 'RAVENWOOD', 'WORTH', 'PARNELL', 'MARTINSVILLE',\n",
       "       'SPRINGFIELD', 'WILLARD', 'STRAFFORD', 'PLEASANT HOPE',\n",
       "       'BOIS D ARC', 'BRIGHTON', 'MARSHFIELD', 'BROOKLINE', 'TURNERS',\n",
       "       'BRIMSON', 'GALT', 'SPICKARD', 'LAREDO', 'CHULA', 'BETHANY',\n",
       "       'EAGLEVILLE', 'CAINSVILLE', 'RIDGEWAY', 'HATFIELD', 'BLYTHEDALE',\n",
       "       'GRANT CITY', 'MT MORIAH', 'DAVIS CITY', 'LAMONI', 'CHILHOWEE',\n",
       "       'DEEPWATER', 'CALHOUN', 'BLAIRSTOWN', 'LEETON', 'FLEMINGTON',\n",
       "       'WEAUBLEAU', 'HERMITAGE', 'PITTSBURG', 'POLK', 'NO CITY DATA',\n",
       "       'HALF WAY', 'COLLINS', 'FOREST CITY', 'OREGON', 'MOUND CITY',\n",
       "       'MAITLAND', 'FAYETTE', 'ARMSTRONG', 'FRANKLIN', 'NEW FRANKLIN',\n",
       "       'HIGBEE', 'MOUNTAIN VIEW', 'POMONA', 'CAULFIELD', 'POTTERSVILLE',\n",
       "       'PEACE VALLEY', 'MOODY', 'KOSHKONONG', 'BAKERSFIELD', 'ARCADIA',\n",
       "       'IRONTON', 'VULCAN', 'ANNAPOLIS', 'DES ARC', 'BLACK',\n",
       "       'MIDDLE BROOK', 'PILOT KNOB', 'BELLEVIEW', 'CALEDONIA', 'COURTOIS',\n",
       "       'BISMARCK', 'LESTERVILLE', 'BLUE SPRINGS', 'INDEPENDENCE',\n",
       "       'GRANDVIEW', 'GRAIN VALLEY', 'LAKE LOTAWANA', 'OAK GROVE',\n",
       "       'BUCKNER', 'SUGAR CREEK', 'RAYTOWN', 'LAKE TAPAWINGO', 'SIBLEY',\n",
       "       'UNITY VILLAGE', 'LEVASY', 'NAPOLEON', 'DUENWEG', 'WEBB CITY',\n",
       "       'JOPLIN', 'CARL JUNCTION', 'CARTHAGE', 'ALBA', 'CARTERVILLE',\n",
       "       'PURCELL', 'SARCOXIE', 'LA RUSSELL', 'REEDS', 'NECK CITY',\n",
       "       'DIAMOND', 'WACO', 'AVILLA', 'ARNOLD', 'IMPERIAL', 'PEVELY',\n",
       "       'HIGH RIDGE', 'EUREKA', 'FENTON', 'CEDAR HILL', 'HILLSBORO',\n",
       "       'FESTUS', 'DE SOTO', 'DITTMER', 'CRYSTAL CITY', 'HERCULANEUM',\n",
       "       'HOUSE SPRINGS', 'BARNHART', 'LABARQUE CREEK', 'FLETCHER',\n",
       "       'BLOOMSDALE', 'VALLES MINES', 'KIMMSWICK', 'BYRNES MILL',\n",
       "       'BONNE TERRE', 'SULPHUR SPRINGS', 'MORSE MILL', 'HEMATITE',\n",
       "       'LIGUORI', 'MAPAVILLE', 'RICHWOODS', 'WARRENSBURG', 'CONCORDIA',\n",
       "       'BATES CITY', 'HIGGINSVILLE', 'KNOB NOSTER', 'CENTERVIEW',\n",
       "       'WHITEMAN AIR FORCE BASE', 'LA MONTE', 'ODESSA', 'SWEET SPRINGS',\n",
       "       'MAYVIEW', 'GREEN RIDGE', 'EDINA', 'SHELBYVILLE', 'NEWARK',\n",
       "       'KNOX CITY', 'NOVELTY', 'RUTLEDGE', 'BARING', 'LA BELLE',\n",
       "       'LEONARD', 'GORIN', 'FALCON', 'LYNCHBURG', 'PLATO', 'GROVESPRING',\n",
       "       'LAQUEY', 'LEXINGTON', 'WELLINGTON', 'ALMA', 'WAVERLY', 'CORDER',\n",
       "       'BLACKBURN', 'DOVER', 'EMMA', 'CAMDEN', 'MOUNT VERNON', 'MILLER',\n",
       "       'WENTWORTH', 'STOTTS CITY', 'FREISTATT', 'HALLTOWN', 'EWING',\n",
       "       'LA GRANGE', 'LEWISTOWN', 'MONTICELLO', 'MAYWOOD', 'DURHAM',\n",
       "       'BETHEL', 'TAYLOR', 'TROY', 'MOSCOW MILLS', 'FOLEY', 'FORISTELL',\n",
       "       'OLD MONROE', 'WINFIELD', 'HAWK POINT', 'ELSBERRY', 'EOLIA',\n",
       "       'SILEX', 'WRIGHT CITY', 'WARRENTON', 'WHITESIDE', 'TRUXTON',\n",
       "       'BOWLING GREEN', 'BELLFLOWER', 'MEADVILLE', 'LACLEDE', 'BUCKLIN',\n",
       "       'BROWNING', 'PURDIN', 'ST CATHERINE', 'LINNEUS', 'HUMPHREYS',\n",
       "       'WINIGAN', 'WHEELING', 'MOORESVILLE', 'LUDLOW', 'UTICA', 'MACON',\n",
       "       'BEVIER', 'ATLANTA', 'EXCELLO', 'CALLAO', 'ETHEL', 'ELMER',\n",
       "       'ANABEL', 'JACKSONVILLE', 'CLARENCE', 'FARMINGTON', 'SILVA',\n",
       "       'BELLE', 'VIENNA', 'DIXON', 'VICHY', 'ARGYLE', 'BRINKTOWN',\n",
       "       'FREEBURG', 'HANNIBAL', 'PALMYRA', 'MONROE CITY', 'PHILADELPHIA',\n",
       "       'HUNNEWELL', 'EMDEN', 'NOEL', 'PINEVILLE', 'STELLA', 'ANDERSON',\n",
       "       'GOODMAN', 'SOUTH WEST CITY', 'SENECA', 'POWELL', 'JANE', 'NEOSHO',\n",
       "       'LANAGAN', 'TIFF CITY', 'PRINCETON', 'HARRIS', 'MERCER', 'NEWTOWN',\n",
       "       'POWERSVILLE', 'ELDON', 'IBERIA', 'ROCKY MOUNT', 'ULMAN',\n",
       "       'TUSCUMBIA', 'ST ELIZABETH', 'OLEAN', 'CROCKER', 'BARNETT',\n",
       "       'CHARLESTON', 'EAST PRAIRIE', 'WYATT', 'BERTRAND', 'SIKESTON',\n",
       "       'ANNISTON', 'WILSON CITY', 'LATHAM', 'FORTUNA', 'VERSAILLES',\n",
       "       'HIGH POINT', 'MC GIRK', 'PARIS', 'SANTA FE', 'SHELBINA',\n",
       "       'MOBERLY', 'STOUTSVILLE', 'PERRY', 'HOLLIDAY', 'LENTNER',\n",
       "       'JONESBURG', 'NEW FLORENCE', 'HIGH HILL', 'MCKITTRICK',\n",
       "       'BIG SPRING', 'MINEOLA', 'AMERICUS', 'DANVILLE', 'BUELL', 'GAMMA',\n",
       "       'LAURIE', 'FLORENCE', 'PORTAGEVILLE', 'LILBOURN', 'MATTHEWS',\n",
       "       'MARSTON', 'GIDEON', 'NEW MADRID', 'CATRON', 'PARMA', 'RISCO',\n",
       "       'MOREHOUSE', 'KEWANEE', 'TALLAPOOSA', 'HOWARDVILLE', 'CANALOU',\n",
       "       'NORTH LILBOURN', 'WARDELL', 'CONRAN', 'GRANBY', 'STARK CITY',\n",
       "       'LOMA LINDA', 'RACINE', 'SAGINAW', 'MARYVILLE', 'CONCEPTION',\n",
       "       'CLYDE', 'CLEARMONT', 'CONCEPTION JUNCTION', 'PICKERING',\n",
       "       'HOPKINS', 'SHERIDAN', 'THAYER', 'BIRCH TREE', 'ALTON', 'COUCH',\n",
       "       'MYRTLE', 'GATEWOOD', 'WINONA', 'WESTPHALIA', 'CHAMOIS',\n",
       "       'BONNOTS MILL', 'LOOSE CREEK', 'KOELTZTOWN', 'THORNFIELD',\n",
       "       'TECUMSEH', 'UDALL', 'GAINESVILLE', 'NOBLE', 'THEODOSIA',\n",
       "       'PONTIAC', 'ISABELLA', 'BRIXEY', 'ZANONI', 'PROTEM', 'HARDENVILLE',\n",
       "       'SYCAMORE', 'ROCKBRIDGE', 'COOTER', 'HAYTI', 'CARUTHERSVILLE',\n",
       "       'HOLLAND', 'BRAGG CITY', 'PASCOLA', 'BRAGGADOCIO', 'DEERING',\n",
       "       'UNIONTOWN', 'FROHNA', 'ST MARY', 'BRAZEAU', 'FARRAR', 'MC BRIDE',\n",
       "       'HOUSTONIA', 'HUGHESVILLE', 'MARSHALL', 'NEWBURG', 'JEROME',\n",
       "       'BEULAH', 'DUKE', 'DEVILS ELBOW', 'LOUISIANA', 'NEW LONDON',\n",
       "       'FRANKFORD', 'CLARKSVILLE', 'CURRYVILLE', 'NEW HARTFORD',\n",
       "       'ASHBURN', 'ANNADA', 'PAYNESVILLE', 'WESTON', 'PARKVILLE',\n",
       "       'RIVERSIDE', 'WEATHERBY LAKE', 'PLATTE CITY', 'NORTHMOOR',\n",
       "       'LAKE WAUKOMIS', 'FERRELVIEW', 'HOUSTON LAKE', 'PLATTE WOODS',\n",
       "       'CAMDEN POINT', 'FARLEY', 'WALDRON', 'BOLIVAR', 'MORRISVILLE',\n",
       "       'GOODSON', 'WAYNESVILLE', 'ST ROBERT', 'FORT LEONARD WOOD',\n",
       "       'UNIONVILLE', 'LIVONIA', 'LUCERNE', 'WORTHINGTON', 'COATSVILLE',\n",
       "       'POLLOCK', 'CENTER', 'SAVERTON', 'HUNTSVILLE', 'CAIRO', 'RENICK',\n",
       "       'RICHMOND', 'RAYVILLE', 'HENRIETTA', 'WOOD HEIGHTS', 'CENTERVILLE',\n",
       "       'REDFORD', 'REYNOLDS', 'OXLY', 'SLATER', 'MIAMI', 'MALTA BEND',\n",
       "       'GRAND PASS', 'ARROW ROCK', 'GILLIAM', 'QUEEN CITY', 'LANCASTER',\n",
       "       'GLENWOOD', 'DOWNING', 'MEMPHIS', 'GRANGER', 'KELSO', 'BENTON',\n",
       "       'PERKINS', 'VANDUSER', 'COMMERCE', 'MORLEY', 'BELL CITY',\n",
       "       'BLODGETT', 'EMINENCE', 'SUMMERSVILLE', 'HARTSHORN',\n",
       "       'STEFFENVILLE', 'ST PETERS', 'ST CHARLES', 'O FALLON',\n",
       "       'WENTZVILLE', 'LAKE ST LOUIS', 'MARTHASVILLE', 'AUGUSTA',\n",
       "       'DEFIANCE', 'PORTAGE DES SIOUX', 'WEST ALTON', 'NEW MELLE',\n",
       "       'LOWRY CITY', 'SCHELL CITY', 'ROSCOE', 'HARWOOD', 'PARK HILLS',\n",
       "       'FRENCH VILLAGE', 'DESLOGE', 'DOE RUN', 'LEADWOOD', 'IRONDALE',\n",
       "       'LEADINGTON', 'BLACKWELL', 'CADET', 'ST LOUIS', 'FLORISSANT',\n",
       "       'BALLWIN', 'MARYLAND HEIGHTS', 'ELLISVILLE', 'MANCHESTER',\n",
       "       'ST ANN', 'BRIDGETON', 'WILDWOOD', 'HAZELWOOD', 'VALLEY PARK',\n",
       "       'ALLENTON', 'STE GENEVIEVE', 'ESSEX', 'DEXTER', 'BLOOMFIELD',\n",
       "       'GRAYRIDGE', 'DUDLEY', 'PAINTON', 'BRANSON WEST',\n",
       "       'KIMBERLING CITY', 'LAMPE', 'BLUE EYE', 'BRANSON', 'HURLEY',\n",
       "       'HOLLISTER', 'GREEN CITY', 'MILAN', 'KIRBYVILLE', 'CEDAR CREEK',\n",
       "       'MERRIAM WOODS', 'RIDGEDALE', 'ROCKAWAY BEACH', 'KISSEE MILLS',\n",
       "       'POWERSITE', 'POINT LOOKOUT', 'RUETER', 'CHESTNUT RIDGE',\n",
       "       'RAYMONDVILLE', 'SUCCESS', 'HOUSTON', 'SOLO', 'ELK CREEK',\n",
       "       'BUCYRUS', 'GRAFF', 'ROBY', 'HUGGINS', 'BENDAVIS', 'YUKON',\n",
       "       'EUNICE', 'MAPLES', 'NEVADA', 'WALKER', 'MILO', 'DEERFIELD',\n",
       "       'RICHARDS', 'MOUNDVILLE', 'METZ', 'TRUESDALE', 'LAKE SHERWOOD',\n",
       "       'DUTZOW', 'INNSBROOK', 'POTOSI', 'MINERAL POINT', 'BELGRADE',\n",
       "       'TIFF', 'PATTERSON', 'GREENVILLE', 'MILL SPRING', 'LODI', 'CLUBB',\n",
       "       'LOWNDES', 'GLEN ALLEN', 'NIANGUA', 'HARTVILLE', 'ALLENDALE'],\n",
       "      dtype=object)"
      ]
     },
     "execution_count": 50,
     "metadata": {},
     "output_type": "execute_result"
    }
   ],
   "source": [
    "### City ###\n",
    "# Cities are the most difficult to normalize bc of wide variety of cities/formats\n",
    "# State seems to have normalized them, though\n",
    "# The only step left w/ addresses would be to standardize these fields/addresses against USPS\n",
    "# There are several Python libraries that do this, but \n",
    "# Doing so is outside of the scope of work here, so we leave it\n",
    "\n",
    "voters['residential_city'].unique()"
   ]
  },
  {
   "cell_type": "code",
   "execution_count": 51,
   "id": "526d4532",
   "metadata": {},
   "outputs": [
    {
     "name": "stdout",
     "output_type": "stream",
     "text": [
      "989\n"
     ]
    }
   ],
   "source": [
    "# How many unique cities are there? 989, which seems reasonable:\n",
    "# There are roughly 1,000 muni governments, and several other types of smaller gov'ts in MO\n",
    "# https://www2.census.gov/govs/cog/gc0212mo.pdf\n",
    "\n",
    "print(len(voters['residential_city'].unique()))"
   ]
  },
  {
   "cell_type": "code",
   "execution_count": 52,
   "id": "8a3bb1f5",
   "metadata": {},
   "outputs": [],
   "source": [
    "### Conclude ###"
   ]
  },
  {
   "cell_type": "code",
   "execution_count": 53,
   "id": "4c230d25",
   "metadata": {},
   "outputs": [],
   "source": [
    "# Before exporting, we need to:\n",
    "# Rename specified fields in the df to match the prior TAP MO voter data file format and\n",
    "# Create source flag in new file (in joined file at end, 1 = old data, 2 = new)\n",
    "# Create a new df that has only the data we need\n",
    "# Join it with the old file\n",
    "# Check for duplicates in new, joined file, create dupe flag in join file based on check\n",
    "# Export\n",
    "# That's all, folks!"
   ]
  },
  {
   "cell_type": "code",
   "execution_count": 54,
   "id": "9ad3442b",
   "metadata": {},
   "outputs": [],
   "source": [
    "# Change names of columns to match the prior file \n",
    "\n",
    "voters.rename(columns = {'address_norm':'address_clean', 'residential_city':'city', 'residential_state': 'state', 'residential_zipcode': 'zip', 'birthdate': 'birth_date', 'registration_date': 'reg_date', 'congressional_district_20': 'congressional', 'legislative_district_20': 'legislative', 'senate_district_20': 'state_senate', 'voter_history_1': 'last_election'}, inplace = True)"
   ]
  },
  {
   "cell_type": "code",
   "execution_count": 55,
   "id": "0f96780f",
   "metadata": {},
   "outputs": [
    {
     "name": "stdout",
     "output_type": "stream",
     "text": [
      "<class 'pandas.core.frame.DataFrame'>\n",
      "Int64Index: 4268187 entries, 1 to 4268187\n",
      "Data columns (total 57 columns):\n",
      " #   Column                Dtype         \n",
      "---  ------                -----         \n",
      " 0   county                object        \n",
      " 1   voter_id              object        \n",
      " 2   first_name            object        \n",
      " 3   middle_name           object        \n",
      " 4   last_name             object        \n",
      " 5   suffix                object        \n",
      " 6   house_number          object        \n",
      " 7   house_suffix          object        \n",
      " 8   pre_direction         object        \n",
      " 9   street_name           object        \n",
      " 10  street_type           object        \n",
      " 11  post_direction        object        \n",
      " 12  unit_type             object        \n",
      " 13  unit_number           object        \n",
      " 14  non_standard_address  object        \n",
      " 15  city                  object        \n",
      " 16  state                 object        \n",
      " 17  zip                   object        \n",
      " 18  mailing_address       object        \n",
      " 19  mailing_city          object        \n",
      " 20  mailing_state         object        \n",
      " 21  mailing_zipcode       object        \n",
      " 22  birth_date            int64         \n",
      " 23  political_party       object        \n",
      " 24  reg_date              datetime64[ns]\n",
      " 25  precinct              object        \n",
      " 26  precinct_name         object        \n",
      " 27  split                 object        \n",
      " 28  township              object        \n",
      " 29  ward                  object        \n",
      " 30  congressional         object        \n",
      " 31  legislative           object        \n",
      " 32  state_senate          object        \n",
      " 33  voter_status          object        \n",
      " 34  last_election         object        \n",
      " 35  voter_history_2       object        \n",
      " 36  voter_history_3       object        \n",
      " 37  voter_history_4       object        \n",
      " 38  voter_history_5       object        \n",
      " 39  voter_history_6       object        \n",
      " 40  voter_history_7       object        \n",
      " 41  voter_history_8       object        \n",
      " 42  voter_history_9       object        \n",
      " 43  voter_history_10      object        \n",
      " 44  voter_history_11      object        \n",
      " 45  voter_history_12      object        \n",
      " 46  voter_history_13      object        \n",
      " 47  voter_history_14      object        \n",
      " 48  voter_history_15      object        \n",
      " 49  voter_history_16      object        \n",
      " 50  voter_history_17      object        \n",
      " 51  voter_history_18      object        \n",
      " 52  voter_history_19      object        \n",
      " 53  voter_history_20      object        \n",
      " 54  dupe_flag             object        \n",
      " 55  address_clean         object        \n",
      " 56  zip_clean             object        \n",
      "dtypes: datetime64[ns](1), int64(1), object(55)\n",
      "memory usage: 1.8+ GB\n"
     ]
    }
   ],
   "source": [
    "voters.info()"
   ]
  },
  {
   "cell_type": "code",
   "execution_count": 56,
   "id": "3a16d599",
   "metadata": {},
   "outputs": [],
   "source": [
    "# Create fields that don't exist in df currently but are in old data\n",
    "\n",
    "voters['reg_year'] = voters['reg_date'].dt.year\n",
    "voters['source'] = 2\n",
    "voters['zip_clean'] = voters['zip']\n",
    "voters['city_clean'] = voters['city']"
   ]
  },
  {
   "cell_type": "code",
   "execution_count": 57,
   "id": "33c83f9f",
   "metadata": {},
   "outputs": [],
   "source": [
    "# Define fields needed\n",
    "\n",
    "fields_needed = ['county', 'voter_id', 'first_name', 'middle_name', 'last_name', 'suffix', 'house_number', 'house_suffix', 'pre_direction', 'street_name', 'street_type', 'post_direction', 'unit_type', 'unit_number', 'non_standard_address', 'city', 'state', 'zip', 'birth_date', 'reg_date', 'precinct', 'precinct_name', 'split', 'township', 'ward', 'congressional', 'legislative', 'state_senate', 'voter_status', 'last_election', 'source', 'dupe_flag', 'reg_year', 'address_clean', 'zip_clean', 'city_clean']"
   ]
  },
  {
   "cell_type": "code",
   "execution_count": 58,
   "id": "4bd77d9c",
   "metadata": {},
   "outputs": [],
   "source": [
    "# Filter df to only those fields \n",
    "\n",
    "voters_tap = voters[fields_needed]"
   ]
  },
  {
   "cell_type": "code",
   "execution_count": 59,
   "id": "fe65d74c",
   "metadata": {},
   "outputs": [],
   "source": [
    "# Join (concat) the 2023 data and the prior (obtained in 2020) file\n",
    "\n",
    "joined = pd.concat([voters_tap, keepers])"
   ]
  },
  {
   "cell_type": "code",
   "execution_count": 60,
   "id": "391e6b72",
   "metadata": {},
   "outputs": [],
   "source": [
    "# Now we need to check the joined file for duplicate values\n",
    "# keep=False here is marking all duplicates, based on voter_id, as True\n",
    "# The dupe analysis based on unique IDs seems to indicate there aren't any\n",
    "# BUT, caveat: There are unique IDs, and still duplicate voters; see below\n",
    "\n",
    "is_duplicated = joined['voter_id'].duplicated(keep=False)"
   ]
  },
  {
   "cell_type": "code",
   "execution_count": 61,
   "id": "da8a5d7b",
   "metadata": {},
   "outputs": [
    {
     "name": "stdout",
     "output_type": "stream",
     "text": [
      "In the 2023 and 2020 data, combined, there are 3,969 duplicates.\n"
     ]
    }
   ],
   "source": [
    "# Check for duplicates across name, birthdate, mailing ZIP\n",
    "# Reveals that despite unique voter IDs (per Kiernan's R script), there are dupes\n",
    "# Recast dupe_flag based on this\n",
    "\n",
    "duped_names = joined.duplicated(subset=[\"first_name\", \"last_name\", \"birth_date\", \"zip\"])\n",
    "\n",
    "# This filters the dataframe to only the duplicated names \n",
    "\n",
    "names_duped = joined[duped_names]\n",
    "\n",
    "# This recasts the dupe flag\n",
    "joined['dupe_flag'] = np.where(joined.duplicated(subset=[\"first_name\", \"last_name\", \"birth_date\", \"zip\"], keep=False), 'TRUE', 'FALSE')\n",
    "\n",
    "t = ['TRUE']\n",
    "filtered_t = joined[joined['dupe_flag'].isin(t)]\n",
    "print('In the 2023 and 2020 data, combined, there are ' + \"{:,}\".format(len(filtered_t['voter_id'])) + ' duplicates.')\n",
    "# trues = (joined['dupe_flag'] == 'TRUE')\n",
    "# print(trues)\n",
    "# print('In the 2023 and 2020 data, combined, there are ' + \"{:,}\".format(len(trues)) + ' duplicates.')"
   ]
  },
  {
   "cell_type": "code",
   "execution_count": 62,
   "id": "5ceae87f",
   "metadata": {},
   "outputs": [
    {
     "name": "stdout",
     "output_type": "stream",
     "text": [
      "FALSE    4970590\n",
      "TRUE        3969\n",
      "Name: dupe_flag, dtype: int64\n"
     ]
    }
   ],
   "source": [
    "print(joined.dupe_flag.value_counts())"
   ]
  },
  {
   "cell_type": "code",
   "execution_count": 63,
   "id": "232d5137",
   "metadata": {},
   "outputs": [],
   "source": [
    "# Export for TAP\n",
    "\n",
    "#joined.to_csv('mo_voters_2023.csv')"
   ]
  },
  {
   "cell_type": "code",
   "execution_count": 62,
   "id": "d320bef2",
   "metadata": {},
   "outputs": [],
   "source": [
    "### Steps for double-checking data are below"
   ]
  },
  {
   "cell_type": "code",
   "execution_count": 201,
   "id": "9a30625e",
   "metadata": {},
   "outputs": [],
   "source": [
    "# Take a random sample of 500 rows, export to csv (for testing)\n",
    "\n",
    "random_sample = joined.sample(n=500)\n",
    "random_sample.to_csv('random_sample.csv', index=False)"
   ]
  },
  {
   "cell_type": "code",
   "execution_count": 202,
   "id": "67e6afb0",
   "metadata": {},
   "outputs": [],
   "source": [
    "# Checking the joined dupe flag\n",
    "# Export 500 random rows\n",
    "\n",
    "selected_rows_df = joined.head(500)\n",
    "selected_rows_df.to_csv('selected_rows.csv', index=False)"
   ]
  },
  {
   "cell_type": "code",
   "execution_count": 203,
   "id": "0b5cfde4",
   "metadata": {},
   "outputs": [],
   "source": [
    "### For checking:\n",
    "column_to_filter_r = random_sample['voter_id']\n",
    "column_to_filter_s = selected_rows_df['voter_id']"
   ]
  },
  {
   "cell_type": "code",
   "execution_count": 204,
   "id": "84517147",
   "metadata": {},
   "outputs": [
    {
     "name": "stdout",
     "output_type": "stream",
     "text": [
      "<class 'pandas.core.frame.DataFrame'>\n",
      "Int64Index: 4268187 entries, 1 to 4268187\n",
      "Data columns (total 54 columns):\n",
      " #   Column                     Dtype \n",
      "---  ------                     ----- \n",
      " 0   county                     object\n",
      " 1   voter_id                   object\n",
      " 2   first_name                 object\n",
      " 3   middle_name                object\n",
      " 4   last_name                  object\n",
      " 5   suffix                     object\n",
      " 6   house_number               object\n",
      " 7   house_suffix               object\n",
      " 8   pre_direction              object\n",
      " 9   street_name                object\n",
      " 10  street_type                object\n",
      " 11  post_direction             object\n",
      " 12  unit_type                  object\n",
      " 13  unit_number                object\n",
      " 14  non_standard_address       object\n",
      " 15  residential_city           object\n",
      " 16  residential_state          object\n",
      " 17  residential_zipcode        object\n",
      " 18  mailing_address            object\n",
      " 19  mailing_city               object\n",
      " 20  mailing_state              object\n",
      " 21  mailing_zipcode            object\n",
      " 22  birthdate                  object\n",
      " 23  political_party            object\n",
      " 24  registration_date          object\n",
      " 25  precinct                   object\n",
      " 26  precinct_name              object\n",
      " 27  split                      object\n",
      " 28  township                   object\n",
      " 29  ward                       object\n",
      " 30  congressional_district_20  object\n",
      " 31  legislative_district_20    object\n",
      " 32  senate_district_20         object\n",
      " 33  voter_status               object\n",
      " 34  voter_history_1            object\n",
      " 35  voter_history_2            object\n",
      " 36  voter_history_3            object\n",
      " 37  voter_history_4            object\n",
      " 38  voter_history_5            object\n",
      " 39  voter_history_6            object\n",
      " 40  voter_history_7            object\n",
      " 41  voter_history_8            object\n",
      " 42  voter_history_9            object\n",
      " 43  voter_history_10           object\n",
      " 44  voter_history_11           object\n",
      " 45  voter_history_12           object\n",
      " 46  voter_history_13           object\n",
      " 47  voter_history_14           object\n",
      " 48  voter_history_15           object\n",
      " 49  voter_history_16           object\n",
      " 50  voter_history_17           object\n",
      " 51  voter_history_18           object\n",
      " 52  voter_history_19           object\n",
      " 53  voter_history_20           object\n",
      "dtypes: object(54)\n",
      "memory usage: 1.7+ GB\n"
     ]
    }
   ],
   "source": [
    "testdf.info()"
   ]
  },
  {
   "cell_type": "code",
   "execution_count": 205,
   "id": "567c3d1d",
   "metadata": {},
   "outputs": [],
   "source": [
    "filtered_df_r_20 = voters20[voters20['voter_id'].isin(column_to_filter_r)]\n",
    "filtered_df_s_20 = voters20[voters20['voter_id'].isin(column_to_filter_s)]\n",
    "filtered_df_r_23 = testdf[testdf['voter_id'].isin(column_to_filter_r)]\n",
    "filtered_df_s_23 = testdf[testdf['voter_id'].isin(column_to_filter_r)]"
   ]
  },
  {
   "cell_type": "code",
   "execution_count": 207,
   "id": "981374f6",
   "metadata": {},
   "outputs": [],
   "source": [
    "filtered_df_r_20.to_csv('random_sample_test_rows20.csv')\n",
    "filtered_df_s_20.to_csv('selected_rows_test_rows20.csv')\n",
    "filtered_df_r_23.to_csv('random_sample_test_rows23.csv')\n",
    "filtered_df_s_23.to_csv('selected_rows_test_rows23.csv')"
   ]
  },
  {
   "cell_type": "code",
   "execution_count": null,
   "id": "cca222e3",
   "metadata": {},
   "outputs": [],
   "source": []
  }
 ],
 "metadata": {
  "kernelspec": {
   "display_name": "Python 3 (ipykernel)",
   "language": "python",
   "name": "python3"
  },
  "language_info": {
   "codemirror_mode": {
    "name": "ipython",
    "version": 3
   },
   "file_extension": ".py",
   "mimetype": "text/x-python",
   "name": "python",
   "nbconvert_exporter": "python",
   "pygments_lexer": "ipython3",
   "version": "3.7.3"
  }
 },
 "nbformat": 4,
 "nbformat_minor": 5
}
